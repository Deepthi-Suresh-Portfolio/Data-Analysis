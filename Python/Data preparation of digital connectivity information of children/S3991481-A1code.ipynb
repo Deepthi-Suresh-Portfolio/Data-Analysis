{
 "cells": [
  {
   "cell_type": "code",
   "execution_count": 7,
   "metadata": {},
   "outputs": [],
   "source": [
    "import pandas as pd"
   ]
  },
  {
   "cell_type": "code",
   "execution_count": 9,
   "metadata": {},
   "outputs": [],
   "source": [
    "#Reading in the CSV file\n",
    "data = pd.read_csv(\"A1data.csv\",sep=',',decimal='.',header=0, parse_dates=True)"
   ]
  },
  {
   "cell_type": "code",
   "execution_count": 11,
   "metadata": {},
   "outputs": [
    {
     "data": {
      "text/html": [
       "<div>\n",
       "<style scoped>\n",
       "    .dataframe tbody tr th:only-of-type {\n",
       "        vertical-align: middle;\n",
       "    }\n",
       "\n",
       "    .dataframe tbody tr th {\n",
       "        vertical-align: top;\n",
       "    }\n",
       "\n",
       "    .dataframe thead th {\n",
       "        text-align: right;\n",
       "    }\n",
       "</style>\n",
       "<table border=\"1\" class=\"dataframe\">\n",
       "  <thead>\n",
       "    <tr style=\"text-align: right;\">\n",
       "      <th></th>\n",
       "      <th>ISO3</th>\n",
       "      <th>Countries and areas</th>\n",
       "      <th>Region</th>\n",
       "      <th>Sub-region</th>\n",
       "      <th>Income Group</th>\n",
       "      <th>Total</th>\n",
       "      <th>Residence (Rural)</th>\n",
       "      <th>Residence (Urban)</th>\n",
       "      <th>Wealth quintile (Poorest)</th>\n",
       "      <th>Wealth quintile (Richest)</th>\n",
       "      <th>Time period</th>\n",
       "    </tr>\n",
       "  </thead>\n",
       "  <tbody>\n",
       "    <tr>\n",
       "      <th>0</th>\n",
       "      <td>DZA</td>\n",
       "      <td>Algeria</td>\n",
       "      <td>MENA</td>\n",
       "      <td>MENA</td>\n",
       "      <td>Upper middle income (UM)</td>\n",
       "      <td>25%</td>\n",
       "      <td>10%</td>\n",
       "      <td>33%</td>\n",
       "      <td>1%</td>\n",
       "      <td>78%</td>\n",
       "      <td>2018-2019</td>\n",
       "    </tr>\n",
       "    <tr>\n",
       "      <th>1</th>\n",
       "      <td>AGO</td>\n",
       "      <td>Angola</td>\n",
       "      <td>SSA</td>\n",
       "      <td>ESA</td>\n",
       "      <td>Lower middle income (LM)</td>\n",
       "      <td>19%</td>\n",
       "      <td>2%</td>\n",
       "      <td>27%</td>\n",
       "      <td>0%</td>\n",
       "      <td>62%</td>\n",
       "      <td>2015-2016</td>\n",
       "    </tr>\n",
       "  </tbody>\n",
       "</table>\n",
       "</div>"
      ],
      "text/plain": [
       "  ISO3 Countries and areas Region Sub-region              Income Group Total  \\\n",
       "0  DZA             Algeria   MENA       MENA  Upper middle income (UM)   25%   \n",
       "1  AGO              Angola    SSA        ESA  Lower middle income (LM)   19%   \n",
       "\n",
       "  Residence (Rural) Residence (Urban) Wealth quintile (Poorest)  \\\n",
       "0               10%               33%                        1%   \n",
       "1                2%               27%                        0%   \n",
       "\n",
       "  Wealth quintile (Richest) Time period  \n",
       "0                       78%   2018-2019  \n",
       "1                       62%   2015-2016  "
      ]
     },
     "execution_count": 11,
     "metadata": {},
     "output_type": "execute_result"
    }
   ],
   "source": [
    "data.head(2)"
   ]
  },
  {
   "cell_type": "code",
   "execution_count": 4,
   "metadata": {},
   "outputs": [
    {
     "data": {
      "text/plain": [
       "(90, 11)"
      ]
     },
     "execution_count": 4,
     "metadata": {},
     "output_type": "execute_result"
    }
   ],
   "source": [
    "data.shape"
   ]
  },
  {
   "cell_type": "code",
   "execution_count": 5,
   "metadata": {},
   "outputs": [
    {
     "data": {
      "text/plain": [
       "ISO3                         object\n",
       "Countries and areas          object\n",
       "Region                       object\n",
       "Sub-region                   object\n",
       "Income Group                 object\n",
       "Total                        object\n",
       "Residence (Rural)            object\n",
       "Residence (Urban)            object\n",
       "Wealth quintile (Poorest)    object\n",
       "Wealth quintile (Richest)    object\n",
       "Time period                  object\n",
       "dtype: object"
      ]
     },
     "execution_count": 5,
     "metadata": {},
     "output_type": "execute_result"
    }
   ],
   "source": [
    "data.dtypes"
   ]
  },
  {
   "cell_type": "code",
   "execution_count": 6,
   "metadata": {},
   "outputs": [
    {
     "data": {
      "text/plain": [
       "Countries and areas  Income Group              Time period\n",
       "Togo                 Low income (L)            2017           3\n",
       "Guatemala            Upper middle income (UM)  2014-2015      2\n",
       "Algeria              Upper middle income (UM)  2018-2019      1\n",
       "Sierra Leone         Low income (L)            2017           1\n",
       "Senegal              Lower middle income (LM)  2017           1\n",
       "                                                             ..\n",
       "Georgia              Upper middle income (UM)  2018           1\n",
       "Gambia               Low income (L)            2018           1\n",
       "Egypt                Lower middle income (LM)  2015           1\n",
       "Ecuador              Upper middle income (UM)  2018           1\n",
       "Zimbabwe             Lower middle income (LM)  2018-2019      1\n",
       "Length: 87, dtype: int64"
      ]
     },
     "execution_count": 6,
     "metadata": {},
     "output_type": "execute_result"
    }
   ],
   "source": [
    "data[[\"Countries and areas\",\"Income Group\",\"Time period\"]].value_counts() # duplicated rows"
   ]
  },
  {
   "cell_type": "code",
   "execution_count": 7,
   "metadata": {},
   "outputs": [
    {
     "data": {
      "text/html": [
       "<div>\n",
       "<style scoped>\n",
       "    .dataframe tbody tr th:only-of-type {\n",
       "        vertical-align: middle;\n",
       "    }\n",
       "\n",
       "    .dataframe tbody tr th {\n",
       "        vertical-align: top;\n",
       "    }\n",
       "\n",
       "    .dataframe thead th {\n",
       "        text-align: right;\n",
       "    }\n",
       "</style>\n",
       "<table border=\"1\" class=\"dataframe\">\n",
       "  <thead>\n",
       "    <tr style=\"text-align: right;\">\n",
       "      <th></th>\n",
       "      <th>ISO3</th>\n",
       "      <th>Countries and areas</th>\n",
       "      <th>Region</th>\n",
       "      <th>Sub-region</th>\n",
       "      <th>Income Group</th>\n",
       "      <th>Total</th>\n",
       "      <th>Residence (Rural)</th>\n",
       "      <th>Residence (Urban)</th>\n",
       "      <th>Wealth quintile (Poorest)</th>\n",
       "      <th>Wealth quintile (Richest)</th>\n",
       "      <th>Time period</th>\n",
       "    </tr>\n",
       "  </thead>\n",
       "  <tbody>\n",
       "    <tr>\n",
       "      <th>30</th>\n",
       "      <td>GTM</td>\n",
       "      <td>Guatemala</td>\n",
       "      <td>LAC</td>\n",
       "      <td>LAC</td>\n",
       "      <td>Upper middle income (UM)</td>\n",
       "      <td>10%</td>\n",
       "      <td>3%</td>\n",
       "      <td>20%</td>\n",
       "      <td>0%</td>\n",
       "      <td>49%</td>\n",
       "      <td>2014-2015</td>\n",
       "    </tr>\n",
       "    <tr>\n",
       "      <th>75</th>\n",
       "      <td>TGO</td>\n",
       "      <td>Togo</td>\n",
       "      <td>SSA</td>\n",
       "      <td>WCA</td>\n",
       "      <td>Low income (L)</td>\n",
       "      <td>24%</td>\n",
       "      <td>8%</td>\n",
       "      <td>49%</td>\n",
       "      <td>0%</td>\n",
       "      <td>78%</td>\n",
       "      <td>2017</td>\n",
       "    </tr>\n",
       "    <tr>\n",
       "      <th>76</th>\n",
       "      <td>TGO</td>\n",
       "      <td>Togo</td>\n",
       "      <td>SSA</td>\n",
       "      <td>WCA</td>\n",
       "      <td>Low income (L)</td>\n",
       "      <td>24%</td>\n",
       "      <td>8%</td>\n",
       "      <td>49%</td>\n",
       "      <td>0%</td>\n",
       "      <td>78%</td>\n",
       "      <td>2017</td>\n",
       "    </tr>\n",
       "  </tbody>\n",
       "</table>\n",
       "</div>"
      ],
      "text/plain": [
       "   ISO3 Countries and areas Region Sub-region              Income Group Total  \\\n",
       "30  GTM           Guatemala    LAC        LAC  Upper middle income (UM)   10%   \n",
       "75  TGO                Togo    SSA        WCA            Low income (L)   24%   \n",
       "76  TGO                Togo    SSA        WCA            Low income (L)   24%   \n",
       "\n",
       "   Residence (Rural) Residence (Urban) Wealth quintile (Poorest)  \\\n",
       "30                3%               20%                        0%   \n",
       "75                8%               49%                        0%   \n",
       "76                8%               49%                        0%   \n",
       "\n",
       "   Wealth quintile (Richest) Time period  \n",
       "30                       49%   2014-2015  \n",
       "75                       78%        2017  \n",
       "76                       78%        2017  "
      ]
     },
     "execution_count": 7,
     "metadata": {},
     "output_type": "execute_result"
    }
   ],
   "source": [
    "data.loc[data.duplicated()] # To see the rows that are duplicated"
   ]
  },
  {
   "cell_type": "code",
   "execution_count": 8,
   "metadata": {},
   "outputs": [],
   "source": [
    "data = data.drop_duplicates() # Removing the duplicated data"
   ]
  },
  {
   "cell_type": "code",
   "execution_count": 9,
   "metadata": {},
   "outputs": [
    {
     "data": {
      "text/plain": [
       "Countries and areas  \n",
       "Algeria                  1\n",
       "North Macedonia          1\n",
       "Serbia                   1\n",
       "Senegal                  1\n",
       "Sao Tome and Principe    1\n",
       "                        ..\n",
       "Georgia                  1\n",
       "Gambia                   1\n",
       "Egypt                    1\n",
       "Ecuador                  1\n",
       "Zimbabwe                 1\n",
       "Length: 87, dtype: int64"
      ]
     },
     "execution_count": 9,
     "metadata": {},
     "output_type": "execute_result"
    }
   ],
   "source": [
    "data[[\"Countries and areas\"]].value_counts() #Checking if the error was fixed."
   ]
  },
  {
   "cell_type": "code",
   "execution_count": 10,
   "metadata": {},
   "outputs": [
    {
     "data": {
      "text/plain": [
       "Income Group             \n",
       "Upper middle income (UM)     32\n",
       "Lower middle income (LM)     28\n",
       "Low income (L)               18\n",
       "High income (H)               7\n",
       "Lower middle income (LLM)     1\n",
       "Lower middle income (LMM)     1\n",
       "dtype: int64"
      ]
     },
     "execution_count": 10,
     "metadata": {},
     "output_type": "execute_result"
    }
   ],
   "source": [
    "data[[\"Income Group\"]].value_counts() # Error 2- Data Entry Errors - Typos"
   ]
  },
  {
   "cell_type": "code",
   "execution_count": 11,
   "metadata": {},
   "outputs": [],
   "source": [
    "#Correcting the typos in Income Group\n",
    "\n",
    "data.loc[(data[\"Income Group\"] == \"Lower middle income (LLM)\") | (data[\"Income Group\"] == \"Lower middle income (LMM)\"), \"Income Group\"]= \"Lower middle income (LM)\""
   ]
  },
  {
   "cell_type": "code",
   "execution_count": 12,
   "metadata": {},
   "outputs": [
    {
     "data": {
      "text/plain": [
       "Upper middle income (UM)    32\n",
       "Lower middle income (LM)    30\n",
       "Low income (L)              18\n",
       "High income (H)              7\n",
       "Name: Income Group, dtype: int64"
      ]
     },
     "execution_count": 12,
     "metadata": {},
     "output_type": "execute_result"
    }
   ],
   "source": [
    "data[\"Income Group\"].value_counts() # Checking if the errors were rectified"
   ]
  },
  {
   "cell_type": "code",
   "execution_count": 13,
   "metadata": {},
   "outputs": [
    {
     "data": {
      "text/plain": [
       "Time period\n",
       "2018           16\n",
       "2019            9\n",
       "2018-2019       9\n",
       "2017            8\n",
       "2013            6\n",
       "2012            5\n",
       "2017-2018       5\n",
       "2015-2016       4\n",
       "2015            4\n",
       "2016            3\n",
       "2010            3\n",
       "2014-2015       3\n",
       "2014            3\n",
       "2011-2012       3\n",
       "2016-2017       2\n",
       "2011            1\n",
       "2012-2099       1\n",
       "2076            1\n",
       "3562            1\n",
       "dtype: int64"
      ]
     },
     "execution_count": 13,
     "metadata": {},
     "output_type": "execute_result"
    }
   ],
   "source": [
    "data[[\"Time period\"]].value_counts() #Error 3 - Impossible values and Inconsistencies"
   ]
  },
  {
   "cell_type": "code",
   "execution_count": 14,
   "metadata": {},
   "outputs": [],
   "source": [
    "def year(i): # Creating a function to split time periods and take in only the starting year\n",
    "    if \"-\" in i:\n",
    "        i= i.split(\"-\")\n",
    "        return(i[0])\n",
    "    else:\n",
    "        return(i)\n",
    "\n",
    "data[\"Time period\"]= data[\"Time period\"].apply(year) #applying the above function"
   ]
  },
  {
   "cell_type": "code",
   "execution_count": 15,
   "metadata": {},
   "outputs": [
    {
     "data": {
      "text/plain": [
       "Time period\n",
       "2018           25\n",
       "2017           13\n",
       "2019            9\n",
       "2015            8\n",
       "2012            6\n",
       "2013            6\n",
       "2014            6\n",
       "2016            5\n",
       "2011            4\n",
       "2010            3\n",
       "2076            1\n",
       "3562            1\n",
       "dtype: int64"
      ]
     },
     "execution_count": 15,
     "metadata": {},
     "output_type": "execute_result"
    }
   ],
   "source": [
    "data[[\"Time period\"]].value_counts()"
   ]
  },
  {
   "cell_type": "code",
   "execution_count": 16,
   "metadata": {},
   "outputs": [],
   "source": [
    "data[\"Time period\"] = data[\"Time period\"].astype(int)"
   ]
  },
  {
   "cell_type": "code",
   "execution_count": 17,
   "metadata": {},
   "outputs": [],
   "source": [
    "data = data[data[\"Time period\"] <= 2024] #Removing impossible values"
   ]
  },
  {
   "cell_type": "code",
   "execution_count": 18,
   "metadata": {},
   "outputs": [
    {
     "data": {
      "text/plain": [
       "Time period\n",
       "2018           25\n",
       "2017           13\n",
       "2019            9\n",
       "2015            8\n",
       "2012            6\n",
       "2013            6\n",
       "2014            6\n",
       "2016            5\n",
       "2011            4\n",
       "2010            3\n",
       "dtype: int64"
      ]
     },
     "execution_count": 18,
     "metadata": {},
     "output_type": "execute_result"
    }
   ],
   "source": [
    "data[[\"Time period\"]].value_counts()"
   ]
  },
  {
   "cell_type": "code",
   "execution_count": 19,
   "metadata": {},
   "outputs": [
    {
     "data": {
      "text/plain": [
       "ISO3                         0\n",
       "Countries and areas          0\n",
       "Region                       0\n",
       "Sub-region                   0\n",
       "Income Group                 0\n",
       "Total                        0\n",
       "Residence (Rural)            5\n",
       "Residence (Urban)            4\n",
       "Wealth quintile (Poorest)    7\n",
       "Wealth quintile (Richest)    7\n",
       "Time period                  0\n",
       "dtype: int64"
      ]
     },
     "execution_count": 19,
     "metadata": {},
     "output_type": "execute_result"
    }
   ],
   "source": [
    "data.isna().sum() # Error 4 Missing values"
   ]
  },
  {
   "cell_type": "code",
   "execution_count": 20,
   "metadata": {},
   "outputs": [],
   "source": [
    "missing_values= data.loc[data[[\"Residence (Rural)\",\"Residence (Urban)\",\"Wealth quintile (Poorest)\",\"Wealth quintile (Richest)\"]].\\\n",
    "isna().all(axis=1)]"
   ]
  },
  {
   "cell_type": "code",
   "execution_count": 21,
   "metadata": {},
   "outputs": [
    {
     "data": {
      "text/html": [
       "<div>\n",
       "<style scoped>\n",
       "    .dataframe tbody tr th:only-of-type {\n",
       "        vertical-align: middle;\n",
       "    }\n",
       "\n",
       "    .dataframe tbody tr th {\n",
       "        vertical-align: top;\n",
       "    }\n",
       "\n",
       "    .dataframe thead th {\n",
       "        text-align: right;\n",
       "    }\n",
       "</style>\n",
       "<table border=\"1\" class=\"dataframe\">\n",
       "  <thead>\n",
       "    <tr style=\"text-align: right;\">\n",
       "      <th></th>\n",
       "      <th>ISO3</th>\n",
       "      <th>Countries and areas</th>\n",
       "      <th>Region</th>\n",
       "      <th>Sub-region</th>\n",
       "      <th>Income Group</th>\n",
       "      <th>Total</th>\n",
       "      <th>Residence (Rural)</th>\n",
       "      <th>Residence (Urban)</th>\n",
       "      <th>Wealth quintile (Poorest)</th>\n",
       "      <th>Wealth quintile (Richest)</th>\n",
       "      <th>Time period</th>\n",
       "    </tr>\n",
       "  </thead>\n",
       "  <tbody>\n",
       "    <tr>\n",
       "      <th>2</th>\n",
       "      <td>ARG</td>\n",
       "      <td>Argentina</td>\n",
       "      <td>LAC</td>\n",
       "      <td>LAC</td>\n",
       "      <td>Upper middle income (UM)</td>\n",
       "      <td>43%</td>\n",
       "      <td>NaN</td>\n",
       "      <td>NaN</td>\n",
       "      <td>NaN</td>\n",
       "      <td>NaN</td>\n",
       "      <td>2011</td>\n",
       "    </tr>\n",
       "    <tr>\n",
       "      <th>54</th>\n",
       "      <td>NER</td>\n",
       "      <td>Niger</td>\n",
       "      <td>SSA</td>\n",
       "      <td>WCA</td>\n",
       "      <td>Low income (L)</td>\n",
       "      <td>4%</td>\n",
       "      <td>NaN</td>\n",
       "      <td>NaN</td>\n",
       "      <td>NaN</td>\n",
       "      <td>NaN</td>\n",
       "      <td>2014</td>\n",
       "    </tr>\n",
       "    <tr>\n",
       "      <th>66</th>\n",
       "      <td>ZAF</td>\n",
       "      <td>South Africa</td>\n",
       "      <td>SSA</td>\n",
       "      <td>ESA</td>\n",
       "      <td>Upper middle income (UM)</td>\n",
       "      <td>20%</td>\n",
       "      <td>NaN</td>\n",
       "      <td>NaN</td>\n",
       "      <td>NaN</td>\n",
       "      <td>NaN</td>\n",
       "      <td>2014</td>\n",
       "    </tr>\n",
       "    <tr>\n",
       "      <th>84</th>\n",
       "      <td>GBR</td>\n",
       "      <td>United Kingdom</td>\n",
       "      <td>ECA</td>\n",
       "      <td>WE</td>\n",
       "      <td>High income (H)</td>\n",
       "      <td>99%</td>\n",
       "      <td>NaN</td>\n",
       "      <td>NaN</td>\n",
       "      <td>NaN</td>\n",
       "      <td>NaN</td>\n",
       "      <td>2016</td>\n",
       "    </tr>\n",
       "  </tbody>\n",
       "</table>\n",
       "</div>"
      ],
      "text/plain": [
       "   ISO3 Countries and areas Region Sub-region              Income Group Total  \\\n",
       "2   ARG           Argentina    LAC        LAC  Upper middle income (UM)   43%   \n",
       "54  NER               Niger    SSA        WCA            Low income (L)    4%   \n",
       "66  ZAF        South Africa    SSA        ESA  Upper middle income (UM)   20%   \n",
       "84  GBR      United Kingdom    ECA         WE           High income (H)   99%   \n",
       "\n",
       "   Residence (Rural) Residence (Urban) Wealth quintile (Poorest)  \\\n",
       "2                NaN               NaN                       NaN   \n",
       "54               NaN               NaN                       NaN   \n",
       "66               NaN               NaN                       NaN   \n",
       "84               NaN               NaN                       NaN   \n",
       "\n",
       "   Wealth quintile (Richest)  Time period  \n",
       "2                        NaN         2011  \n",
       "54                       NaN         2014  \n",
       "66                       NaN         2014  \n",
       "84                       NaN         2016  "
      ]
     },
     "execution_count": 21,
     "metadata": {},
     "output_type": "execute_result"
    }
   ],
   "source": [
    "missing_values #Finding the rows will Null values across all 4 columns"
   ]
  },
  {
   "cell_type": "code",
   "execution_count": 22,
   "metadata": {},
   "outputs": [],
   "source": [
    "data = data.drop(missing_values.index) # Dropping the rows will Null values across all 4 columns"
   ]
  },
  {
   "cell_type": "code",
   "execution_count": 23,
   "metadata": {},
   "outputs": [
    {
     "data": {
      "text/plain": [
       "ISO3                         0\n",
       "Countries and areas          0\n",
       "Region                       0\n",
       "Sub-region                   0\n",
       "Income Group                 0\n",
       "Total                        0\n",
       "Residence (Rural)            1\n",
       "Residence (Urban)            0\n",
       "Wealth quintile (Poorest)    3\n",
       "Wealth quintile (Richest)    3\n",
       "Time period                  0\n",
       "dtype: int64"
      ]
     },
     "execution_count": 23,
     "metadata": {},
     "output_type": "execute_result"
    }
   ],
   "source": [
    "data.isna().sum() #Updated Missing values"
   ]
  },
  {
   "cell_type": "code",
   "execution_count": 24,
   "metadata": {},
   "outputs": [
    {
     "data": {
      "text/html": [
       "<div>\n",
       "<style scoped>\n",
       "    .dataframe tbody tr th:only-of-type {\n",
       "        vertical-align: middle;\n",
       "    }\n",
       "\n",
       "    .dataframe tbody tr th {\n",
       "        vertical-align: top;\n",
       "    }\n",
       "\n",
       "    .dataframe thead th {\n",
       "        text-align: right;\n",
       "    }\n",
       "</style>\n",
       "<table border=\"1\" class=\"dataframe\">\n",
       "  <thead>\n",
       "    <tr style=\"text-align: right;\">\n",
       "      <th></th>\n",
       "      <th>ISO3</th>\n",
       "      <th>Countries and areas</th>\n",
       "      <th>Region</th>\n",
       "      <th>Sub-region</th>\n",
       "      <th>Income Group</th>\n",
       "      <th>Total</th>\n",
       "      <th>Residence (Rural)</th>\n",
       "      <th>Residence (Urban)</th>\n",
       "      <th>Wealth quintile (Poorest)</th>\n",
       "      <th>Wealth quintile (Richest)</th>\n",
       "      <th>Time period</th>\n",
       "    </tr>\n",
       "  </thead>\n",
       "  <tbody>\n",
       "    <tr>\n",
       "      <th>25</th>\n",
       "      <td>EGY</td>\n",
       "      <td>Egypt</td>\n",
       "      <td>MENA</td>\n",
       "      <td>MENA</td>\n",
       "      <td>Lower middle income (LM)</td>\n",
       "      <td>18%</td>\n",
       "      <td>9%</td>\n",
       "      <td>32%</td>\n",
       "      <td>NaN</td>\n",
       "      <td>NaN</td>\n",
       "      <td>2015</td>\n",
       "    </tr>\n",
       "    <tr>\n",
       "      <th>47</th>\n",
       "      <td>MEX</td>\n",
       "      <td>Mexico</td>\n",
       "      <td>LAC</td>\n",
       "      <td>LAC</td>\n",
       "      <td>Upper middle income (UM)</td>\n",
       "      <td>43%</td>\n",
       "      <td>12%</td>\n",
       "      <td>54%</td>\n",
       "      <td>NaN</td>\n",
       "      <td>NaN</td>\n",
       "      <td>2018</td>\n",
       "    </tr>\n",
       "    <tr>\n",
       "      <th>83</th>\n",
       "      <td>UKR</td>\n",
       "      <td>Ukraine</td>\n",
       "      <td>ECA</td>\n",
       "      <td>EECA</td>\n",
       "      <td>Lower middle income (LM)</td>\n",
       "      <td>66%</td>\n",
       "      <td>NaN</td>\n",
       "      <td>66%</td>\n",
       "      <td>NaN</td>\n",
       "      <td>NaN</td>\n",
       "      <td>2013</td>\n",
       "    </tr>\n",
       "  </tbody>\n",
       "</table>\n",
       "</div>"
      ],
      "text/plain": [
       "   ISO3 Countries and areas Region Sub-region              Income Group Total  \\\n",
       "25  EGY               Egypt   MENA       MENA  Lower middle income (LM)   18%   \n",
       "47  MEX              Mexico    LAC        LAC  Upper middle income (UM)   43%   \n",
       "83  UKR             Ukraine    ECA       EECA  Lower middle income (LM)   66%   \n",
       "\n",
       "   Residence (Rural) Residence (Urban) Wealth quintile (Poorest)  \\\n",
       "25                9%               32%                       NaN   \n",
       "47               12%               54%                       NaN   \n",
       "83               NaN               66%                       NaN   \n",
       "\n",
       "   Wealth quintile (Richest)  Time period  \n",
       "25                       NaN         2015  \n",
       "47                       NaN         2018  \n",
       "83                       NaN         2013  "
      ]
     },
     "execution_count": 24,
     "metadata": {},
     "output_type": "execute_result"
    }
   ],
   "source": [
    "data.loc[data[[\"Residence (Rural)\",\"Residence (Urban)\",\"Wealth quintile (Poorest)\",\"Wealth quintile (Richest)\"]].\\\n",
    "isna().any(axis=1)] #Remaining null values"
   ]
  },
  {
   "cell_type": "code",
   "execution_count": 25,
   "metadata": {},
   "outputs": [
    {
     "data": {
      "text/plain": [
       "ISO3                         object\n",
       "Countries and areas          object\n",
       "Region                       object\n",
       "Sub-region                   object\n",
       "Income Group                 object\n",
       "Total                        object\n",
       "Residence (Rural)            object\n",
       "Residence (Urban)            object\n",
       "Wealth quintile (Poorest)    object\n",
       "Wealth quintile (Richest)    object\n",
       "Time period                   int64\n",
       "dtype: object"
      ]
     },
     "execution_count": 25,
     "metadata": {},
     "output_type": "execute_result"
    }
   ],
   "source": [
    "data.dtypes"
   ]
  },
  {
   "cell_type": "code",
   "execution_count": 26,
   "metadata": {},
   "outputs": [],
   "source": [
    "data[[\"Total\", \"Residence (Rural)\", \"Residence (Urban)\", \"Wealth quintile (Poorest)\", \"Wealth quintile (Richest)\"]] = \\\n",
    "data[[\"Total\", \"Residence (Rural)\", \"Residence (Urban)\", \"Wealth quintile (Poorest)\", \"Wealth quintile (Richest)\"]].replace(\"%\", \"\", regex=True).apply(pd.to_numeric)\n",
    "\n",
    "#converting the columns into numeric for further analysis and replacing the \"%\" to blanks"
   ]
  },
  {
   "cell_type": "code",
   "execution_count": 27,
   "metadata": {},
   "outputs": [
    {
     "data": {
      "text/plain": [
       "ISO3                          object\n",
       "Countries and areas           object\n",
       "Region                        object\n",
       "Sub-region                    object\n",
       "Income Group                  object\n",
       "Total                          int64\n",
       "Residence (Rural)            float64\n",
       "Residence (Urban)              int64\n",
       "Wealth quintile (Poorest)    float64\n",
       "Wealth quintile (Richest)    float64\n",
       "Time period                    int64\n",
       "dtype: object"
      ]
     },
     "execution_count": 27,
     "metadata": {},
     "output_type": "execute_result"
    }
   ],
   "source": [
    "data.dtypes #checking if it has been converted to numeric"
   ]
  },
  {
   "cell_type": "code",
   "execution_count": 28,
   "metadata": {},
   "outputs": [
    {
     "data": {
      "text/html": [
       "<div>\n",
       "<style scoped>\n",
       "    .dataframe tbody tr th:only-of-type {\n",
       "        vertical-align: middle;\n",
       "    }\n",
       "\n",
       "    .dataframe tbody tr th {\n",
       "        vertical-align: top;\n",
       "    }\n",
       "\n",
       "    .dataframe thead th {\n",
       "        text-align: right;\n",
       "    }\n",
       "</style>\n",
       "<table border=\"1\" class=\"dataframe\">\n",
       "  <thead>\n",
       "    <tr style=\"text-align: right;\">\n",
       "      <th></th>\n",
       "      <th>ISO3</th>\n",
       "      <th>Countries and areas</th>\n",
       "      <th>Region</th>\n",
       "      <th>Sub-region</th>\n",
       "      <th>Income Group</th>\n",
       "      <th>Total</th>\n",
       "      <th>Residence (Rural)</th>\n",
       "      <th>Residence (Urban)</th>\n",
       "      <th>Wealth quintile (Poorest)</th>\n",
       "      <th>Wealth quintile (Richest)</th>\n",
       "      <th>Time period</th>\n",
       "    </tr>\n",
       "  </thead>\n",
       "  <tbody>\n",
       "    <tr>\n",
       "      <th>0</th>\n",
       "      <td>DZA</td>\n",
       "      <td>Algeria</td>\n",
       "      <td>MENA</td>\n",
       "      <td>MENA</td>\n",
       "      <td>Upper middle income (UM)</td>\n",
       "      <td>25</td>\n",
       "      <td>10.0</td>\n",
       "      <td>33</td>\n",
       "      <td>1.0</td>\n",
       "      <td>78.0</td>\n",
       "      <td>2018</td>\n",
       "    </tr>\n",
       "    <tr>\n",
       "      <th>1</th>\n",
       "      <td>AGO</td>\n",
       "      <td>Angola</td>\n",
       "      <td>SSA</td>\n",
       "      <td>ESA</td>\n",
       "      <td>Lower middle income (LM)</td>\n",
       "      <td>19</td>\n",
       "      <td>2.0</td>\n",
       "      <td>27</td>\n",
       "      <td>0.0</td>\n",
       "      <td>62.0</td>\n",
       "      <td>2015</td>\n",
       "    </tr>\n",
       "    <tr>\n",
       "      <th>3</th>\n",
       "      <td>ARM</td>\n",
       "      <td>Armenia</td>\n",
       "      <td>ECA</td>\n",
       "      <td>EECA</td>\n",
       "      <td>Upper middle income (UM)</td>\n",
       "      <td>81</td>\n",
       "      <td>71.0</td>\n",
       "      <td>89</td>\n",
       "      <td>44.0</td>\n",
       "      <td>99.0</td>\n",
       "      <td>2015</td>\n",
       "    </tr>\n",
       "    <tr>\n",
       "      <th>4</th>\n",
       "      <td>BGD</td>\n",
       "      <td>Bangladesh</td>\n",
       "      <td>SA</td>\n",
       "      <td>SA</td>\n",
       "      <td>Lower middle income (LM)</td>\n",
       "      <td>34</td>\n",
       "      <td>31.0</td>\n",
       "      <td>48</td>\n",
       "      <td>8.0</td>\n",
       "      <td>73.0</td>\n",
       "      <td>2019</td>\n",
       "    </tr>\n",
       "    <tr>\n",
       "      <th>5</th>\n",
       "      <td>BRB</td>\n",
       "      <td>Barbados</td>\n",
       "      <td>LAC</td>\n",
       "      <td>LAC</td>\n",
       "      <td>High income (H)</td>\n",
       "      <td>68</td>\n",
       "      <td>66.0</td>\n",
       "      <td>69</td>\n",
       "      <td>20.0</td>\n",
       "      <td>100.0</td>\n",
       "      <td>2012</td>\n",
       "    </tr>\n",
       "  </tbody>\n",
       "</table>\n",
       "</div>"
      ],
      "text/plain": [
       "  ISO3 Countries and areas Region Sub-region              Income Group  Total  \\\n",
       "0  DZA             Algeria   MENA       MENA  Upper middle income (UM)     25   \n",
       "1  AGO              Angola    SSA        ESA  Lower middle income (LM)     19   \n",
       "3  ARM             Armenia    ECA       EECA  Upper middle income (UM)     81   \n",
       "4  BGD          Bangladesh     SA         SA  Lower middle income (LM)     34   \n",
       "5  BRB            Barbados    LAC        LAC           High income (H)     68   \n",
       "\n",
       "   Residence (Rural)  Residence (Urban)  Wealth quintile (Poorest)  \\\n",
       "0               10.0                 33                        1.0   \n",
       "1                2.0                 27                        0.0   \n",
       "3               71.0                 89                       44.0   \n",
       "4               31.0                 48                        8.0   \n",
       "5               66.0                 69                       20.0   \n",
       "\n",
       "   Wealth quintile (Richest)  Time period  \n",
       "0                       78.0         2018  \n",
       "1                       62.0         2015  \n",
       "3                       99.0         2015  \n",
       "4                       73.0         2019  \n",
       "5                      100.0         2012  "
      ]
     },
     "execution_count": 28,
     "metadata": {},
     "output_type": "execute_result"
    }
   ],
   "source": [
    "data.head() #checking if the percentage sign has been removed"
   ]
  },
  {
   "cell_type": "code",
   "execution_count": 29,
   "metadata": {},
   "outputs": [
    {
     "name": "stderr",
     "output_type": "stream",
     "text": [
      "/var/folders/yd/rntw440s5nqb2tr4l21_n52r0000gn/T/ipykernel_68642/432411056.py:1: FutureWarning: The default value of numeric_only in DataFrame.mean is deprecated. In a future version, it will default to False. In addition, specifying 'numeric_only=None' is deprecated. Select only valid columns or specify the value of numeric_only to silence this warning.\n",
      "  data = data.fillna(data.mean(axis=0))\n"
     ]
    }
   ],
   "source": [
    "data = data.fillna(data.mean(axis=0))"
   ]
  },
  {
   "cell_type": "code",
   "execution_count": 30,
   "metadata": {
    "scrolled": true
   },
   "outputs": [
    {
     "data": {
      "text/plain": [
       "ISO3                         0\n",
       "Countries and areas          0\n",
       "Region                       0\n",
       "Sub-region                   0\n",
       "Income Group                 0\n",
       "Total                        0\n",
       "Residence (Rural)            0\n",
       "Residence (Urban)            0\n",
       "Wealth quintile (Poorest)    0\n",
       "Wealth quintile (Richest)    0\n",
       "Time period                  0\n",
       "dtype: int64"
      ]
     },
     "execution_count": 30,
     "metadata": {},
     "output_type": "execute_result"
    }
   ],
   "source": [
    "data.isna().sum() #checking if the Missing values are corrected"
   ]
  },
  {
   "cell_type": "code",
   "execution_count": 31,
   "metadata": {},
   "outputs": [
    {
     "data": {
      "text/plain": [
       "(81, 11)"
      ]
     },
     "execution_count": 31,
     "metadata": {},
     "output_type": "execute_result"
    }
   ],
   "source": [
    "data.shape"
   ]
  },
  {
   "cell_type": "code",
   "execution_count": 32,
   "metadata": {},
   "outputs": [
    {
     "data": {
      "text/html": [
       "<div>\n",
       "<style scoped>\n",
       "    .dataframe tbody tr th:only-of-type {\n",
       "        vertical-align: middle;\n",
       "    }\n",
       "\n",
       "    .dataframe tbody tr th {\n",
       "        vertical-align: top;\n",
       "    }\n",
       "\n",
       "    .dataframe thead th {\n",
       "        text-align: right;\n",
       "    }\n",
       "</style>\n",
       "<table border=\"1\" class=\"dataframe\">\n",
       "  <thead>\n",
       "    <tr style=\"text-align: right;\">\n",
       "      <th></th>\n",
       "      <th>ISO3</th>\n",
       "      <th>Countries and areas</th>\n",
       "      <th>Region</th>\n",
       "      <th>Sub-region</th>\n",
       "      <th>Income Group</th>\n",
       "      <th>Total</th>\n",
       "      <th>Residence (Rural)</th>\n",
       "      <th>Residence (Urban)</th>\n",
       "      <th>Wealth quintile (Poorest)</th>\n",
       "      <th>Wealth quintile (Richest)</th>\n",
       "      <th>Time period</th>\n",
       "    </tr>\n",
       "  </thead>\n",
       "  <tbody>\n",
       "    <tr>\n",
       "      <th>59</th>\n",
       "      <td>RUS</td>\n",
       "      <td>Russian Federation</td>\n",
       "      <td>ECA</td>\n",
       "      <td>EECA</td>\n",
       "      <td>Upper middle income (UM)</td>\n",
       "      <td>86</td>\n",
       "      <td>79.0</td>\n",
       "      <td>94</td>\n",
       "      <td>88.0</td>\n",
       "      <td>110.0</td>\n",
       "      <td>2018</td>\n",
       "    </tr>\n",
       "  </tbody>\n",
       "</table>\n",
       "</div>"
      ],
      "text/plain": [
       "   ISO3 Countries and areas Region Sub-region              Income Group  \\\n",
       "59  RUS  Russian Federation    ECA       EECA  Upper middle income (UM)   \n",
       "\n",
       "    Total  Residence (Rural)  Residence (Urban)  Wealth quintile (Poorest)  \\\n",
       "59     86               79.0                 94                       88.0   \n",
       "\n",
       "    Wealth quintile (Richest)  Time period  \n",
       "59                      110.0         2018  "
      ]
     },
     "execution_count": 32,
     "metadata": {},
     "output_type": "execute_result"
    }
   ],
   "source": [
    "data.loc[\n",
    "    (data[\"Total\"] > 100) |\n",
    "    (data[\"Residence (Rural)\"] > 100) |\n",
    "    (data[\"Residence (Urban)\"] > 100) |\n",
    "    (data[\"Wealth quintile (Poorest)\"] > 100) |\n",
    "    (data[\"Wealth quintile (Richest)\"] > 100)\n",
    "]\n",
    "#finding the row with more than 100% as its value - Error 5"
   ]
  },
  {
   "cell_type": "code",
   "execution_count": 33,
   "metadata": {},
   "outputs": [],
   "source": [
    "data.loc[59,\"Wealth quintile (Richest)\"] =100 #changing the percentage to 100% for the specific row where the error was found"
   ]
  },
  {
   "cell_type": "code",
   "execution_count": 34,
   "metadata": {},
   "outputs": [],
   "source": [
    "data.to_csv('S3991481-cleaned-A1data.csv', index=False) #copying the cleaned data to CSV"
   ]
  },
  {
   "cell_type": "markdown",
   "metadata": {
    "id": "r-i5aIqXpPbu"
   },
   "source": [
    "# Task 2: Data Exploration"
   ]
  },
  {
   "cell_type": "markdown",
   "metadata": {
    "id": "QOY4K_neos9j"
   },
   "source": [
    "## Task 2.1 "
   ]
  },
  {
   "cell_type": "code",
   "execution_count": 38,
   "metadata": {},
   "outputs": [],
   "source": [
    "#Reading in the cleaned CSV file\n",
    "new_data = pd.read_csv('S3991481-cleaned-A1data.csv',sep=',',decimal='.',header=0) "
   ]
  },
  {
   "cell_type": "code",
   "execution_count": 39,
   "metadata": {},
   "outputs": [
    {
     "data": {
      "text/html": [
       "<div>\n",
       "<style scoped>\n",
       "    .dataframe tbody tr th:only-of-type {\n",
       "        vertical-align: middle;\n",
       "    }\n",
       "\n",
       "    .dataframe tbody tr th {\n",
       "        vertical-align: top;\n",
       "    }\n",
       "\n",
       "    .dataframe thead th {\n",
       "        text-align: right;\n",
       "    }\n",
       "</style>\n",
       "<table border=\"1\" class=\"dataframe\">\n",
       "  <thead>\n",
       "    <tr style=\"text-align: right;\">\n",
       "      <th></th>\n",
       "      <th>ISO3</th>\n",
       "      <th>Countries and areas</th>\n",
       "      <th>Region</th>\n",
       "      <th>Sub-region</th>\n",
       "      <th>Income Group</th>\n",
       "      <th>Total</th>\n",
       "      <th>Residence (Rural)</th>\n",
       "      <th>Residence (Urban)</th>\n",
       "      <th>Wealth quintile (Poorest)</th>\n",
       "      <th>Wealth quintile (Richest)</th>\n",
       "      <th>Time period</th>\n",
       "    </tr>\n",
       "  </thead>\n",
       "  <tbody>\n",
       "    <tr>\n",
       "      <th>0</th>\n",
       "      <td>DZA</td>\n",
       "      <td>Algeria</td>\n",
       "      <td>MENA</td>\n",
       "      <td>MENA</td>\n",
       "      <td>Upper middle income (UM)</td>\n",
       "      <td>25</td>\n",
       "      <td>10.0</td>\n",
       "      <td>33</td>\n",
       "      <td>1.0</td>\n",
       "      <td>78.0</td>\n",
       "      <td>2018</td>\n",
       "    </tr>\n",
       "    <tr>\n",
       "      <th>1</th>\n",
       "      <td>AGO</td>\n",
       "      <td>Angola</td>\n",
       "      <td>SSA</td>\n",
       "      <td>ESA</td>\n",
       "      <td>Lower middle income (LM)</td>\n",
       "      <td>19</td>\n",
       "      <td>2.0</td>\n",
       "      <td>27</td>\n",
       "      <td>0.0</td>\n",
       "      <td>62.0</td>\n",
       "      <td>2015</td>\n",
       "    </tr>\n",
       "    <tr>\n",
       "      <th>2</th>\n",
       "      <td>ARM</td>\n",
       "      <td>Armenia</td>\n",
       "      <td>ECA</td>\n",
       "      <td>EECA</td>\n",
       "      <td>Upper middle income (UM)</td>\n",
       "      <td>81</td>\n",
       "      <td>71.0</td>\n",
       "      <td>89</td>\n",
       "      <td>44.0</td>\n",
       "      <td>99.0</td>\n",
       "      <td>2015</td>\n",
       "    </tr>\n",
       "    <tr>\n",
       "      <th>3</th>\n",
       "      <td>BGD</td>\n",
       "      <td>Bangladesh</td>\n",
       "      <td>SA</td>\n",
       "      <td>SA</td>\n",
       "      <td>Lower middle income (LM)</td>\n",
       "      <td>34</td>\n",
       "      <td>31.0</td>\n",
       "      <td>48</td>\n",
       "      <td>8.0</td>\n",
       "      <td>73.0</td>\n",
       "      <td>2019</td>\n",
       "    </tr>\n",
       "    <tr>\n",
       "      <th>4</th>\n",
       "      <td>BRB</td>\n",
       "      <td>Barbados</td>\n",
       "      <td>LAC</td>\n",
       "      <td>LAC</td>\n",
       "      <td>High income (H)</td>\n",
       "      <td>68</td>\n",
       "      <td>66.0</td>\n",
       "      <td>69</td>\n",
       "      <td>20.0</td>\n",
       "      <td>100.0</td>\n",
       "      <td>2012</td>\n",
       "    </tr>\n",
       "  </tbody>\n",
       "</table>\n",
       "</div>"
      ],
      "text/plain": [
       "  ISO3 Countries and areas Region Sub-region              Income Group  Total  \\\n",
       "0  DZA             Algeria   MENA       MENA  Upper middle income (UM)     25   \n",
       "1  AGO              Angola    SSA        ESA  Lower middle income (LM)     19   \n",
       "2  ARM             Armenia    ECA       EECA  Upper middle income (UM)     81   \n",
       "3  BGD          Bangladesh     SA         SA  Lower middle income (LM)     34   \n",
       "4  BRB            Barbados    LAC        LAC           High income (H)     68   \n",
       "\n",
       "   Residence (Rural)  Residence (Urban)  Wealth quintile (Poorest)  \\\n",
       "0               10.0                 33                        1.0   \n",
       "1                2.0                 27                        0.0   \n",
       "2               71.0                 89                       44.0   \n",
       "3               31.0                 48                        8.0   \n",
       "4               66.0                 69                       20.0   \n",
       "\n",
       "   Wealth quintile (Richest)  Time period  \n",
       "0                       78.0         2018  \n",
       "1                       62.0         2015  \n",
       "2                       99.0         2015  \n",
       "3                       73.0         2019  \n",
       "4                      100.0         2012  "
      ]
     },
     "execution_count": 39,
     "metadata": {},
     "output_type": "execute_result"
    }
   ],
   "source": [
    "new_data.head() #ensuring the data is uploaded correctly"
   ]
  },
  {
   "cell_type": "code",
   "execution_count": 40,
   "metadata": {},
   "outputs": [
    {
     "data": {
      "text/plain": [
       "(81, 11)"
      ]
     },
     "execution_count": 40,
     "metadata": {},
     "output_type": "execute_result"
    }
   ],
   "source": [
    "new_data.shape"
   ]
  },
  {
   "cell_type": "code",
   "execution_count": 41,
   "metadata": {},
   "outputs": [
    {
     "data": {
      "text/plain": [
       "ISO3                          object\n",
       "Countries and areas           object\n",
       "Region                        object\n",
       "Sub-region                    object\n",
       "Income Group                  object\n",
       "Total                          int64\n",
       "Residence (Rural)            float64\n",
       "Residence (Urban)              int64\n",
       "Wealth quintile (Poorest)    float64\n",
       "Wealth quintile (Richest)    float64\n",
       "Time period                    int64\n",
       "dtype: object"
      ]
     },
     "execution_count": 41,
     "metadata": {},
     "output_type": "execute_result"
    }
   ],
   "source": [
    "new_data.dtypes"
   ]
  },
  {
   "cell_type": "code",
   "execution_count": 42,
   "metadata": {},
   "outputs": [
    {
     "data": {
      "text/html": [
       "<div>\n",
       "<style scoped>\n",
       "    .dataframe tbody tr th:only-of-type {\n",
       "        vertical-align: middle;\n",
       "    }\n",
       "\n",
       "    .dataframe tbody tr th {\n",
       "        vertical-align: top;\n",
       "    }\n",
       "\n",
       "    .dataframe thead th {\n",
       "        text-align: right;\n",
       "    }\n",
       "</style>\n",
       "<table border=\"1\" class=\"dataframe\">\n",
       "  <thead>\n",
       "    <tr style=\"text-align: right;\">\n",
       "      <th></th>\n",
       "      <th>Total</th>\n",
       "    </tr>\n",
       "    <tr>\n",
       "      <th>Region</th>\n",
       "      <th></th>\n",
       "    </tr>\n",
       "  </thead>\n",
       "  <tbody>\n",
       "    <tr>\n",
       "      <th>EAP</th>\n",
       "      <td>47.5</td>\n",
       "    </tr>\n",
       "    <tr>\n",
       "      <th>ECA</th>\n",
       "      <td>77.5</td>\n",
       "    </tr>\n",
       "    <tr>\n",
       "      <th>LAC</th>\n",
       "      <td>43.0</td>\n",
       "    </tr>\n",
       "    <tr>\n",
       "      <th>MENA</th>\n",
       "      <td>33.0</td>\n",
       "    </tr>\n",
       "    <tr>\n",
       "      <th>SA</th>\n",
       "      <td>34.0</td>\n",
       "    </tr>\n",
       "    <tr>\n",
       "      <th>SSA</th>\n",
       "      <td>7.0</td>\n",
       "    </tr>\n",
       "  </tbody>\n",
       "</table>\n",
       "</div>"
      ],
      "text/plain": [
       "        Total\n",
       "Region       \n",
       "EAP      47.5\n",
       "ECA      77.5\n",
       "LAC      43.0\n",
       "MENA     33.0\n",
       "SA       34.0\n",
       "SSA       7.0"
      ]
     },
     "execution_count": 42,
     "metadata": {},
     "output_type": "execute_result"
    }
   ],
   "source": [
    "new_data.groupby([\"Region\"])[[\"Total\"]].median() #Computing the Median (of the total percentage) for each Region."
   ]
  },
  {
   "cell_type": "code",
   "execution_count": 119,
   "metadata": {},
   "outputs": [
    {
     "data": {
      "text/html": [
       "<div>\n",
       "<style scoped>\n",
       "    .dataframe tbody tr th:only-of-type {\n",
       "        vertical-align: middle;\n",
       "    }\n",
       "\n",
       "    .dataframe tbody tr th {\n",
       "        vertical-align: top;\n",
       "    }\n",
       "\n",
       "    .dataframe thead tr th {\n",
       "        text-align: left;\n",
       "    }\n",
       "\n",
       "    .dataframe thead tr:last-of-type th {\n",
       "        text-align: right;\n",
       "    }\n",
       "</style>\n",
       "<table border=\"1\" class=\"dataframe\">\n",
       "  <thead>\n",
       "    <tr>\n",
       "      <th></th>\n",
       "      <th colspan=\"8\" halign=\"left\">Total</th>\n",
       "    </tr>\n",
       "    <tr>\n",
       "      <th></th>\n",
       "      <th>count</th>\n",
       "      <th>mean</th>\n",
       "      <th>std</th>\n",
       "      <th>min</th>\n",
       "      <th>25%</th>\n",
       "      <th>50%</th>\n",
       "      <th>75%</th>\n",
       "      <th>max</th>\n",
       "    </tr>\n",
       "    <tr>\n",
       "      <th>Region</th>\n",
       "      <th></th>\n",
       "      <th></th>\n",
       "      <th></th>\n",
       "      <th></th>\n",
       "      <th></th>\n",
       "      <th></th>\n",
       "      <th></th>\n",
       "      <th></th>\n",
       "    </tr>\n",
       "  </thead>\n",
       "  <tbody>\n",
       "    <tr>\n",
       "      <th>EAP</th>\n",
       "      <td>8.0</td>\n",
       "      <td>47.75</td>\n",
       "      <td>30.13</td>\n",
       "      <td>1.0</td>\n",
       "      <td>29.0</td>\n",
       "      <td>47.5</td>\n",
       "      <td>67.50</td>\n",
       "      <td>92.0</td>\n",
       "    </tr>\n",
       "    <tr>\n",
       "      <th>ECA</th>\n",
       "      <td>14.0</td>\n",
       "      <td>66.50</td>\n",
       "      <td>25.30</td>\n",
       "      <td>18.0</td>\n",
       "      <td>50.5</td>\n",
       "      <td>77.5</td>\n",
       "      <td>84.75</td>\n",
       "      <td>94.0</td>\n",
       "    </tr>\n",
       "    <tr>\n",
       "      <th>LAC</th>\n",
       "      <td>19.0</td>\n",
       "      <td>41.26</td>\n",
       "      <td>25.74</td>\n",
       "      <td>4.0</td>\n",
       "      <td>23.5</td>\n",
       "      <td>43.0</td>\n",
       "      <td>58.00</td>\n",
       "      <td>87.0</td>\n",
       "    </tr>\n",
       "    <tr>\n",
       "      <th>MENA</th>\n",
       "      <td>6.0</td>\n",
       "      <td>32.33</td>\n",
       "      <td>13.41</td>\n",
       "      <td>18.0</td>\n",
       "      <td>20.5</td>\n",
       "      <td>33.0</td>\n",
       "      <td>41.00</td>\n",
       "      <td>50.0</td>\n",
       "    </tr>\n",
       "    <tr>\n",
       "      <th>SA</th>\n",
       "      <td>5.0</td>\n",
       "      <td>37.60</td>\n",
       "      <td>30.07</td>\n",
       "      <td>8.0</td>\n",
       "      <td>9.0</td>\n",
       "      <td>34.0</td>\n",
       "      <td>68.00</td>\n",
       "      <td>69.0</td>\n",
       "    </tr>\n",
       "    <tr>\n",
       "      <th>SSA</th>\n",
       "      <td>29.0</td>\n",
       "      <td>15.00</td>\n",
       "      <td>22.00</td>\n",
       "      <td>0.0</td>\n",
       "      <td>3.0</td>\n",
       "      <td>7.0</td>\n",
       "      <td>16.00</td>\n",
       "      <td>100.0</td>\n",
       "    </tr>\n",
       "  </tbody>\n",
       "</table>\n",
       "</div>"
      ],
      "text/plain": [
       "       Total                                              \n",
       "       count   mean    std   min   25%   50%    75%    max\n",
       "Region                                                    \n",
       "EAP      8.0  47.75  30.13   1.0  29.0  47.5  67.50   92.0\n",
       "ECA     14.0  66.50  25.30  18.0  50.5  77.5  84.75   94.0\n",
       "LAC     19.0  41.26  25.74   4.0  23.5  43.0  58.00   87.0\n",
       "MENA     6.0  32.33  13.41  18.0  20.5  33.0  41.00   50.0\n",
       "SA       5.0  37.60  30.07   8.0   9.0  34.0  68.00   69.0\n",
       "SSA     29.0  15.00  22.00   0.0   3.0   7.0  16.00  100.0"
      ]
     },
     "execution_count": 119,
     "metadata": {},
     "output_type": "execute_result"
    }
   ],
   "source": [
    "new_data.groupby([\"Region\"])[[\"Total\"]].describe().round(2)"
   ]
  },
  {
   "cell_type": "code",
   "execution_count": 43,
   "metadata": {},
   "outputs": [],
   "source": [
    "# BoxPlot of overall/total percentage of children in a school attendance age that have internet connection at home by region"
   ]
  },
  {
   "cell_type": "code",
   "execution_count": 44,
   "metadata": {},
   "outputs": [],
   "source": [
    "import matplotlib.pyplot as plt"
   ]
  },
  {
   "cell_type": "code",
   "execution_count": 45,
   "metadata": {},
   "outputs": [
    {
     "data": {
      "text/plain": [
       "Text(0, 0.5, 'Percentage')"
      ]
     },
     "execution_count": 45,
     "metadata": {},
     "output_type": "execute_result"
    },
    {
     "data": {
      "image/png": "[encoded data removed]",
      "text/plain": [
       "<Figure size 640x480 with 1 Axes>"
      ]
     },
     "metadata": {},
     "output_type": "display_data"
    }
   ],
   "source": [
    "new_data.dropna().boxplot(column=\"Total\",by= \"Region\",grid=False)\n",
    "plt.title(\"Boxplot of total percentage of children in a school attendance age that have internet connection at home\")\n",
    "plt.ylabel(\"Percentage\")\n"
   ]
  },
  {
   "cell_type": "markdown",
   "metadata": {
    "id": "0-HLFaWTo7Gr"
   },
   "source": [
    "## Task 2.2 "
   ]
  },
  {
   "cell_type": "code",
   "execution_count": 48,
   "metadata": {},
   "outputs": [
    {
     "name": "stdout",
     "output_type": "stream",
     "text": [
      "Mean of the Quartiles(in %):\n",
      " Wealth quintile (Poorest)    18.24\n",
      "Wealth quintile (Richest)    61.06\n",
      "dtype: float64\n"
     ]
    }
   ],
   "source": [
    "#Computing the Mean (of the percentage of school-age children who have internet connection at home) for Wealth quintile (Poorest) and Wealth quintile (Richest)\n",
    "print(\"Mean of the Quartiles(in %):\\n\",new_data[[\"Wealth quintile (Poorest)\",\"Wealth quintile (Richest)\"]].mean().round(2))"
   ]
  },
  {
   "cell_type": "code",
   "execution_count": 49,
   "metadata": {},
   "outputs": [],
   "source": [
    "#Display/list the top 10 countries with the highest percentages for Wealth quintile (Poorest)\n",
    "poor_country= new_data[[\"Countries and areas\",\"Wealth quintile (Poorest)\"]].sort_values(by= [\"Wealth quintile (Poorest)\"] , ascending=False)"
   ]
  },
  {
   "cell_type": "code",
   "execution_count": 50,
   "metadata": {},
   "outputs": [
    {
     "data": {
      "text/html": [
       "<div>\n",
       "<style scoped>\n",
       "    .dataframe tbody tr th:only-of-type {\n",
       "        vertical-align: middle;\n",
       "    }\n",
       "\n",
       "    .dataframe tbody tr th {\n",
       "        vertical-align: top;\n",
       "    }\n",
       "\n",
       "    .dataframe thead th {\n",
       "        text-align: right;\n",
       "    }\n",
       "</style>\n",
       "<table border=\"1\" class=\"dataframe\">\n",
       "  <thead>\n",
       "    <tr style=\"text-align: right;\">\n",
       "      <th></th>\n",
       "      <th>Countries and areas</th>\n",
       "      <th>Wealth quintile (Poorest)</th>\n",
       "    </tr>\n",
       "  </thead>\n",
       "  <tbody>\n",
       "    <tr>\n",
       "      <th>61</th>\n",
       "      <td>Somalia</td>\n",
       "      <td>100.0</td>\n",
       "    </tr>\n",
       "    <tr>\n",
       "      <th>55</th>\n",
       "      <td>Russian Federation</td>\n",
       "      <td>88.0</td>\n",
       "    </tr>\n",
       "    <tr>\n",
       "      <th>8</th>\n",
       "      <td>Brazil</td>\n",
       "      <td>84.0</td>\n",
       "    </tr>\n",
       "    <tr>\n",
       "      <th>69</th>\n",
       "      <td>Tonga</td>\n",
       "      <td>83.0</td>\n",
       "    </tr>\n",
       "    <tr>\n",
       "      <th>14</th>\n",
       "      <td>Chile</td>\n",
       "      <td>75.0</td>\n",
       "    </tr>\n",
       "    <tr>\n",
       "      <th>63</th>\n",
       "      <td>Sri Lanka</td>\n",
       "      <td>71.0</td>\n",
       "    </tr>\n",
       "    <tr>\n",
       "      <th>67</th>\n",
       "      <td>North Macedonia</td>\n",
       "      <td>68.0</td>\n",
       "    </tr>\n",
       "    <tr>\n",
       "      <th>59</th>\n",
       "      <td>Serbia</td>\n",
       "      <td>65.0</td>\n",
       "    </tr>\n",
       "    <tr>\n",
       "      <th>34</th>\n",
       "      <td>Japan</td>\n",
       "      <td>64.0</td>\n",
       "    </tr>\n",
       "    <tr>\n",
       "      <th>38</th>\n",
       "      <td>Kyrgyzstan</td>\n",
       "      <td>56.0</td>\n",
       "    </tr>\n",
       "  </tbody>\n",
       "</table>\n",
       "</div>"
      ],
      "text/plain": [
       "   Countries and areas  Wealth quintile (Poorest)\n",
       "61             Somalia                      100.0\n",
       "55  Russian Federation                       88.0\n",
       "8               Brazil                       84.0\n",
       "69               Tonga                       83.0\n",
       "14               Chile                       75.0\n",
       "63           Sri Lanka                       71.0\n",
       "67     North Macedonia                       68.0\n",
       "59              Serbia                       65.0\n",
       "34               Japan                       64.0\n",
       "38          Kyrgyzstan                       56.0"
      ]
     },
     "execution_count": 50,
     "metadata": {},
     "output_type": "execute_result"
    }
   ],
   "source": [
    "poor_country.head(10)"
   ]
  },
  {
   "cell_type": "code",
   "execution_count": 51,
   "metadata": {},
   "outputs": [],
   "source": [
    "#Display/list the top 10 countries with the highest percentages for Wealth quintile (Richest)\n",
    "rich_country= new_data[[\"Countries and areas\",\"Wealth quintile (Richest)\"]].sort_values(by= [\"Wealth quintile (Richest)\"] , ascending=False)"
   ]
  },
  {
   "cell_type": "code",
   "execution_count": 52,
   "metadata": {},
   "outputs": [
    {
     "data": {
      "text/html": [
       "<div>\n",
       "<style scoped>\n",
       "    .dataframe tbody tr th:only-of-type {\n",
       "        vertical-align: middle;\n",
       "    }\n",
       "\n",
       "    .dataframe tbody tr th {\n",
       "        vertical-align: top;\n",
       "    }\n",
       "\n",
       "    .dataframe thead th {\n",
       "        text-align: right;\n",
       "    }\n",
       "</style>\n",
       "<table border=\"1\" class=\"dataframe\">\n",
       "  <thead>\n",
       "    <tr style=\"text-align: right;\">\n",
       "      <th></th>\n",
       "      <th>Countries and areas</th>\n",
       "      <th>Wealth quintile (Richest)</th>\n",
       "    </tr>\n",
       "  </thead>\n",
       "  <tbody>\n",
       "    <tr>\n",
       "      <th>67</th>\n",
       "      <td>North Macedonia</td>\n",
       "      <td>100.0</td>\n",
       "    </tr>\n",
       "    <tr>\n",
       "      <th>9</th>\n",
       "      <td>Bulgaria</td>\n",
       "      <td>100.0</td>\n",
       "    </tr>\n",
       "    <tr>\n",
       "      <th>59</th>\n",
       "      <td>Serbia</td>\n",
       "      <td>100.0</td>\n",
       "    </tr>\n",
       "    <tr>\n",
       "      <th>61</th>\n",
       "      <td>Somalia</td>\n",
       "      <td>100.0</td>\n",
       "    </tr>\n",
       "    <tr>\n",
       "      <th>55</th>\n",
       "      <td>Russian Federation</td>\n",
       "      <td>100.0</td>\n",
       "    </tr>\n",
       "    <tr>\n",
       "      <th>4</th>\n",
       "      <td>Barbados</td>\n",
       "      <td>100.0</td>\n",
       "    </tr>\n",
       "    <tr>\n",
       "      <th>63</th>\n",
       "      <td>Sri Lanka</td>\n",
       "      <td>99.0</td>\n",
       "    </tr>\n",
       "    <tr>\n",
       "      <th>14</th>\n",
       "      <td>Chile</td>\n",
       "      <td>99.0</td>\n",
       "    </tr>\n",
       "    <tr>\n",
       "      <th>26</th>\n",
       "      <td>Georgia</td>\n",
       "      <td>99.0</td>\n",
       "    </tr>\n",
       "    <tr>\n",
       "      <th>17</th>\n",
       "      <td>Costa Rica</td>\n",
       "      <td>99.0</td>\n",
       "    </tr>\n",
       "  </tbody>\n",
       "</table>\n",
       "</div>"
      ],
      "text/plain": [
       "   Countries and areas  Wealth quintile (Richest)\n",
       "67     North Macedonia                      100.0\n",
       "9             Bulgaria                      100.0\n",
       "59              Serbia                      100.0\n",
       "61             Somalia                      100.0\n",
       "55  Russian Federation                      100.0\n",
       "4             Barbados                      100.0\n",
       "63           Sri Lanka                       99.0\n",
       "14               Chile                       99.0\n",
       "26             Georgia                       99.0\n",
       "17          Costa Rica                       99.0"
      ]
     },
     "execution_count": 52,
     "metadata": {},
     "output_type": "execute_result"
    }
   ],
   "source": [
    "rich_country.head(10)"
   ]
  },
  {
   "cell_type": "markdown",
   "metadata": {
    "id": "jnasiwOAo_RP"
   },
   "source": [
    "## Task 2.3 "
   ]
  },
  {
   "cell_type": "code",
   "execution_count": null,
   "metadata": {},
   "outputs": [],
   "source": [
    "LM_data = new_data.loc[new_data[\"Income Group\"]== \"Lower middle income (LM)\"]"
   ]
  },
  {
   "cell_type": "code",
   "execution_count": 56,
   "metadata": {},
   "outputs": [
    {
     "data": {
      "text/html": [
       "<div>\n",
       "<style scoped>\n",
       "    .dataframe tbody tr th:only-of-type {\n",
       "        vertical-align: middle;\n",
       "    }\n",
       "\n",
       "    .dataframe tbody tr th {\n",
       "        vertical-align: top;\n",
       "    }\n",
       "\n",
       "    .dataframe thead th {\n",
       "        text-align: right;\n",
       "    }\n",
       "</style>\n",
       "<table border=\"1\" class=\"dataframe\">\n",
       "  <thead>\n",
       "    <tr style=\"text-align: right;\">\n",
       "      <th></th>\n",
       "      <th>ISO3</th>\n",
       "      <th>Countries and areas</th>\n",
       "      <th>Region</th>\n",
       "      <th>Sub-region</th>\n",
       "      <th>Income Group</th>\n",
       "      <th>Total</th>\n",
       "      <th>Residence (Rural)</th>\n",
       "      <th>Residence (Urban)</th>\n",
       "      <th>Wealth quintile (Poorest)</th>\n",
       "      <th>Wealth quintile (Richest)</th>\n",
       "      <th>Time period</th>\n",
       "    </tr>\n",
       "  </thead>\n",
       "  <tbody>\n",
       "    <tr>\n",
       "      <th>1</th>\n",
       "      <td>AGO</td>\n",
       "      <td>Angola</td>\n",
       "      <td>SSA</td>\n",
       "      <td>ESA</td>\n",
       "      <td>Lower middle income (LM)</td>\n",
       "      <td>19</td>\n",
       "      <td>2.0</td>\n",
       "      <td>27</td>\n",
       "      <td>0.0</td>\n",
       "      <td>62.0</td>\n",
       "      <td>2015</td>\n",
       "    </tr>\n",
       "    <tr>\n",
       "      <th>3</th>\n",
       "      <td>BGD</td>\n",
       "      <td>Bangladesh</td>\n",
       "      <td>SA</td>\n",
       "      <td>SA</td>\n",
       "      <td>Lower middle income (LM)</td>\n",
       "      <td>34</td>\n",
       "      <td>31.0</td>\n",
       "      <td>48</td>\n",
       "      <td>8.0</td>\n",
       "      <td>73.0</td>\n",
       "      <td>2019</td>\n",
       "    </tr>\n",
       "    <tr>\n",
       "      <th>6</th>\n",
       "      <td>BOL</td>\n",
       "      <td>Bolivia (Plurinational State of)</td>\n",
       "      <td>LAC</td>\n",
       "      <td>LAC</td>\n",
       "      <td>Lower middle income (LM)</td>\n",
       "      <td>12</td>\n",
       "      <td>3.0</td>\n",
       "      <td>17</td>\n",
       "      <td>1.0</td>\n",
       "      <td>56.0</td>\n",
       "      <td>2016</td>\n",
       "    </tr>\n",
       "    <tr>\n",
       "      <th>11</th>\n",
       "      <td>CMR</td>\n",
       "      <td>Cameroon</td>\n",
       "      <td>SSA</td>\n",
       "      <td>WCA</td>\n",
       "      <td>Lower middle income (LM)</td>\n",
       "      <td>5</td>\n",
       "      <td>0.0</td>\n",
       "      <td>10</td>\n",
       "      <td>0.0</td>\n",
       "      <td>23.0</td>\n",
       "      <td>2014</td>\n",
       "    </tr>\n",
       "    <tr>\n",
       "      <th>18</th>\n",
       "      <td>CIV</td>\n",
       "      <td>Cote d'Ivoire</td>\n",
       "      <td>SSA</td>\n",
       "      <td>WCA</td>\n",
       "      <td>Lower middle income (LM)</td>\n",
       "      <td>4</td>\n",
       "      <td>1.0</td>\n",
       "      <td>7</td>\n",
       "      <td>0.0</td>\n",
       "      <td>16.0</td>\n",
       "      <td>2016</td>\n",
       "    </tr>\n",
       "  </tbody>\n",
       "</table>\n",
       "</div>"
      ],
      "text/plain": [
       "   ISO3               Countries and areas Region Sub-region  \\\n",
       "1   AGO                            Angola    SSA        ESA   \n",
       "3   BGD                        Bangladesh     SA         SA   \n",
       "6   BOL  Bolivia (Plurinational State of)    LAC        LAC   \n",
       "11  CMR                          Cameroon    SSA        WCA   \n",
       "18  CIV                     Cote d'Ivoire    SSA        WCA   \n",
       "\n",
       "                Income Group  Total  Residence (Rural)  Residence (Urban)  \\\n",
       "1   Lower middle income (LM)     19                2.0                 27   \n",
       "3   Lower middle income (LM)     34               31.0                 48   \n",
       "6   Lower middle income (LM)     12                3.0                 17   \n",
       "11  Lower middle income (LM)      5                0.0                 10   \n",
       "18  Lower middle income (LM)      4                1.0                  7   \n",
       "\n",
       "    Wealth quintile (Poorest)  Wealth quintile (Richest)  Time period  \n",
       "1                         0.0                       62.0         2015  \n",
       "3                         8.0                       73.0         2019  \n",
       "6                         1.0                       56.0         2016  \n",
       "11                        0.0                       23.0         2014  \n",
       "18                        0.0                       16.0         2016  "
      ]
     },
     "execution_count": 56,
     "metadata": {},
     "output_type": "execute_result"
    }
   ],
   "source": [
    "LM_data.head()"
   ]
  },
  {
   "cell_type": "code",
   "execution_count": 57,
   "metadata": {},
   "outputs": [
    {
     "data": {
      "text/html": [
       "<div>\n",
       "<style scoped>\n",
       "    .dataframe tbody tr th:only-of-type {\n",
       "        vertical-align: middle;\n",
       "    }\n",
       "\n",
       "    .dataframe tbody tr th {\n",
       "        vertical-align: top;\n",
       "    }\n",
       "\n",
       "    .dataframe thead th {\n",
       "        text-align: right;\n",
       "    }\n",
       "</style>\n",
       "<table border=\"1\" class=\"dataframe\">\n",
       "  <thead>\n",
       "    <tr style=\"text-align: right;\">\n",
       "      <th></th>\n",
       "      <th>Residence (Rural)</th>\n",
       "      <th>Residence (Urban)</th>\n",
       "    </tr>\n",
       "  </thead>\n",
       "  <tbody>\n",
       "    <tr>\n",
       "      <th>count</th>\n",
       "      <td>30.00</td>\n",
       "      <td>30.00</td>\n",
       "    </tr>\n",
       "    <tr>\n",
       "      <th>mean</th>\n",
       "      <td>12.35</td>\n",
       "      <td>30.00</td>\n",
       "    </tr>\n",
       "    <tr>\n",
       "      <th>std</th>\n",
       "      <td>15.21</td>\n",
       "      <td>22.31</td>\n",
       "    </tr>\n",
       "    <tr>\n",
       "      <th>min</th>\n",
       "      <td>0.00</td>\n",
       "      <td>3.00</td>\n",
       "    </tr>\n",
       "    <tr>\n",
       "      <th>25%</th>\n",
       "      <td>2.00</td>\n",
       "      <td>11.00</td>\n",
       "    </tr>\n",
       "    <tr>\n",
       "      <th>50%</th>\n",
       "      <td>7.00</td>\n",
       "      <td>25.50</td>\n",
       "    </tr>\n",
       "    <tr>\n",
       "      <th>75%</th>\n",
       "      <td>17.00</td>\n",
       "      <td>49.50</td>\n",
       "    </tr>\n",
       "    <tr>\n",
       "      <th>max</th>\n",
       "      <td>69.00</td>\n",
       "      <td>84.00</td>\n",
       "    </tr>\n",
       "  </tbody>\n",
       "</table>\n",
       "</div>"
      ],
      "text/plain": [
       "       Residence (Rural)  Residence (Urban)\n",
       "count              30.00              30.00\n",
       "mean               12.35              30.00\n",
       "std                15.21              22.31\n",
       "min                 0.00               3.00\n",
       "25%                 2.00              11.00\n",
       "50%                 7.00              25.50\n",
       "75%                17.00              49.50\n",
       "max                69.00              84.00"
      ]
     },
     "execution_count": 57,
     "metadata": {},
     "output_type": "execute_result"
    }
   ],
   "source": [
    "LM_data[[\"Residence (Rural)\",\"Residence (Urban)\"]].describe().round(2)"
   ]
  }
 ],
 "metadata": {
  "colab": {
   "collapsed_sections": [],
   "name": "assignment1_TEMPLATE.ipynb",
   "provenance": [],
   "toc_visible": true
  },
  "kernelspec": {
   "display_name": "Python 3 (ipykernel)",
   "language": "python",
   "name": "python3"
  },
  "language_info": {
   "codemirror_mode": {
    "name": "ipython",
    "version": 3
   },
   "file_extension": ".py",
   "mimetype": "text/x-python",
   "name": "python",
   "nbconvert_exporter": "python",
   "pygments_lexer": "ipython3",
   "version": "3.11.7"
  }
 },
 "nbformat": 4,
 "nbformat_minor": 4
}
