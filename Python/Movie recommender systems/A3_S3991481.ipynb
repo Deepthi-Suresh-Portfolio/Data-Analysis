{
 "cells": [
  {
   "cell_type": "markdown",
   "id": "53d3cc34-ec19-47c7-8187-e79b32624e6e",
   "metadata": {},
   "source": [
    "# Assignment 3 by: Deepthi Suresh (S3991481)\n"
   ]
  },
  {
   "cell_type": "markdown",
   "id": "f993e56e-e32f-4f52-9d2d-ae09d0148f4d",
   "metadata": {},
   "source": [
    "# Task 1: kNN-based Collaborative Filtering"
   ]
  },
  {
   "cell_type": "code",
   "execution_count": 3,
   "id": "6823575a-ad63-4262-8a73-44112e2832de",
   "metadata": {},
   "outputs": [],
   "source": [
    "#Importing packages\n",
    "import numpy as np\n",
    "import pandas as pd\n",
    "from sklearn.model_selection import train_test_split"
   ]
  },
  {
   "cell_type": "code",
   "execution_count": 4,
   "id": "f914ad1b-1a1d-4b75-b2ee-a1b5b72aa276",
   "metadata": {},
   "outputs": [
    {
     "name": "stdout",
     "output_type": "stream",
     "text": [
      "/Users/deepthisuresh/Library/CloudStorage/OneDrive-RMITUniversity/Practical DS/Assignment 3/ml-1m\n"
     ]
    }
   ],
   "source": [
    "cd ml-1m/"
   ]
  },
  {
   "cell_type": "code",
   "execution_count": 5,
   "id": "4ddaf43c-d91c-45e0-b2c1-5c77d5141411",
   "metadata": {},
   "outputs": [
    {
     "data": {
      "text/html": [
       "<div>\n",
       "<style scoped>\n",
       "    .dataframe tbody tr th:only-of-type {\n",
       "        vertical-align: middle;\n",
       "    }\n",
       "\n",
       "    .dataframe tbody tr th {\n",
       "        vertical-align: top;\n",
       "    }\n",
       "\n",
       "    .dataframe thead th {\n",
       "        text-align: right;\n",
       "    }\n",
       "</style>\n",
       "<table border=\"1\" class=\"dataframe\">\n",
       "  <thead>\n",
       "    <tr style=\"text-align: right;\">\n",
       "      <th></th>\n",
       "      <th>UserID</th>\n",
       "      <th>MovieID</th>\n",
       "      <th>Rating</th>\n",
       "      <th>Timestamp</th>\n",
       "    </tr>\n",
       "  </thead>\n",
       "  <tbody>\n",
       "    <tr>\n",
       "      <th>0</th>\n",
       "      <td>1</td>\n",
       "      <td>1193</td>\n",
       "      <td>5</td>\n",
       "      <td>978300760</td>\n",
       "    </tr>\n",
       "    <tr>\n",
       "      <th>1</th>\n",
       "      <td>1</td>\n",
       "      <td>661</td>\n",
       "      <td>3</td>\n",
       "      <td>978302109</td>\n",
       "    </tr>\n",
       "    <tr>\n",
       "      <th>2</th>\n",
       "      <td>1</td>\n",
       "      <td>914</td>\n",
       "      <td>3</td>\n",
       "      <td>978301968</td>\n",
       "    </tr>\n",
       "    <tr>\n",
       "      <th>3</th>\n",
       "      <td>1</td>\n",
       "      <td>3408</td>\n",
       "      <td>4</td>\n",
       "      <td>978300275</td>\n",
       "    </tr>\n",
       "    <tr>\n",
       "      <th>4</th>\n",
       "      <td>1</td>\n",
       "      <td>2355</td>\n",
       "      <td>5</td>\n",
       "      <td>978824291</td>\n",
       "    </tr>\n",
       "  </tbody>\n",
       "</table>\n",
       "</div>"
      ],
      "text/plain": [
       "   UserID  MovieID  Rating  Timestamp\n",
       "0       1     1193       5  978300760\n",
       "1       1      661       3  978302109\n",
       "2       1      914       3  978301968\n",
       "3       1     3408       4  978300275\n",
       "4       1     2355       5  978824291"
      ]
     },
     "execution_count": 5,
     "metadata": {},
     "output_type": "execute_result"
    }
   ],
   "source": [
    "# Reading in the ratings file\n",
    "names = ['UserID', 'MovieID', 'Rating', 'Timestamp'] # column names\n",
    "df = pd.read_csv('ratings.dat', sep='::', names=names, engine='python') # seperated by '::'\n",
    "df.head()"
   ]
  },
  {
   "cell_type": "code",
   "execution_count": 6,
   "id": "b38ea910-68b2-4bc8-a18a-95adc1c43944",
   "metadata": {},
   "outputs": [
    {
     "name": "stdout",
     "output_type": "stream",
     "text": [
      "6040 users\n",
      "3952 items\n"
     ]
    }
   ],
   "source": [
    "# calculating no of unique users and movies in the ratings file\n",
    "n_users = df.UserID.unique().shape[0]\n",
    "# n_items = df.MovieID.unique().shape[0]\n",
    "n_items = df.MovieID.max() # There are some movies with no ratings, it could be because none of the users watched it, so need to take it into consideration\n",
    "print(str(n_users) + ' users')\n",
    "print(str(n_items) + ' items')"
   ]
  },
  {
   "cell_type": "code",
   "execution_count": 7,
   "id": "ab481197-8999-4092-982a-0566f0ddf100",
   "metadata": {},
   "outputs": [
    {
     "data": {
      "text/html": [
       "<div>\n",
       "<style scoped>\n",
       "    .dataframe tbody tr th:only-of-type {\n",
       "        vertical-align: middle;\n",
       "    }\n",
       "\n",
       "    .dataframe tbody tr th {\n",
       "        vertical-align: top;\n",
       "    }\n",
       "\n",
       "    .dataframe thead th {\n",
       "        text-align: right;\n",
       "    }\n",
       "</style>\n",
       "<table border=\"1\" class=\"dataframe\">\n",
       "  <thead>\n",
       "    <tr style=\"text-align: right;\">\n",
       "      <th></th>\n",
       "      <th>MovieID</th>\n",
       "      <th>Title</th>\n",
       "      <th>Genres</th>\n",
       "    </tr>\n",
       "  </thead>\n",
       "  <tbody>\n",
       "    <tr>\n",
       "      <th>0</th>\n",
       "      <td>1</td>\n",
       "      <td>Toy Story (1995)</td>\n",
       "      <td>Animation|Children's|Comedy</td>\n",
       "    </tr>\n",
       "    <tr>\n",
       "      <th>1</th>\n",
       "      <td>2</td>\n",
       "      <td>Jumanji (1995)</td>\n",
       "      <td>Adventure|Children's|Fantasy</td>\n",
       "    </tr>\n",
       "    <tr>\n",
       "      <th>2</th>\n",
       "      <td>3</td>\n",
       "      <td>Grumpier Old Men (1995)</td>\n",
       "      <td>Comedy|Romance</td>\n",
       "    </tr>\n",
       "    <tr>\n",
       "      <th>3</th>\n",
       "      <td>4</td>\n",
       "      <td>Waiting to Exhale (1995)</td>\n",
       "      <td>Comedy|Drama</td>\n",
       "    </tr>\n",
       "    <tr>\n",
       "      <th>4</th>\n",
       "      <td>5</td>\n",
       "      <td>Father of the Bride Part II (1995)</td>\n",
       "      <td>Comedy</td>\n",
       "    </tr>\n",
       "  </tbody>\n",
       "</table>\n",
       "</div>"
      ],
      "text/plain": [
       "   MovieID                               Title                        Genres\n",
       "0        1                    Toy Story (1995)   Animation|Children's|Comedy\n",
       "1        2                      Jumanji (1995)  Adventure|Children's|Fantasy\n",
       "2        3             Grumpier Old Men (1995)                Comedy|Romance\n",
       "3        4            Waiting to Exhale (1995)                  Comedy|Drama\n",
       "4        5  Father of the Bride Part II (1995)                        Comedy"
      ]
     },
     "execution_count": 7,
     "metadata": {},
     "output_type": "execute_result"
    }
   ],
   "source": [
    "# reading in the movies file \n",
    "i_cols = ['MovieID','Title','Genres']\n",
    "items = pd.read_csv('movies.dat', sep='::', names=i_cols, engine='python',encoding='latin-1')\n",
    "items.head()"
   ]
  },
  {
   "cell_type": "code",
   "execution_count": 8,
   "id": "a508a2bd-968f-4d8f-9177-1e1eb6379287",
   "metadata": {},
   "outputs": [
    {
     "data": {
      "text/plain": [
       "(        UserID  MovieID  Rating   Timestamp\n",
       " 459691    2832     1234       4   972589037\n",
       " 715977    4286     3599       5   965279318\n",
       " 412008    2478      911       3  1014064057\n",
       " 359424    2102     2324       4   974654020\n",
       " 427035    2592      160       3   973827512\n",
       " ...        ...      ...     ...         ...\n",
       " 356998    2091     3404       4   974655590\n",
       " 643402    3876     2908       4   965837563\n",
       " 677538    4060     2716       4   965491702\n",
       " 929702    5616     2536       1   959134344\n",
       " 814823    4890     2470       2   962738461\n",
       " \n",
       " [1000208 rows x 4 columns],\n",
       "         UserID  MovieID  Rating  Timestamp\n",
       " 249869    1505     2174       5  983671006)"
      ]
     },
     "execution_count": 8,
     "metadata": {},
     "output_type": "execute_result"
    }
   ],
   "source": [
    "# Split the data into training and test sets\n",
    "train_df, test_df = train_test_split(df, test_size=1/10000000, random_state=4356)\n",
    "train_df, test_df"
   ]
  },
  {
   "cell_type": "code",
   "execution_count": 9,
   "id": "b1852598-1c9e-4601-84b2-3e6d159ca364",
   "metadata": {},
   "outputs": [
    {
     "data": {
      "text/plain": [
       "(1000208, 4)"
      ]
     },
     "execution_count": 9,
     "metadata": {},
     "output_type": "execute_result"
    }
   ],
   "source": [
    "train_df.shape"
   ]
  },
  {
   "cell_type": "code",
   "execution_count": 10,
   "id": "e36d9a67-9b8e-4e17-97fd-6df1918855c7",
   "metadata": {},
   "outputs": [
    {
     "data": {
      "text/plain": [
       "(1, 4)"
      ]
     },
     "execution_count": 10,
     "metadata": {},
     "output_type": "execute_result"
    }
   ],
   "source": [
    "test_df.shape"
   ]
  },
  {
   "cell_type": "code",
   "execution_count": 11,
   "id": "00cd839b-e61a-44c0-9d03-8770c432d37f",
   "metadata": {},
   "outputs": [
    {
     "data": {
      "text/plain": [
       "(      0     1     2     3     4     5     6     7     8     9     ...  3942  \\\n",
       " 0      5.0   0.0   0.0   0.0   0.0   0.0   0.0   0.0   0.0   0.0  ...   0.0   \n",
       " 1      0.0   0.0   0.0   0.0   0.0   0.0   0.0   0.0   0.0   0.0  ...   0.0   \n",
       " 2      0.0   0.0   0.0   0.0   0.0   0.0   0.0   0.0   0.0   0.0  ...   0.0   \n",
       " 3      0.0   0.0   0.0   0.0   0.0   0.0   0.0   0.0   0.0   0.0  ...   0.0   \n",
       " 4      0.0   0.0   0.0   0.0   0.0   2.0   0.0   0.0   0.0   0.0  ...   0.0   \n",
       " ...    ...   ...   ...   ...   ...   ...   ...   ...   ...   ...  ...   ...   \n",
       " 6035   0.0   0.0   0.0   2.0   0.0   3.0   0.0   0.0   0.0   0.0  ...   0.0   \n",
       " 6036   0.0   0.0   0.0   0.0   0.0   0.0   0.0   0.0   0.0   0.0  ...   0.0   \n",
       " 6037   0.0   0.0   0.0   0.0   0.0   0.0   0.0   0.0   0.0   0.0  ...   0.0   \n",
       " 6038   0.0   0.0   0.0   0.0   0.0   0.0   0.0   0.0   0.0   0.0  ...   0.0   \n",
       " 6039   3.0   0.0   0.0   0.0   0.0   0.0   0.0   0.0   0.0   0.0  ...   0.0   \n",
       " \n",
       "       3943  3944  3945  3946  3947  3948  3949  3950  3951  \n",
       " 0      0.0   0.0   0.0   0.0   0.0   0.0   0.0   0.0   0.0  \n",
       " 1      0.0   0.0   0.0   0.0   0.0   0.0   0.0   0.0   0.0  \n",
       " 2      0.0   0.0   0.0   0.0   0.0   0.0   0.0   0.0   0.0  \n",
       " 3      0.0   0.0   0.0   0.0   0.0   0.0   0.0   0.0   0.0  \n",
       " 4      0.0   0.0   0.0   0.0   0.0   0.0   0.0   0.0   0.0  \n",
       " ...    ...   ...   ...   ...   ...   ...   ...   ...   ...  \n",
       " 6035   0.0   0.0   0.0   0.0   0.0   0.0   0.0   0.0   0.0  \n",
       " 6036   0.0   0.0   0.0   0.0   0.0   0.0   0.0   0.0   0.0  \n",
       " 6037   0.0   0.0   0.0   0.0   0.0   0.0   0.0   0.0   0.0  \n",
       " 6038   0.0   0.0   0.0   0.0   0.0   0.0   0.0   0.0   0.0  \n",
       " 6039   0.0   0.0   0.0   0.0   0.0   0.0   0.0   0.0   0.0  \n",
       " \n",
       " [6040 rows x 3952 columns],\n",
       "       0     1     2     3     4     5     6     7     8     9     ...  3942  \\\n",
       " 0      0.0   0.0   0.0   0.0   0.0   0.0   0.0   0.0   0.0   0.0  ...   0.0   \n",
       " 1      0.0   0.0   0.0   0.0   0.0   0.0   0.0   0.0   0.0   0.0  ...   0.0   \n",
       " 2      0.0   0.0   0.0   0.0   0.0   0.0   0.0   0.0   0.0   0.0  ...   0.0   \n",
       " 3      0.0   0.0   0.0   0.0   0.0   0.0   0.0   0.0   0.0   0.0  ...   0.0   \n",
       " 4      0.0   0.0   0.0   0.0   0.0   0.0   0.0   0.0   0.0   0.0  ...   0.0   \n",
       " ...    ...   ...   ...   ...   ...   ...   ...   ...   ...   ...  ...   ...   \n",
       " 6035   0.0   0.0   0.0   0.0   0.0   0.0   0.0   0.0   0.0   0.0  ...   0.0   \n",
       " 6036   0.0   0.0   0.0   0.0   0.0   0.0   0.0   0.0   0.0   0.0  ...   0.0   \n",
       " 6037   0.0   0.0   0.0   0.0   0.0   0.0   0.0   0.0   0.0   0.0  ...   0.0   \n",
       " 6038   0.0   0.0   0.0   0.0   0.0   0.0   0.0   0.0   0.0   0.0  ...   0.0   \n",
       " 6039   0.0   0.0   0.0   0.0   0.0   0.0   0.0   0.0   0.0   0.0  ...   0.0   \n",
       " \n",
       "       3943  3944  3945  3946  3947  3948  3949  3950  3951  \n",
       " 0      0.0   0.0   0.0   0.0   0.0   0.0   0.0   0.0   0.0  \n",
       " 1      0.0   0.0   0.0   0.0   0.0   0.0   0.0   0.0   0.0  \n",
       " 2      0.0   0.0   0.0   0.0   0.0   0.0   0.0   0.0   0.0  \n",
       " 3      0.0   0.0   0.0   0.0   0.0   0.0   0.0   0.0   0.0  \n",
       " 4      0.0   0.0   0.0   0.0   0.0   0.0   0.0   0.0   0.0  \n",
       " ...    ...   ...   ...   ...   ...   ...   ...   ...   ...  \n",
       " 6035   0.0   0.0   0.0   0.0   0.0   0.0   0.0   0.0   0.0  \n",
       " 6036   0.0   0.0   0.0   0.0   0.0   0.0   0.0   0.0   0.0  \n",
       " 6037   0.0   0.0   0.0   0.0   0.0   0.0   0.0   0.0   0.0  \n",
       " 6038   0.0   0.0   0.0   0.0   0.0   0.0   0.0   0.0   0.0  \n",
       " 6039   0.0   0.0   0.0   0.0   0.0   0.0   0.0   0.0   0.0  \n",
       " \n",
       " [6040 rows x 3952 columns])"
      ]
     },
     "execution_count": 11,
     "metadata": {},
     "output_type": "execute_result"
    }
   ],
   "source": [
    "# Training Dataset\n",
    "train_ds = np.zeros((n_users, n_items)) ### Creating user item matrix/ ratings\n",
    "for row in train_df.itertuples():\n",
    "    train_ds[row[1]-1, row[2]-1] = row[3]\n",
    "train_ds = pd.DataFrame(train_ds)\n",
    "\n",
    "# Testing Dataset\n",
    "test_ds = np.zeros((n_users, n_items))\n",
    "for row in test_df.itertuples():\n",
    "    test_ds[row[1]-1, row[2]-1] = row[3]\n",
    "test_ds = pd.DataFrame(test_ds)\n",
    "\n",
    "train_ds, test_ds"
   ]
  },
  {
   "cell_type": "code",
   "execution_count": 12,
   "id": "2ebc2c72-4b9b-44b5-9d33-061acd49ec45",
   "metadata": {},
   "outputs": [
    {
     "data": {
      "text/plain": [
       "array([[ 1.        ,  0.09482731, -0.05177674, ...,  0.        ,\n",
       "         0.03270345,  0.04097722],\n",
       "       [ 0.09482731,  1.        ,  0.07561242, ..., -0.04572076,\n",
       "         0.14103646, -0.04166374],\n",
       "       [-0.05177674,  0.07561242,  1.        , ...,  0.0811581 ,\n",
       "         0.0819291 , -0.27075058],\n",
       "       ...,\n",
       "       [ 0.        , -0.04572076,  0.0811581 , ...,  0.66666667,\n",
       "         0.10293624, -0.13649501],\n",
       "       [ 0.03270345,  0.14103646,  0.0819291 , ...,  0.10293624,\n",
       "         1.        ,  0.300479  ],\n",
       "       [ 0.04097722, -0.04166374, -0.27075058, ..., -0.13649501,\n",
       "         0.300479  ,  1.        ]])"
      ]
     },
     "execution_count": 12,
     "metadata": {},
     "output_type": "execute_result"
    }
   ],
   "source": [
    "# Calculating pearson's correlation similarity matrix\n",
    "GAMMA = 30 # research backed ideal gamma value\n",
    "EPSILON = 1e-9 \n",
    "\n",
    "np_user_pearson_corr = np.zeros((n_users, n_users)) # calculate for every pair of users in the dataset\n",
    "\n",
    "for i, user_i_vec in enumerate(train_ds.values): \n",
    "    for j, user_j_vec in enumerate(train_ds.values): ## i and j and index of user 1 and user 2 - to find the different pairs of users\n",
    "\n",
    "        # ratings corated by the current pair of users\n",
    "        mask_i = user_i_vec > 0 \n",
    "        mask_j = user_j_vec > 0\n",
    "\n",
    "        # corrated item index, skip if there are no corrated ratings\n",
    "        corrated_index = np.intersect1d(np.where(mask_i), np.where(mask_j))\n",
    "        if len(corrated_index) == 0: #if the item is not rated by both the users then skip or =0\n",
    "            continue\n",
    "\n",
    "        # average value of user_i_vec and user_j_vec\n",
    "        mean_user_i = np.sum(user_i_vec) / (np.sum(np.clip(user_i_vec, 0, 1)) + EPSILON) # calculating the R bar in the centered cosine formula\n",
    "        mean_user_j = np.sum(user_j_vec) / (np.sum(np.clip(user_j_vec, 0, 1)) + EPSILON) # np clip checks in each row - if there is a rating then it will consider as 1 and if no rating then it will be 0\n",
    "\n",
    "        # compute pearson corr\n",
    "        user_i_sub_mean = user_i_vec[corrated_index] - mean_user_i\n",
    "        user_j_sub_mean = user_j_vec[corrated_index] - mean_user_j\n",
    "\n",
    "        r_ui_sub_r_i_sq = np.square(user_i_sub_mean)\n",
    "        r_uj_sub_r_j_sq = np.square(user_j_sub_mean)\n",
    "\n",
    "        r_ui_sum_sqrt = np.sqrt(np.sum(r_ui_sub_r_i_sq))\n",
    "        r_uj_sum_sqrt = np.sqrt(np.sum(r_uj_sub_r_j_sq))\n",
    "\n",
    "        sim = np.sum(user_i_sub_mean * user_j_sub_mean) / (r_ui_sum_sqrt * r_uj_sum_sqrt + EPSILON)\n",
    "\n",
    "        # significance weighting\n",
    "        weighted_sim = (min(len(corrated_index), GAMMA) / GAMMA) * sim\n",
    "\n",
    "        np_user_pearson_corr[i][j] = weighted_sim\n",
    "\n",
    "np_user_pearson_corr"
   ]
  },
  {
   "cell_type": "code",
   "execution_count": null,
   "id": "5996888f-58a8-4803-890f-7c25c608ab6d",
   "metadata": {},
   "outputs": [],
   "source": []
  },
  {
   "cell_type": "code",
   "execution_count": null,
   "id": "768531ad-4dd9-40a1-a052-fd4a4e7c945a",
   "metadata": {},
   "outputs": [],
   "source": []
  },
  {
   "cell_type": "code",
   "execution_count": 13,
   "id": "2259df00-cf06-4fa2-813a-1a3cd889deeb",
   "metadata": {},
   "outputs": [
    {
     "data": {
      "text/html": [
       "<div>\n",
       "<style scoped>\n",
       "    .dataframe tbody tr th:only-of-type {\n",
       "        vertical-align: middle;\n",
       "    }\n",
       "\n",
       "    .dataframe tbody tr th {\n",
       "        vertical-align: top;\n",
       "    }\n",
       "\n",
       "    .dataframe thead th {\n",
       "        text-align: right;\n",
       "    }\n",
       "</style>\n",
       "<table border=\"1\" class=\"dataframe\">\n",
       "  <thead>\n",
       "    <tr style=\"text-align: right;\">\n",
       "      <th></th>\n",
       "      <th>k</th>\n",
       "      <th>RMSE</th>\n",
       "    </tr>\n",
       "  </thead>\n",
       "  <tbody>\n",
       "    <tr>\n",
       "      <th>0</th>\n",
       "      <td>10</td>\n",
       "      <td>1.264984</td>\n",
       "    </tr>\n",
       "    <tr>\n",
       "      <th>1</th>\n",
       "      <td>20</td>\n",
       "      <td>1.243135</td>\n",
       "    </tr>\n",
       "    <tr>\n",
       "      <th>2</th>\n",
       "      <td>40</td>\n",
       "      <td>1.115197</td>\n",
       "    </tr>\n",
       "    <tr>\n",
       "      <th>3</th>\n",
       "      <td>60</td>\n",
       "      <td>1.007182</td>\n",
       "    </tr>\n",
       "    <tr>\n",
       "      <th>4</th>\n",
       "      <td>100</td>\n",
       "      <td>1.086758</td>\n",
       "    </tr>\n",
       "    <tr>\n",
       "      <th>5</th>\n",
       "      <td>150</td>\n",
       "      <td>1.171426</td>\n",
       "    </tr>\n",
       "  </tbody>\n",
       "</table>\n",
       "</div>"
      ],
      "text/plain": [
       "     k      RMSE\n",
       "0   10  1.264984\n",
       "1   20  1.243135\n",
       "2   40  1.115197\n",
       "3   60  1.007182\n",
       "4  100  1.086758\n",
       "5  150  1.171426"
      ]
     },
     "execution_count": 13,
     "metadata": {},
     "output_type": "execute_result"
    }
   ],
   "source": [
    "#Trying different k values\n",
    "np_predictions = np.zeros((n_users, n_items))\n",
    "\n",
    "EPSILON = 1e-9\n",
    "\n",
    "# k values to test\n",
    "k_values = [10, 20, 40, 60, 100, 150]\n",
    "rmse_results = []\n",
    "\n",
    "for K in k_values:\n",
    "    for (i, j), rating in np.ndenumerate(test_ds.values):\n",
    "        if rating > 0:\n",
    "            # find top-k most similar users as the current user, remove itself\n",
    "            sim_user_ids = np.argsort(np_user_pearson_corr[i])[-(K + 1):-1]\n",
    "    \n",
    "            # the coefficient values of similar users\n",
    "            sim_val = np_user_pearson_corr[i][sim_user_ids]\n",
    "    \n",
    "            # the average value of the current user's ratings\n",
    "            sim_users = train_ds.values[sim_user_ids]\n",
    "            user_mean = np.sum(train_ds.values[i]) / (np.sum(np.clip(train_ds.values[i], 0, 1)) + EPSILON)\n",
    "            sim_user_mean = np.sum(sim_users, axis=1) / (np.sum(np.clip(sim_users, 0, 1), axis=1) + EPSILON)\n",
    "    \n",
    "            # select the users who rated item j\n",
    "            mask_rated_j = sim_users[:, j] > 0\n",
    "            \n",
    "            # sim(u, v) * (r_vj - mean_v)\n",
    "            sim_r_sum_mean = sim_val[mask_rated_j] * (sim_users[mask_rated_j, j] - sim_user_mean[mask_rated_j])\n",
    "    \n",
    "            # filter unrated items\n",
    "            #w = np.clip(sim_users[mask_rated_j, j], 0, 1)\n",
    "            #sim_r_sum_mean *= w\n",
    "            #print(sim_users[:, j])\n",
    "            \n",
    "            np_predictions[i][j] = user_mean + np.sum(sim_r_sum_mean) / (np.sum(sim_val[mask_rated_j]) + EPSILON)\n",
    "            np_predictions[i][j] = np.clip(np_predictions[i][j], 0, 5)\n",
    "    \n",
    "    \n",
    "    \n",
    "    #==================RMSE on Testing set===================\n",
    "    labels = test_ds.values\n",
    "    \n",
    "    # squared error on all ratings\n",
    "    squared_error = np.square(np_predictions - labels)\n",
    "    weight = np.clip(labels, 0, 1)\n",
    "    \n",
    "    # squared error on rated ratings\n",
    "    squared_error = squared_error * weight\n",
    "    \n",
    "    # RMSE\n",
    "    RMSE = np.sqrt(np.sum(squared_error) / np.sum(weight))\n",
    "    \n",
    "    #print(\"RMSE on Tesing set (User-based) : \" + str(RMSE));\n",
    "\n",
    "    rmse_results.append(RMSE)\n",
    "    # print(rmse_results)\n",
    "\n",
    "# Create a DataFrame to store k values and RMSE results\n",
    "rmse_table = pd.DataFrame({\n",
    "    'k': k_values,\n",
    "    'RMSE': rmse_results\n",
    "})\n",
    "rmse_table"
   ]
  },
  {
   "cell_type": "code",
   "execution_count": 14,
   "id": "ec59f1ce-0589-4039-ba3f-5e603e1a8a2b",
   "metadata": {},
   "outputs": [
    {
     "name": "stdout",
     "output_type": "stream",
     "text": [
      "RMSE on Tesing set (User-based) k = 60: 1.171426376749435\n"
     ]
    }
   ],
   "source": [
    "# Rerunning and extracting the prediction for k = 60 as it the optimal k value\n",
    "np_predictions_KNN_60 = np.zeros((n_users, n_items))\n",
    "\n",
    "K = 60 # no of neighbours, can try different values\n",
    "EPSILON = 1e-9\n",
    "\n",
    "for (i, j), rating in np.ndenumerate(test_ds.values):\n",
    "    if rating > 0:\n",
    "        # find top-k most similar users as the current user, remove itself\n",
    "        sim_user_ids = np.argsort(np_user_pearson_corr[i])[-(K + 1):-1]\n",
    "\n",
    "        # the coefficient values of similar users\n",
    "        sim_val = np_user_pearson_corr[i][sim_user_ids]\n",
    "\n",
    "        # the average value of the current user's ratings\n",
    "        sim_users = train_ds.values[sim_user_ids]\n",
    "        user_mean = np.sum(train_ds.values[i]) / (np.sum(np.clip(train_ds.values[i], 0, 1)) + EPSILON)\n",
    "        sim_user_mean = np.sum(sim_users, axis=1) / (np.sum(np.clip(sim_users, 0, 1), axis=1) + EPSILON)\n",
    "\n",
    "        # select the users who rated item j\n",
    "        mask_rated_j = sim_users[:, j] > 0\n",
    "        \n",
    "        # sim(u, v) * (r_vj - mean_v)\n",
    "        sim_r_sum_mean = sim_val[mask_rated_j] * (sim_users[mask_rated_j, j] - sim_user_mean[mask_rated_j])\n",
    "\n",
    "        # filter unrated items\n",
    "        #w = np.clip(sim_users[mask_rated_j, j], 0, 1)\n",
    "        #sim_r_sum_mean *= w\n",
    "        #print(sim_users[:, j])\n",
    "        \n",
    "        np_predictions_KNN_60[i][j] = user_mean + np.sum(sim_r_sum_mean) / (np.sum(sim_val[mask_rated_j]) + EPSILON)\n",
    "        np_predictions_KNN_60[i][j] = np.clip(np_predictions[i][j], 0, 5)\n",
    "\n",
    "\n",
    "\n",
    "#==================RMSE on Testing set===================\n",
    "labels = test_ds.values\n",
    "\n",
    "# squared error on all ratings\n",
    "squared_error = np.square(np_predictions_KNN_60 - labels)\n",
    "weight = np.clip(labels, 0, 1)\n",
    "\n",
    "# squared error on rated ratings\n",
    "squared_error = squared_error * weight\n",
    "\n",
    "# RMSE\n",
    "RMSE_60 = np.sqrt(np.sum(squared_error) / np.sum(weight))\n",
    "\n",
    "print(\"RMSE on Tesing set (User-based) k = 60: \" + str(RMSE_60));"
   ]
  },
  {
   "cell_type": "code",
   "execution_count": 15,
   "id": "8fbca0a0-2456-455b-8c89-9f2e93211009",
   "metadata": {},
   "outputs": [
    {
     "data": {
      "text/plain": [
       "array([[0., 0., 0., ..., 0., 0., 0.],\n",
       "       [0., 0., 0., ..., 0., 0., 0.],\n",
       "       [0., 0., 0., ..., 0., 0., 0.],\n",
       "       ...,\n",
       "       [0., 0., 0., ..., 0., 0., 0.],\n",
       "       [0., 0., 0., ..., 0., 0., 0.],\n",
       "       [0., 0., 0., ..., 0., 0., 0.]])"
      ]
     },
     "execution_count": 15,
     "metadata": {},
     "output_type": "execute_result"
    }
   ],
   "source": [
    "np_predictions_KNN_60"
   ]
  },
  {
   "cell_type": "code",
   "execution_count": null,
   "id": "68f73d37-f0f6-4f6b-a56b-4cbbf7c9d365",
   "metadata": {},
   "outputs": [],
   "source": []
  },
  {
   "cell_type": "code",
   "execution_count": null,
   "id": "59e5b1cc-bb83-4f5b-885b-d5f3c1f1cefc",
   "metadata": {},
   "outputs": [],
   "source": []
  },
  {
   "cell_type": "code",
   "execution_count": null,
   "id": "283d43da-eef5-42a7-8d5d-c4cc312a8dda",
   "metadata": {},
   "outputs": [],
   "source": []
  },
  {
   "cell_type": "code",
   "execution_count": null,
   "id": "2ad635f9-8146-4c0a-8cea-729590f2f7a8",
   "metadata": {},
   "outputs": [],
   "source": []
  },
  {
   "cell_type": "code",
   "execution_count": null,
   "id": "8d39caf8-1e98-4aa9-a921-18d0539fa252",
   "metadata": {},
   "outputs": [],
   "source": []
  },
  {
   "cell_type": "markdown",
   "id": "a7f2d114-e21e-4dc6-8226-5206c924d583",
   "metadata": {},
   "source": [
    "#### COSINE based User CF"
   ]
  },
  {
   "cell_type": "code",
   "execution_count": 17,
   "id": "24453e1f-6de7-4407-baff-3ccef4c225c9",
   "metadata": {},
   "outputs": [
    {
     "data": {
      "text/plain": [
       "array([[1.        , 0.09638153, 0.12060981, ..., 0.        , 0.17460369,\n",
       "        0.13359025],\n",
       "       [0.09638153, 1.        , 0.1514786 , ..., 0.06611767, 0.0664575 ,\n",
       "        0.21827563],\n",
       "       [0.12060981, 0.1514786 , 1.        , ..., 0.12023352, 0.09467506,\n",
       "        0.13314404],\n",
       "       ...,\n",
       "       [0.        , 0.06611767, 0.12023352, ..., 1.        , 0.16171426,\n",
       "        0.09930008],\n",
       "       [0.17460369, 0.0664575 , 0.09467506, ..., 0.16171426, 1.        ,\n",
       "        0.22833237],\n",
       "       [0.13359025, 0.21827563, 0.13314404, ..., 0.09930008, 0.22833237,\n",
       "        1.        ]])"
      ]
     },
     "execution_count": 17,
     "metadata": {},
     "output_type": "execute_result"
    }
   ],
   "source": [
    "from sklearn.metrics.pairwise import cosine_similarity\n",
    "cosine_similarity_matrix = cosine_similarity(train_ds)\n",
    "cosine_similarity_matrix"
   ]
  },
  {
   "cell_type": "code",
   "execution_count": 18,
   "id": "0ae345e2-9cbe-48f9-95b7-5ece728c99c3",
   "metadata": {},
   "outputs": [
    {
     "name": "stdout",
     "output_type": "stream",
     "text": [
      "RMSE on Tesing set Cosine Similarity (User-based): 1.1313025937886372\n"
     ]
    }
   ],
   "source": [
    "#Predictions based on Cosine Similarity for optimal k = 60\n",
    "np_predictions_cosine = np.zeros((n_users, n_items))\n",
    "\n",
    "K = 60 # no of neighbours, can try different values\n",
    "EPSILON = 1e-9\n",
    "\n",
    "for (i, j), rating in np.ndenumerate(test_ds.values):\n",
    "    if rating > 0:\n",
    "        # find top-k most similar users as the current user, remove itself\n",
    "        sim_user_ids = np.argsort(cosine_similarity_matrix[i])[-(K + 1):-1]\n",
    "\n",
    "        # the coefficient values of similar users\n",
    "        sim_val = cosine_similarity_matrix[i][sim_user_ids]\n",
    "\n",
    "        # the average value of the current user's ratings\n",
    "        sim_users = train_ds.values[sim_user_ids]\n",
    "        user_mean = np.sum(train_ds.values[i]) / (np.sum(np.clip(train_ds.values[i], 0, 1)) + EPSILON)\n",
    "        sim_user_mean = np.sum(sim_users, axis=1) / (np.sum(np.clip(sim_users, 0, 1), axis=1) + EPSILON)\n",
    "\n",
    "        # select the users who rated item j\n",
    "        mask_rated_j = sim_users[:, j] > 0\n",
    "        \n",
    "        # sim(u, v) * (r_vj - mean_v)\n",
    "        sim_r_sum_mean = sim_val[mask_rated_j] * (sim_users[mask_rated_j, j] - sim_user_mean[mask_rated_j])\n",
    "\n",
    "        # filter unrated items\n",
    "        #w = np.clip(sim_users[mask_rated_j, j], 0, 1)\n",
    "        #sim_r_sum_mean *= w\n",
    "        #print(sim_users[:, j])\n",
    "        \n",
    "        np_predictions_cosine[i][j] = user_mean + np.sum(sim_r_sum_mean) / (np.sum(sim_val[mask_rated_j]) + EPSILON)\n",
    "        np_predictions_cosine[i][j] = np.clip(np_predictions_cosine[i][j], 0, 5)\n",
    "\n",
    "\n",
    "\n",
    "#==================RMSE on Testing set===================\n",
    "labels = test_ds.values\n",
    "\n",
    "# squared error on all ratings\n",
    "squared_error = np.square(np_predictions_cosine - labels)\n",
    "weight = np.clip(labels, 0, 1)\n",
    "\n",
    "# squared error on rated ratings\n",
    "squared_error = squared_error * weight\n",
    "\n",
    "# RMSE\n",
    "RMSE_cosine = np.sqrt(np.sum(squared_error) / np.sum(weight))\n",
    "\n",
    "print(\"RMSE on Tesing set Cosine Similarity (User-based): \" + str(RMSE_cosine));"
   ]
  },
  {
   "cell_type": "markdown",
   "id": "e0582ca1-bbf3-446a-807d-cc68d72e2ea1",
   "metadata": {},
   "source": []
  },
  {
   "cell_type": "markdown",
   "id": "8316677e-df35-4d18-8416-80b05d94f2c5",
   "metadata": {},
   "source": [
    "#### Eucladian Distance - Similarity Matrix and User CF"
   ]
  },
  {
   "cell_type": "code",
   "execution_count": 21,
   "id": "f4bcfa36-e561-445b-b10f-f6df4dca90ef",
   "metadata": {},
   "outputs": [],
   "source": [
    "# Importing packages\n",
    "from sklearn.metrics.pairwise import euclidean_distances"
   ]
  },
  {
   "cell_type": "code",
   "execution_count": null,
   "id": "d36ee22c-32f0-44f4-905f-bf1db69e942c",
   "metadata": {},
   "outputs": [],
   "source": []
  },
  {
   "cell_type": "markdown",
   "id": "c76e2fa0-0b25-4d7f-8701-956eaafff4b8",
   "metadata": {},
   "source": [
    "#### Euclidean distances based User CF"
   ]
  },
  {
   "cell_type": "code",
   "execution_count": 54,
   "id": "52a6adb9-0de6-44d9-9617-7e5a9b91bd88",
   "metadata": {},
   "outputs": [
    {
     "data": {
      "text/plain": [
       "array([[ 0.        , 51.        , 39.56008089, ..., 35.58089375,\n",
       "        48.95916666, 72.23572523],\n",
       "       [51.        ,  0.        , 48.49742261, ..., 46.01086828,\n",
       "        59.73273809, 73.61385739],\n",
       "       [39.56008089, 48.49742261,  0.        , ..., 31.85906464,\n",
       "        50.019996  , 71.63099888],\n",
       "       ...,\n",
       "       [35.58089375, 46.01086828, 31.85906464, ...,  0.        ,\n",
       "        44.46346815, 70.04284403],\n",
       "       [48.95916666, 59.73273809, 50.019996  , ..., 44.46346815,\n",
       "         0.        , 73.23250644],\n",
       "       [72.23572523, 73.61385739, 71.63099888, ..., 70.04284403,\n",
       "        73.23250644,  0.        ]])"
      ]
     },
     "execution_count": 54,
     "metadata": {},
     "output_type": "execute_result"
    }
   ],
   "source": [
    "# calculating euclidean distances\n",
    "distance_matrix = euclidean_distances(train_ds)\n",
    "distance_matrix"
   ]
  },
  {
   "cell_type": "code",
   "execution_count": 55,
   "id": "9fb5dfaf-8263-4834-91c7-793700d798b3",
   "metadata": {},
   "outputs": [
    {
     "data": {
      "text/plain": [
       "array([[1.00000000e+09, 1.96078431e-02, 2.52780070e-02, ...,\n",
       "        2.81049714e-02, 2.04251843e-02, 1.38435656e-02],\n",
       "       [1.96078431e-02, 1.00000000e+09, 2.06196525e-02, ...,\n",
       "        2.17339954e-02, 1.67412383e-02, 1.35843989e-02],\n",
       "       [2.52780070e-02, 2.06196525e-02, 1.00000000e+09, ...,\n",
       "        3.13882410e-02, 1.99920048e-02, 1.39604363e-02],\n",
       "       ...,\n",
       "       [2.81049714e-02, 2.17339954e-02, 3.13882410e-02, ...,\n",
       "        1.00000000e+09, 2.24903734e-02, 1.42769760e-02],\n",
       "       [2.04251843e-02, 1.67412383e-02, 1.99920048e-02, ...,\n",
       "        2.24903734e-02, 1.00000000e+09, 1.36551383e-02],\n",
       "       [1.38435656e-02, 1.35843989e-02, 1.39604363e-02, ...,\n",
       "        1.42769760e-02, 1.36551383e-02, 1.00000000e+09]])"
      ]
     },
     "execution_count": 55,
     "metadata": {},
     "output_type": "execute_result"
    }
   ],
   "source": [
    "# Convert distances to similarity scores\n",
    "EPSILON = 1e-9\n",
    "euclidean_similarity_matrix = 1 / (distance_matrix + EPSILON)\n",
    "euclidean_similarity_matrix"
   ]
  },
  {
   "cell_type": "code",
   "execution_count": 56,
   "id": "f8a46399-18e0-4802-bc67-26b765391918",
   "metadata": {},
   "outputs": [
    {
     "name": "stdout",
     "output_type": "stream",
     "text": [
      "RMSE on Tesing set Eucladian Similarity (User-based): 1.4172937468966071\n"
     ]
    }
   ],
   "source": [
    "# Creating predictions based on Euclidean Similarity Matrix\n",
    "np_predictions_eucladian = np.zeros((n_users, n_items))\n",
    "\n",
    "K = 60 # no of neighbours, can try different values\n",
    "EPSILON = 1e-9\n",
    "\n",
    "for (i, j), rating in np.ndenumerate(test_ds.values):\n",
    "    if rating > 0:\n",
    "        # find top-k most similar users as the current user, remove itself\n",
    "        sim_user_ids = np.argsort(euclidean_similarity_matrix[i])[-(K + 1):-1]\n",
    "\n",
    "        # the coefficient values of similar users\n",
    "        sim_val = euclidean_similarity_matrix[i][sim_user_ids]\n",
    "\n",
    "        # the average value of the current user's ratings\n",
    "        sim_users = train_ds.values[sim_user_ids]\n",
    "        user_mean = np.sum(train_ds.values[i]) / (np.sum(np.clip(train_ds.values[i], 0, 1)) + EPSILON)\n",
    "        sim_user_mean = np.sum(sim_users, axis=1) / (np.sum(np.clip(sim_users, 0, 1), axis=1) + EPSILON)\n",
    "\n",
    "        # select the users who rated item j\n",
    "        mask_rated_j = sim_users[:, j] > 0\n",
    "        \n",
    "        # sim(u, v) * (r_vj - mean_v)\n",
    "        sim_r_sum_mean = sim_val[mask_rated_j] * (sim_users[mask_rated_j, j] - sim_user_mean[mask_rated_j])\n",
    "\n",
    "        # filter unrated items\n",
    "        #w = np.clip(sim_users[mask_rated_j, j], 0, 1)\n",
    "        #sim_r_sum_mean *= w\n",
    "        #print(sim_users[:, j])\n",
    "        \n",
    "        np_predictions_eucladian[i][j] = user_mean + np.sum(sim_r_sum_mean) / (np.sum(sim_val[mask_rated_j]) + EPSILON)\n",
    "        np_predictions_eucladian[i][j] = np.clip(np_predictions_eucladian[i][j], 0, 5)\n",
    "\n",
    "\n",
    "\n",
    "#==================RMSE on Testing set===================\n",
    "labels = test_ds.values\n",
    "\n",
    "# squared error on all ratings\n",
    "squared_error = np.square(np_predictions_eucladian - labels)\n",
    "weight = np.clip(labels, 0, 1)\n",
    "\n",
    "# squared error on rated ratings\n",
    "squared_error = squared_error * weight\n",
    "\n",
    "# RMSE\n",
    "RMSE_eucladian = np.sqrt(np.sum(squared_error) / np.sum(weight))\n",
    "\n",
    "print(\"RMSE on Tesing set Eucladian Similarity (User-based): \" + str(RMSE_eucladian));"
   ]
  },
  {
   "cell_type": "code",
   "execution_count": 57,
   "id": "e4bb5c31-4ca4-468b-bc52-7be03a18c4b5",
   "metadata": {},
   "outputs": [],
   "source": [
    "#KNN with k =60 is the best CF method based on the RMSE"
   ]
  },
  {
   "cell_type": "code",
   "execution_count": null,
   "id": "49eb8707-e4ad-4271-8f46-8ca772f6c971",
   "metadata": {},
   "outputs": [],
   "source": []
  },
  {
   "cell_type": "code",
   "execution_count": null,
   "id": "9a91343f-def4-4d8c-b88b-3e8b4816587e",
   "metadata": {},
   "outputs": [],
   "source": []
  },
  {
   "cell_type": "markdown",
   "id": "86ff7258-c81c-4ff2-8b8b-3f14b792e5ea",
   "metadata": {},
   "source": [
    "# Task 2: Matrix Factorization-based Recommendation"
   ]
  },
  {
   "cell_type": "markdown",
   "id": "165d2a00-0cd5-43a8-a172-cd3bdf08c61b",
   "metadata": {},
   "source": [
    "# Task 2: Matrix Factorization-based Recommendation"
   ]
  },
  {
   "cell_type": "code",
   "execution_count": 60,
   "id": "84cb8400-4577-4aea-9cc3-d4a160cc9d67",
   "metadata": {},
   "outputs": [],
   "source": [
    "#Importing packages\n",
    "from surprise import Reader, Dataset\n",
    "from surprise.model_selection import train_test_split\n",
    "from surprise.prediction_algorithms import SVD\n",
    "from surprise import accuracy\n",
    "from recommenders.models.surprise.surprise_utils import (predict)\n",
    "import random"
   ]
  },
  {
   "cell_type": "code",
   "execution_count": 61,
   "id": "33c99d84-c61b-4be4-aee5-fd58620f56ba",
   "metadata": {},
   "outputs": [
    {
     "data": {
      "text/plain": [
       "<surprise.dataset.DatasetAutoFolds at 0x150b99d10>"
      ]
     },
     "execution_count": 61,
     "metadata": {},
     "output_type": "execute_result"
    }
   ],
   "source": [
    "# Load the data into a Surprise dataset\n",
    "reader = Reader()\n",
    "data = Dataset.load_from_df(df[['UserID', 'MovieID', 'Rating']], reader)\n",
    "data"
   ]
  },
  {
   "cell_type": "code",
   "execution_count": 62,
   "id": "3a2114cd-357f-40eb-9101-008ca3e8b9b4",
   "metadata": {},
   "outputs": [],
   "source": [
    "# Split the data into training and test sets\n",
    "trainset, testset = train_test_split(data, test_size=0.2, random_state=435635) "
   ]
  },
  {
   "cell_type": "code",
   "execution_count": 63,
   "id": "d6584e6c-c243-4d51-a392-59f424433236",
   "metadata": {},
   "outputs": [
    {
     "data": {
      "text/plain": [
       "<surprise.prediction_algorithms.matrix_factorization.SVD at 0x150ef7650>"
      ]
     },
     "execution_count": 63,
     "metadata": {},
     "output_type": "execute_result"
    }
   ],
   "source": [
    "# Instantiate the SVD model\n",
    "svd = SVD()\n",
    "\n",
    "# Train the model on the training set\n",
    "svd.fit(trainset)"
   ]
  },
  {
   "cell_type": "code",
   "execution_count": 64,
   "id": "11892ea2-7f00-4f6f-b139-31bfce58d2d4",
   "metadata": {},
   "outputs": [
    {
     "name": "stdout",
     "output_type": "stream",
     "text": [
      "RMSE: 0.8724\n"
     ]
    }
   ],
   "source": [
    "# Predict ratings for the test set\n",
    "predictions = svd.test(testset)\n",
    "\n",
    "# Compute and print RMSE and MAE\n",
    "rmse = accuracy.rmse(predictions)"
   ]
  },
  {
   "cell_type": "code",
   "execution_count": 65,
   "id": "2926832f-0a81-4444-b861-6718720c0fb1",
   "metadata": {},
   "outputs": [
    {
     "data": {
      "text/html": [
       "<div>\n",
       "<style scoped>\n",
       "    .dataframe tbody tr th:only-of-type {\n",
       "        vertical-align: middle;\n",
       "    }\n",
       "\n",
       "    .dataframe tbody tr th {\n",
       "        vertical-align: top;\n",
       "    }\n",
       "\n",
       "    .dataframe thead th {\n",
       "        text-align: right;\n",
       "    }\n",
       "</style>\n",
       "<table border=\"1\" class=\"dataframe\">\n",
       "  <thead>\n",
       "    <tr style=\"text-align: right;\">\n",
       "      <th></th>\n",
       "      <th>UserID</th>\n",
       "      <th>MovieID</th>\n",
       "      <th>Predicted rating</th>\n",
       "    </tr>\n",
       "  </thead>\n",
       "  <tbody>\n",
       "    <tr>\n",
       "      <th>0</th>\n",
       "      <td>1</td>\n",
       "      <td>288</td>\n",
       "      <td>3.21</td>\n",
       "    </tr>\n",
       "    <tr>\n",
       "      <th>1</th>\n",
       "      <td>2</td>\n",
       "      <td>288</td>\n",
       "      <td>2.95</td>\n",
       "    </tr>\n",
       "    <tr>\n",
       "      <th>2</th>\n",
       "      <td>3</td>\n",
       "      <td>288</td>\n",
       "      <td>3.09</td>\n",
       "    </tr>\n",
       "    <tr>\n",
       "      <th>3</th>\n",
       "      <td>4</td>\n",
       "      <td>288</td>\n",
       "      <td>3.24</td>\n",
       "    </tr>\n",
       "    <tr>\n",
       "      <th>4</th>\n",
       "      <td>5</td>\n",
       "      <td>288</td>\n",
       "      <td>2.58</td>\n",
       "    </tr>\n",
       "    <tr>\n",
       "      <th>...</th>\n",
       "      <td>...</td>\n",
       "      <td>...</td>\n",
       "      <td>...</td>\n",
       "    </tr>\n",
       "    <tr>\n",
       "      <th>30195</th>\n",
       "      <td>6036</td>\n",
       "      <td>1282</td>\n",
       "      <td>4.70</td>\n",
       "    </tr>\n",
       "    <tr>\n",
       "      <th>30196</th>\n",
       "      <td>6037</td>\n",
       "      <td>1282</td>\n",
       "      <td>3.73</td>\n",
       "    </tr>\n",
       "    <tr>\n",
       "      <th>30197</th>\n",
       "      <td>6038</td>\n",
       "      <td>1282</td>\n",
       "      <td>4.12</td>\n",
       "    </tr>\n",
       "    <tr>\n",
       "      <th>30198</th>\n",
       "      <td>6039</td>\n",
       "      <td>1282</td>\n",
       "      <td>3.21</td>\n",
       "    </tr>\n",
       "    <tr>\n",
       "      <th>30199</th>\n",
       "      <td>6040</td>\n",
       "      <td>1282</td>\n",
       "      <td>3.83</td>\n",
       "    </tr>\n",
       "  </tbody>\n",
       "</table>\n",
       "<p>30200 rows × 3 columns</p>\n",
       "</div>"
      ],
      "text/plain": [
       "       UserID  MovieID Predicted rating\n",
       "0           1      288             3.21\n",
       "1           2      288             2.95\n",
       "2           3      288             3.09\n",
       "3           4      288             3.24\n",
       "4           5      288             2.58\n",
       "...       ...      ...              ...\n",
       "30195    6036     1282             4.70\n",
       "30196    6037     1282             3.73\n",
       "30197    6038     1282             4.12\n",
       "30198    6039     1282             3.21\n",
       "30199    6040     1282             3.83\n",
       "\n",
       "[30200 rows x 3 columns]"
      ]
     },
     "execution_count": 65,
     "metadata": {},
     "output_type": "execute_result"
    }
   ],
   "source": [
    "# Randomly select 5 movies from the dataset\n",
    "sample = df['MovieID'].sample(5)\n",
    "pred_list = []\n",
    "\n",
    "# Predict ratings for all users for the selected movies\n",
    "for movie_id in sample:\n",
    "    for user_id in df['UserID'].unique():\n",
    "        pred = svd.predict(user_id, movie_id)\n",
    "        pred_list.append({'UserID':user_id,'MovieID': movie_id,'Predicted rating':f\"{pred.est:.2f}\"})\n",
    "\n",
    "pd.DataFrame(pred_list)"
   ]
  },
  {
   "cell_type": "code",
   "execution_count": null,
   "id": "f3f9a471-33d2-47cd-82eb-414b6be5bb02",
   "metadata": {},
   "outputs": [],
   "source": []
  },
  {
   "cell_type": "markdown",
   "id": "f78c747b-f48f-4f05-b73c-dced9d48c020",
   "metadata": {},
   "source": [
    "#### Improve the performance of the original matrix factorization-based recommendation- SVD"
   ]
  },
  {
   "cell_type": "code",
   "execution_count": 67,
   "id": "4caffb29-1f1a-41e4-99c3-17170860bc97",
   "metadata": {},
   "outputs": [],
   "source": [
    "from surprise.model_selection import GridSearchCV"
   ]
  },
  {
   "cell_type": "code",
   "execution_count": 68,
   "id": "46551952-932f-40cf-920f-24c7a8f2c8ba",
   "metadata": {},
   "outputs": [],
   "source": [
    "# First Grid search to find the optimal values the parameters to improve RMSE.\n",
    "\n",
    "# param_grid = {\"n_epochs\": [5, 100], \"lr_all\": [0.002, 0.005, 0.01], \"reg_all\": [0.02, 0.1, 0.2],'n_factors': [50, 100, 150]}\n",
    "# gs = GridSearchCV(SVD, param_grid, measures=[\"rmse\"], cv=3)\n",
    "\n",
    "# gs.fit(data)\n",
    "\n",
    "# # best RMSE score\n",
    "# print(gs.best_score[\"rmse\"])\n",
    "\n",
    "# # combination of parameters that gave the best RMSE score\n",
    "# print(gs.best_params[\"rmse\"])\n",
    "\n",
    "\n",
    "## This resulted in a RMSE lower than the original matrix but the by a very small margin\n",
    "## Results - 0.866165009584713\n",
    "##{'n_epochs': 100, 'lr_all': 0.01, 'reg_all': 0.1, 'n_factors': 150}"
   ]
  },
  {
   "cell_type": "code",
   "execution_count": 69,
   "id": "7a4e2508-9c7f-4e61-a3cd-aefd0d7e9830",
   "metadata": {},
   "outputs": [
    {
     "name": "stdout",
     "output_type": "stream",
     "text": [
      "0.8591226299559903\n",
      "{'n_factors': 175, 'lr_all': 0.005, 'reg_all': 0.08, 'n_epochs': 120}\n"
     ]
    }
   ],
   "source": [
    "# Second Grid search to find the optimal values the parameters to improve RMSE.\n",
    "param_grid = {\n",
    "    'n_factors': [125, 150, 175],        \n",
    "    'lr_all': [0.005, 0.01, 0.015],      \n",
    "    'reg_all': [0.08, 0.1, 0.12],        \n",
    "    'n_epochs': [80, 100, 120]            \n",
    "}\n",
    "gs = GridSearchCV(SVD, param_grid, measures=[\"rmse\"], cv=3, n_jobs=-1)\n",
    "\n",
    "gs.fit(data)\n",
    "\n",
    "# best RMSE score\n",
    "print(gs.best_score[\"rmse\"])\n",
    "\n",
    "# combination of parameters that gave the best RMSE score\n",
    "print(gs.best_params[\"rmse\"])"
   ]
  },
  {
   "cell_type": "code",
   "execution_count": 70,
   "id": "d22cd85b-694b-4d6c-9166-67746b6911c2",
   "metadata": {},
   "outputs": [
    {
     "name": "stdout",
     "output_type": "stream",
     "text": [
      "RMSE: 0.8516\n"
     ]
    }
   ],
   "source": [
    "# Running the improved SVD model based on the parameters found above\n",
    "IMFR = SVD(n_factors=150,lr_all=0.005,reg_all= 0.08,n_epochs = 120 )\n",
    "\n",
    "# Train the model on the training set\n",
    "IMFR.fit(trainset)\n",
    "\n",
    "# Predict ratings for the test set\n",
    "predictions_IMFR = IMFR.test(testset)\n",
    "\n",
    "# Compute and print RMSE and MAE\n",
    "rmse_improved = accuracy.rmse(predictions_IMFR)"
   ]
  },
  {
   "cell_type": "code",
   "execution_count": 71,
   "id": "478c0c38-2b10-4dd2-9ac1-586e559801ec",
   "metadata": {},
   "outputs": [
    {
     "data": {
      "image/png": "[encoded data removed]",
      "text/plain": [
       "<Figure size 640x480 with 1 Axes>"
      ]
     },
     "metadata": {},
     "output_type": "display_data"
    }
   ],
   "source": [
    "# comparison between original RMSE and Improved SVD RMSE\n",
    "\n",
    "import matplotlib.pyplot as plt\n",
    "\n",
    "\n",
    "# Data for the bar graph\n",
    "models = ['Original SVD', 'Improved SVD', 'KNN_CF']\n",
    "rmse_values = [rmse, rmse_improved,RMSE_60]\n",
    "\n",
    "# Create the bar graph\n",
    "plt.bar(models, rmse_values)\n",
    "plt.xlabel('Model')\n",
    "plt.ylabel('RMSE')\n",
    "plt.title('Comparison of models based on RMSE')\n",
    "plt.axhline(y=min(rmse_values), color='r', linestyle='--')\n",
    "plt.show()\n"
   ]
  },
  {
   "cell_type": "code",
   "execution_count": null,
   "id": "48b688dc-f237-4098-878a-cfd1b327a79b",
   "metadata": {},
   "outputs": [],
   "source": []
  },
  {
   "cell_type": "markdown",
   "id": "e66b3b3d-6536-4242-8085-8e4994911b2e",
   "metadata": {},
   "source": [
    "# Task 3: Ranking-based Evaluation and Comparison"
   ]
  },
  {
   "cell_type": "code",
   "execution_count": 73,
   "id": "fc55c459-ef93-4780-8cc3-2a808baf8acc",
   "metadata": {},
   "outputs": [],
   "source": [
    "#IMFR recommendation\n",
    "\n",
    "import random\n",
    "from collections import defaultdict"
   ]
  },
  {
   "cell_type": "code",
   "execution_count": 74,
   "id": "57df5d20-d3a7-4fdf-b336-6c64aade5392",
   "metadata": {},
   "outputs": [],
   "source": [
    "# Creating a list of unique user ids and movie ids\n",
    "unique_users= df['UserID'].unique().tolist()\n",
    "unique_movies= df['MovieID'].unique().tolist()\n"
   ]
  },
  {
   "cell_type": "code",
   "execution_count": 75,
   "id": "fbd2afc6-b4a8-4c4d-9054-cbe1b033e024",
   "metadata": {},
   "outputs": [
    {
     "data": {
      "text/plain": [
       "2909"
      ]
     },
     "execution_count": 75,
     "metadata": {},
     "output_type": "execute_result"
    }
   ],
   "source": [
    "# Finding the list of users that have rated more than 100 movies\n",
    "count_users= df.groupby('UserID').size()\n",
    "user_100 = count_users[count_users > 100].index.tolist()\n",
    "len(user_100)"
   ]
  },
  {
   "cell_type": "code",
   "execution_count": 76,
   "id": "ce3346b1-6f61-4db5-a34c-3e3ca0d8c648",
   "metadata": {},
   "outputs": [
    {
     "data": {
      "text/plain": [
       "[5470, 1001, 237, 2403, 2120, 1939, 1219, 926, 5759, 4681]"
      ]
     },
     "execution_count": 76,
     "metadata": {},
     "output_type": "execute_result"
    }
   ],
   "source": [
    "# Set a random seed for Reproducibility \n",
    "random.seed(42)\n",
    "#Randomly selecting 10 users\n",
    "user_sample = random.sample(user_100,10)\n",
    "user_sample"
   ]
  },
  {
   "cell_type": "code",
   "execution_count": null,
   "id": "b374402f-7e49-450f-8acd-f25849de7a2b",
   "metadata": {},
   "outputs": [],
   "source": []
  },
  {
   "cell_type": "code",
   "execution_count": 77,
   "id": "aca1eb88-7b83-4154-8363-15ef0f091595",
   "metadata": {},
   "outputs": [
    {
     "name": "stdout",
     "output_type": "stream",
     "text": [
      "   UserID    AP      NDCG\n",
      "0    5470  0.00  0.000000\n",
      "1    1001  0.25  1.000000\n",
      "2     237  0.05  0.386853\n",
      "3    2403  0.00  0.000000\n",
      "4    2120  0.05  0.386853\n",
      "5    1939  0.00  0.000000\n",
      "6    1219  0.05  0.386853\n",
      "7     926  0.10  0.850345\n",
      "8    5759  0.00  0.000000\n",
      "9    4681  0.00  0.000000\n",
      "Overall Average Precision (AP): 0.05\n",
      "Overall NDCG: 0.30109033272383795\n"
     ]
    }
   ],
   "source": [
    "#Recommending and calculating AP score and NDGC for IMFR\n",
    "\n",
    "from collections import defaultdict\n",
    "import pandas as pd\n",
    "from sklearn.metrics import average_precision_score, ndcg_score\n",
    "\n",
    "# Prepare results dictionary to create a dataframe\n",
    "results = {'UserID': [], 'AP': [], 'NDCG': []}\n",
    "\n",
    "# Create a list of all unique MovieIDs\n",
    "all_movies = df['MovieID'].unique()\n",
    "\n",
    "for user_id in user_sample:\n",
    "    recommendations = defaultdict(list)  # Create a dictionary for recommendations\n",
    "    \n",
    "    # Creating predictions for all movies\n",
    "    for movie_id in all_movies:\n",
    "        pred_rating = IMFR.predict(user_id, movie_id)\n",
    "        recommendations[user_id].append((movie_id, pred_rating))\n",
    "\n",
    "    # Creating top 20 recommendations for each of the users\n",
    "    top_20 = {}\n",
    "    for user_id, rating in recommendations.items():\n",
    "        sorted_movies = sorted(rating, key=lambda x: x[1], reverse=True)[:20]  # Sort based on predictions\n",
    "        top_20[user_id] = sorted_movies\n",
    "\n",
    "    # Prepare to calculate metrics\n",
    "    for user_id, recs in top_20.items():\n",
    "        # Get the recommended movie IDs\n",
    "        recommended_movie_ids = [movie[0] for movie in recs]\n",
    "        \n",
    "        # Get true ratings for the current user\n",
    "        true_ratings = df[df['UserID'] == user_id]['MovieID'].values\n",
    "        \n",
    "        # Calculate AP if there are positive instances in true ratings\n",
    "        if len(true_ratings) > 0 and len(recommended_movie_ids) > 0:\n",
    "            y_true_ap = [1 if movie in true_ratings else 0 for movie in recommended_movie_ids]\n",
    "            # Ensure there are positive instances for AP calculation\n",
    "            if sum(y_true_ap) > 0:  \n",
    "                ap = average_precision_score(y_true=y_true_ap, y_score=[1]*len(recommended_movie_ids))  \n",
    "            else:\n",
    "                ap = 0  # No relevant items in recommended, set AP to 0\n",
    "        else:\n",
    "            ap = 0  # If there are no true ratings or recommended movies, set AP to 0\n",
    "        \n",
    "        # Calculate NDCG only if there are relevant items\n",
    "        if len(true_ratings) > 0 and len(recommended_movie_ids) > 0:\n",
    "            y_true_ndcg = [1 if movie in true_ratings else 0 for movie in recommended_movie_ids]\n",
    "            # Calculate NDCG only if there's at least one positive instance\n",
    "            if sum(y_true_ndcg) > 0:\n",
    "                ndcg = ndcg_score([y_true_ndcg], [recommended_movie_ids])  # NDCG requires lists of arrays\n",
    "            else:\n",
    "                ndcg = 0  # No relevant items in recommended, set NDCG to 0\n",
    "        else:\n",
    "            ndcg = 0  # If there are no true ratings or recommended movies, set NDCG to None\n",
    "\n",
    "\n",
    "\n",
    "        # Store results\n",
    "        results['UserID'].append(user_id)\n",
    "        results['AP'].append(ap)\n",
    "        results['NDCG'].append(ndcg)\n",
    "\n",
    "        for user_id, movie_recommendations in top_20.items():\n",
    "            recommended_movies = [movie_id for movie_id, _ in movie_recommendations]\n",
    "        \n",
    "           \n",
    "\n",
    "# Convert results to DataFrame for easier analysis\n",
    "results_df = pd.DataFrame(results)\n",
    "\n",
    "# Print the resulting DataFrame\n",
    "print(results_df)\n",
    "\n",
    "# Calculate overall AP and NDCG\n",
    "overall_ap = results_df['AP'].mean()\n",
    "overall_ndcg = results_df['NDCG'].mean()\n",
    "\n",
    "#         # Calculate overall AP and NDCG for IMFR\n",
    "# overall_ap_imfr = results_imfr_df['AP'].mean() if results_imfr_df['AP'].size > 0 else 0\n",
    "# overall_ndcg_imfr = results_imfr_df['NDCG'].mean() if results_imfr_df['NDCG'].size > 0 else 0\n",
    "\n",
    "# Print the results\n",
    "print(f\"Overall Average Precision (AP): {overall_ap}\")\n",
    "print(f\"Overall NDCG: {overall_ndcg}\")"
   ]
  },
  {
   "cell_type": "code",
   "execution_count": null,
   "id": "bc935472-50ab-4c1f-96f3-7d239f88abce",
   "metadata": {},
   "outputs": [],
   "source": []
  },
  {
   "cell_type": "code",
   "execution_count": null,
   "id": "669497b7-3ec5-4e14-8dce-8b575f532359",
   "metadata": {},
   "outputs": [],
   "source": []
  },
  {
   "cell_type": "code",
   "execution_count": null,
   "id": "e298cc52-fe18-4726-9b39-51935dc475b5",
   "metadata": {},
   "outputs": [],
   "source": []
  },
  {
   "cell_type": "code",
   "execution_count": null,
   "id": "d887fd51-a13d-4990-b687-f5b3a6e428f3",
   "metadata": {},
   "outputs": [],
   "source": []
  },
  {
   "cell_type": "code",
   "execution_count": null,
   "id": "c30a60c5-be57-4154-82dc-cd8890dd5296",
   "metadata": {},
   "outputs": [],
   "source": []
  },
  {
   "cell_type": "code",
   "execution_count": 78,
   "id": "ac039e2b-246b-4856-938b-ee1a191146c6",
   "metadata": {},
   "outputs": [
    {
     "name": "stdout",
     "output_type": "stream",
     "text": [
      "KNN Method Results:\n",
      "   UserID        AP      NDCG\n",
      "0    5470  0.000000  0.000000\n",
      "1    1001  0.052632  0.315465\n",
      "2     237  0.052632  0.244651\n",
      "3    2403  0.000000  0.000000\n",
      "4    2120  0.105263  0.564092\n",
      "5    1939  0.000000  0.000000\n",
      "6    1219  0.000000  0.000000\n",
      "7     926  0.000000  0.000000\n",
      "8    5759  0.210526  0.634479\n",
      "9    4681  0.052632  0.301030\n",
      "Overall Average Precision (AP) for kNN: 0.047368421052631574\n",
      "Overall NDCG for kNN: 0.2059716676973021\n"
     ]
    }
   ],
   "source": [
    "#Recommending and calculating AP score and NDGC for KNN\n",
    "\n",
    "# Prepare to calculate metrics for kNN\n",
    "results_knn = {'UserID': [], 'AP': [], 'NDCG': []}\n",
    "\n",
    "# Get unique movie IDs\n",
    "movie_ids = df['MovieID'].unique()  # Get unique movie IDs from the DataFrame\n",
    "\n",
    "# Create a mapping of movie IDs to their indices\n",
    "movie_id_to_index = {movie_id: idx for idx, movie_id in enumerate(movie_ids)}\n",
    "\n",
    "# Iterate over users in user_sample\n",
    "for user_id in user_sample:\n",
    "    # Get the user index from the user_sample\n",
    "    user_index = user_sample.index(user_id)\n",
    "    \n",
    "    # Ensure the user index is within bounds\n",
    "    if user_index < np_predictions_KNN_60.shape[0]:\n",
    "        # Get true ratings for the current user\n",
    "        true_ratings = df[df['UserID'] == user_id]['MovieID'].values\n",
    "        \n",
    "        # Get the predicted ratings for the current user\n",
    "        predicted_ratings = np_predictions_KNN_60[user_index]  # Predicted ratings for the user\n",
    "        \n",
    "        # Get indices of the top N (e.g., top 20) recommended movie IDs based on predicted ratings\n",
    "        top_n_indices = np.argsort(predicted_ratings)[::-1][:20]  # Get indices of top 20 predictions\n",
    "        \n",
    "        # Get the actual movie IDs based on the indices of top N\n",
    "        recommended_movie_ids = [movie_ids[i] for i in top_n_indices if i < len(movie_ids)]\n",
    "\n",
    "        # Calculate AP\n",
    "        y_true_ap = [1 if movie in true_ratings else 0 for movie in recommended_movie_ids]\n",
    "        \n",
    "        # Avoid AP calculation if no positive classes exist\n",
    "        if sum(y_true_ap) > 0:  # Check if there's at least one relevant item\n",
    "            ap = average_precision_score(y_true=y_true_ap, y_score=[1]*len(recommended_movie_ids))  # y_score is uniform here\n",
    "        else:\n",
    "            ap = 0  # Set AP to 0 if no relevant items\n",
    "\n",
    "        # Create a binary relevance score for NDCG calculation\n",
    "        y_true_ndcg = [1 if movie in true_ratings else 0 for movie in recommended_movie_ids]\n",
    "\n",
    "        # Calculate NDCG, ensuring we don't pass empty arrays\n",
    "        if len(y_true_ndcg) > 0 and sum(y_true_ndcg) > 0:  # Check for positive classes\n",
    "            ndcg = ndcg_score([y_true_ndcg], [recommended_movie_ids])  # NDCG requires lists of arrays\n",
    "        else:\n",
    "            ndcg = 0  # Set NDCG to 0 if no relevant items\n",
    "\n",
    "        # Store results\n",
    "        results_knn['UserID'].append(user_id)\n",
    "        results_knn['AP'].append(ap)\n",
    "        results_knn['NDCG'].append(ndcg)\n",
    "\n",
    "\n",
    "# Convert results to DataFrame for easier analysis\n",
    "results_knn_df = pd.DataFrame(results_knn)\n",
    "\n",
    "# Calculate overall AP and NDCG for kNN\n",
    "overall_ap_knn = results_knn_df['AP'].mean() if results_knn_df['AP'].size > 0 else 0\n",
    "overall_ndcg_knn = results_knn_df['NDCG'].mean() if results_knn_df['NDCG'].size > 0 else 0\n",
    "\n",
    "# Print the results\n",
    "print(\"KNN Method Results:\")\n",
    "print(results_knn_df)\n",
    "print(f\"Overall Average Precision (AP) for kNN: {overall_ap_knn}\")\n",
    "print(f\"Overall NDCG for kNN: {overall_ndcg_knn}\")\n"
   ]
  },
  {
   "cell_type": "code",
   "execution_count": null,
   "id": "f6bccfda-95bc-457c-b1bf-85e78af64386",
   "metadata": {},
   "outputs": [],
   "source": []
  },
  {
   "cell_type": "code",
   "execution_count": 79,
   "id": "347703cc-15af-4226-b22a-8faca380dc10",
   "metadata": {},
   "outputs": [],
   "source": [
    "#Visualisation"
   ]
  },
  {
   "cell_type": "code",
   "execution_count": null,
   "id": "53c48356-e343-4b44-826b-c987ddb81bef",
   "metadata": {},
   "outputs": [],
   "source": []
  },
  {
   "cell_type": "code",
   "execution_count": null,
   "id": "0e909273-ece1-48d9-93b5-27e7b29183e1",
   "metadata": {},
   "outputs": [],
   "source": []
  },
  {
   "cell_type": "code",
   "execution_count": 80,
   "id": "c6839a5a-7ce0-4686-a7b5-69730da9d2f4",
   "metadata": {},
   "outputs": [],
   "source": [
    "import matplotlib.pyplot as plt\n",
    "import seaborn as sns"
   ]
  },
  {
   "cell_type": "code",
   "execution_count": null,
   "id": "9d2d1048-0ca5-4ec1-89af-a656bffc25a1",
   "metadata": {},
   "outputs": [],
   "source": []
  },
  {
   "cell_type": "code",
   "execution_count": 81,
   "id": "d553724b-6895-480b-b828-64b4a6392e51",
   "metadata": {},
   "outputs": [],
   "source": [
    "# Create an overall results dataframe for AP and NDCG\n",
    "overall_results = pd.DataFrame({\n",
    "    'Method': ['kNN', 'IMFR'],\n",
    "    'Overall AP': [overall_ap_knn, overall_ap],\n",
    "    'Overall NDCG': [overall_ndcg_knn, overall_ndcg]\n",
    "})"
   ]
  },
  {
   "cell_type": "code",
   "execution_count": null,
   "id": "e606134d-c149-4ac7-9fb2-6e42e7e6b198",
   "metadata": {},
   "outputs": [],
   "source": []
  },
  {
   "cell_type": "code",
   "execution_count": 82,
   "id": "0136f8ae-5a3a-45d3-ba18-adb9704d8315",
   "metadata": {},
   "outputs": [
    {
     "data": {
      "text/html": [
       "<div>\n",
       "<style scoped>\n",
       "    .dataframe tbody tr th:only-of-type {\n",
       "        vertical-align: middle;\n",
       "    }\n",
       "\n",
       "    .dataframe tbody tr th {\n",
       "        vertical-align: top;\n",
       "    }\n",
       "\n",
       "    .dataframe thead th {\n",
       "        text-align: right;\n",
       "    }\n",
       "</style>\n",
       "<table border=\"1\" class=\"dataframe\">\n",
       "  <thead>\n",
       "    <tr style=\"text-align: right;\">\n",
       "      <th></th>\n",
       "      <th>Method</th>\n",
       "      <th>Overall AP</th>\n",
       "      <th>Overall NDCG</th>\n",
       "    </tr>\n",
       "  </thead>\n",
       "  <tbody>\n",
       "    <tr>\n",
       "      <th>0</th>\n",
       "      <td>kNN</td>\n",
       "      <td>0.047368</td>\n",
       "      <td>0.205972</td>\n",
       "    </tr>\n",
       "    <tr>\n",
       "      <th>1</th>\n",
       "      <td>IMFR</td>\n",
       "      <td>0.050000</td>\n",
       "      <td>0.301090</td>\n",
       "    </tr>\n",
       "  </tbody>\n",
       "</table>\n",
       "</div>"
      ],
      "text/plain": [
       "  Method  Overall AP  Overall NDCG\n",
       "0    kNN    0.047368      0.205972\n",
       "1   IMFR    0.050000      0.301090"
      ]
     },
     "execution_count": 82,
     "metadata": {},
     "output_type": "execute_result"
    }
   ],
   "source": [
    "overall_results"
   ]
  },
  {
   "cell_type": "code",
   "execution_count": 83,
   "id": "d0f96e60-e92f-40a0-bc71-9d1b76ad5e66",
   "metadata": {},
   "outputs": [
    {
     "data": {
      "image/png": "[encoded data removed]",
      "text/plain": [
       "<Figure size 640x480 with 1 Axes>"
      ]
     },
     "metadata": {},
     "output_type": "display_data"
    }
   ],
   "source": [
    "#Average precision chart\n",
    "sns.barplot(data=overall_results, x='Method', y='Overall AP')\n",
    "plt.title('Average Precision of KNN and IMFR')\n",
    "plt.ylabel('Average Precision (AP)')\n",
    "plt.xlabel('Model')\n",
    "plt.ylim(0, 0.08) \n",
    "plt.show()\n"
   ]
  },
  {
   "cell_type": "code",
   "execution_count": 84,
   "id": "b6f9c2d8-1b0f-4182-8b2b-4e4d05c83f7e",
   "metadata": {},
   "outputs": [
    {
     "data": {
      "image/png": "[encoded data removed]",
      "text/plain": [
       "<Figure size 1000x500 with 1 Axes>"
      ]
     },
     "metadata": {},
     "output_type": "display_data"
    }
   ],
   "source": [
    "#Average precision chart\n",
    "plt.figure(figsize=(10, 5))\n",
    "sns.barplot(data=overall_results, x='Method', y='Overall NDCG')\n",
    "plt.title('Overall NDGC of KNN and IMFR')\n",
    "plt.ylabel('NDCG')\n",
    "plt.xlabel('Model')\n",
    "plt.ylim(0, 0.5)  # Assuming NDCG values are between 0 and 1\n",
    "plt.show()\n"
   ]
  },
  {
   "cell_type": "code",
   "execution_count": null,
   "id": "d8603697-bc1a-442f-8e28-30b0fe6bb8e5",
   "metadata": {},
   "outputs": [],
   "source": []
  },
  {
   "cell_type": "code",
   "execution_count": null,
   "id": "e1746b5f-2ed8-43c1-b67a-7148ec553bd7",
   "metadata": {},
   "outputs": [],
   "source": []
  },
  {
   "cell_type": "code",
   "execution_count": null,
   "id": "0cae1942-eb54-42a7-8f87-0bcf110a5c33",
   "metadata": {},
   "outputs": [],
   "source": []
  },
  {
   "cell_type": "code",
   "execution_count": null,
   "id": "6a744361-a0b9-466c-acaf-a44492356b1d",
   "metadata": {},
   "outputs": [],
   "source": []
  },
  {
   "cell_type": "code",
   "execution_count": 85,
   "id": "0ce37d57-e39a-4362-9f7a-40ff7bb3c71d",
   "metadata": {},
   "outputs": [],
   "source": [
    "# Listing out the recommendations for each user based on IMFR"
   ]
  },
  {
   "cell_type": "code",
   "execution_count": 86,
   "id": "d9e4f8a9-9da5-4070-a926-242d06f13b55",
   "metadata": {},
   "outputs": [
    {
     "name": "stdout",
     "output_type": "stream",
     "text": [
      "       userID  itemID  prediction\n",
      "0        5470    1193    4.326105\n",
      "1        5470     661    3.523371\n",
      "2        5470     914    3.855133\n",
      "3        5470    3408    3.429508\n",
      "4        5470    2355    3.762954\n",
      "...       ...     ...         ...\n",
      "37055    4681    2198    3.483983\n",
      "37056    4681    2703    3.291888\n",
      "37057    4681    2845    2.456703\n",
      "37058    4681    3607    3.826397\n",
      "37059    4681    2909    3.746828\n",
      "\n",
      "[37060 rows x 3 columns]\n"
     ]
    }
   ],
   "source": [
    "# Loop through each user and movie, predicting the rating\n",
    "predictions_list =[]\n",
    "for user_id in user_sample:\n",
    "    for movie_id in all_movies:\n",
    "        pred_rating = IMFR.predict(user_id, movie_id)\n",
    "        # Append the result as a tuple\n",
    "        predictions_list.append((user_id, movie_id, pred_rating.est))\n",
    "\n",
    "# Create a DataFrame from the predictions list\n",
    "predictions = pd.DataFrame(predictions_list, columns=['userID', 'itemID', 'prediction'])\n",
    "\n",
    "# Display the first few rows of the predictions DataFrame\n",
    "print(predictions)"
   ]
  },
  {
   "cell_type": "code",
   "execution_count": null,
   "id": "ab93c8ac-c5f3-4fcb-9a40-7374992fc771",
   "metadata": {},
   "outputs": [],
   "source": []
  },
  {
   "cell_type": "code",
   "execution_count": null,
   "id": "725d21e7-73a0-4faa-911d-00659352d6e6",
   "metadata": {},
   "outputs": [],
   "source": []
  },
  {
   "cell_type": "code",
   "execution_count": null,
   "id": "bb307715-3172-413f-87c5-b684a0d4d548",
   "metadata": {},
   "outputs": [],
   "source": []
  },
  {
   "cell_type": "code",
   "execution_count": 87,
   "id": "ff0634d4-e951-481e-8fdd-934fcd0872eb",
   "metadata": {},
   "outputs": [
    {
     "name": "stdout",
     "output_type": "stream",
     "text": [
      "      userID  itemID  prediction\n",
      "2801    5470    3245    4.665153\n",
      "3266    5470    1117    4.644712\n",
      "669     5470     858    4.625892\n",
      "1673    5470    1147    4.624445\n",
      "1288    5470    3338    4.594097\n",
      "3155    5470    2931    4.593885\n",
      "1638    5470    3091    4.587480\n",
      "2562    5470     787    4.564148\n",
      "3412    5470    2503    4.538244\n",
      "611     5470     750    4.518723\n",
      "236     5470    1250    4.503421\n",
      "44      5470     260    4.501384\n",
      "1092    5470    2019    4.499455\n",
      "2617    5470    2905    4.487587\n",
      "2313    5470    2937    4.471020\n",
      "546     5470    1233    4.460354\n",
      "662     5470     924    4.457313\n",
      "1494    5470    3022    4.455894\n",
      "2473    5470     668    4.455074\n",
      "629     5470     904    4.450856\n",
      "      userID  itemID  prediction\n",
      "7118    1001    2503    4.875857\n",
      "5937    1001    1178    4.840184\n",
      "5628    1001    3307    4.778982\n",
      "6821    1001     106    4.773258\n",
      "4798    1001    2019    4.765057\n",
      "4989    1001    1212    4.764788\n",
      "6429    1001    2830    4.759596\n",
      "6972    1001    1117    4.733465\n",
      "5155    1001     922    4.729478\n",
      "4472    1001    1230    4.725086\n",
      "4265    1001    1252    4.707671\n",
      "6337    1001     602    4.703814\n",
      "4335    1001     904    4.692775\n",
      "5717    1001    1228    4.683085\n",
      "3810    1001    2858    4.680951\n",
      "6987    1001    3306    4.678900\n",
      "4375    1001     858    4.674476\n",
      "6640    1001    1423    4.673700\n",
      "3757    1001     608    4.672905\n",
      "6333    1001    1361    4.670914\n",
      "       userID  itemID  prediction\n",
      "7435      237     527    4.403817\n",
      "10029     237    2905    4.383463\n",
      "7579      237     318    4.371677\n",
      "7450      237    2762    4.330657\n",
      "7462      237    3114    4.321021\n",
      "7539      237    1198    4.314155\n",
      "8105      237     953    4.295348\n",
      "7583      237     356    4.243525\n",
      "7460      237    2028    4.212677\n",
      "7540      237     593    4.196488\n",
      "7451      237     150    4.193494\n",
      "7497      237    3147    4.191258\n",
      "8041      237     904    4.190648\n",
      "8859      237    3469    4.180100\n",
      "7648      237    1250    4.177217\n",
      "8182      237    1234    4.172881\n",
      "10824     237    2503    4.171524\n",
      "7439      237    1721    4.168653\n",
      "7418      237    1287    4.161875\n",
      "7598      237    1291    4.157543\n",
      "       userID  itemID  prediction\n",
      "13735    2403    2905    4.565920\n",
      "11250    2403    2571    4.510707\n",
      "11377    2403      50    4.460964\n",
      "11246    2403     593    4.403874\n",
      "11285    2403     318    4.394257\n",
      "11222    2403    2858    4.364152\n",
      "11624    2403    2329    4.342262\n",
      "11156    2403    2762    4.334632\n",
      "11141    2403     527    4.333548\n",
      "14530    2403    2503    4.327953\n",
      "11210    2403     110    4.294833\n",
      "11147    2403     745    4.285955\n",
      "11653    2403    1148    4.281923\n",
      "14384    2403    1117    4.273996\n",
      "12284    2403    3000    4.266825\n",
      "11360    2403      47    4.254930\n",
      "13919    2403    3245    4.253755\n",
      "11166    2403    2028    4.240952\n",
      "11787    2403     858    4.238822\n",
      "11362    2403     296    4.235975\n",
      "       userID  itemID  prediction\n",
      "18236    2120    2503    4.690660\n",
      "18090    2120    1117    4.569466\n",
      "16112    2120    3338    4.485459\n",
      "17625    2120    3245    4.426525\n",
      "17758    2120    1423    4.407822\n",
      "18186    2120    2197    4.385870\n",
      "17295    2120     649    4.378030\n",
      "17834    2120    1002    4.373240\n",
      "14853    2120     745    4.367923\n",
      "14845    2120     720    4.366973\n",
      "15359    2120    1148    4.352640\n",
      "17441    2120    2905    4.331948\n",
      "15916    2120    2019    4.327222\n",
      "17741    2120    2839    4.327207\n",
      "14895    2120    1217    4.305365\n",
      "17648    2120     632    4.301519\n",
      "17297    2120     668    4.299380\n",
      "18242    2120      53    4.288878\n",
      "17428    2120    1236    4.286894\n",
      "17926    2120      96    4.278063\n",
      "       userID  itemID  prediction\n",
      "21156    1939     670    4.894256\n",
      "21942    1939    2503    4.755567\n",
      "19622    1939    2019    4.726698\n",
      "19065    1939    1148    4.697821\n",
      "18559    1939     745    4.695969\n",
      "20561    1939    3134    4.673976\n",
      "21331    1939    3245    4.650094\n",
      "19141    1939     750    4.639737\n",
      "18551    1939     720    4.633763\n",
      "21003    1939     668    4.626837\n",
      "19813    1939    1212    4.612070\n",
      "18950    1939     912    4.598661\n",
      "21645    1939     106    4.580081\n",
      "20452    1939    3307    4.577403\n",
      "21147    1939    2905    4.575040\n",
      "21008    1939    2609    4.569847\n",
      "19253    1939     898    4.568258\n",
      "19979    1939     922    4.555875\n",
      "18600    1939    3030    4.554876\n",
      "21001    1939     649    4.550616\n",
      "       userID  itemID  prediction\n",
      "24853    1219    2905    4.949161\n",
      "22495    1219      50    4.845442\n",
      "24707    1219     649    4.814937\n",
      "22368    1219    2571    4.808288\n",
      "22364    1219     593    4.784589\n",
      "22274    1219    2762    4.766199\n",
      "22403    1219     318    4.735274\n",
      "23006    1219    1234    4.727470\n",
      "22306    1219    3030    4.703894\n",
      "22905    1219     858    4.695866\n",
      "23328    1219    2019    4.689730\n",
      "22363    1219    1198    4.683129\n",
      "22280    1219     260    4.680784\n",
      "22480    1219     296    4.678308\n",
      "23075    1219    1262    4.677845\n",
      "22574    1219     913    4.675636\n",
      "23524    1219    3338    4.662349\n",
      "24159    1219    3092    4.649595\n",
      "22954    1219    1204    4.637278\n",
      "22304    1219    3578    4.632020\n",
      "       userID  itemID  prediction\n",
      "27230     926    3338    5.000000\n",
      "28413     926     649    5.000000\n",
      "29208     926    1117    5.000000\n",
      "28952     926    1002    5.000000\n",
      "29304     926    2197    5.000000\n",
      "28559     926    2905    5.000000\n",
      "29354     926    2503    4.983927\n",
      "26074     926    2571    4.954996\n",
      "29336     926     598    4.949040\n",
      "25980     926    2762    4.933386\n",
      "29360     926      53    4.930284\n",
      "28743     926    3245    4.917250\n",
      "26201     926      50    4.896857\n",
      "29024     926    2810    4.892713\n",
      "26109     926     318    4.883436\n",
      "26010     926    3578    4.870148\n",
      "29431     926    3517    4.868090\n",
      "25986     926     260    4.863797\n",
      "28504     926     787    4.847861\n",
      "26069     926    1198    4.825788\n",
      "       userID  itemID  prediction\n",
      "29677    5759     745    4.721611\n",
      "30183    5759    1148    4.720460\n",
      "33060    5759    2503    4.689898\n",
      "30740    5759    2019    4.671008\n",
      "32274    5759     670    4.649004\n",
      "29669    5759     720    4.624591\n",
      "30936    5759    3338    4.623201\n",
      "31168    5759    3429    4.620511\n",
      "31142    5759    3022    4.615008\n",
      "30187    5759    1223    4.594356\n",
      "31570    5759    3307    4.588310\n",
      "30259    5759     750    4.566477\n",
      "32339    5759     669    4.549620\n",
      "31879    5759    1178    4.549614\n",
      "30445    5759    1288    4.548859\n",
      "31097    5759     922    4.546170\n",
      "32265    5759    2905    4.524186\n",
      "32929    5759    3306    4.499433\n",
      "32258    5759    3470    4.495688\n",
      "29907    5759      50    4.484797\n",
      "       userID  itemID  prediction\n",
      "36766    4681    2503    4.711917\n",
      "34642    4681    3338    4.710273\n",
      "36794    4681    1138    4.627235\n",
      "36620    4681    1117    4.504541\n",
      "34151    4681    1288    4.451952\n",
      "34923    4681    2932    4.445565\n",
      "35827    4681     668    4.430749\n",
      "33965    4681     750    4.428038\n",
      "35825    4681     649    4.412785\n",
      "33598    4681     296    4.405510\n",
      "35842    4681    2925    4.403756\n",
      "36155    4681    3245    4.391729\n",
      "33613    4681      50    4.384682\n",
      "34097    4681     541    4.379227\n",
      "33458    4681    2858    4.378635\n",
      "34595    4681    1199    4.377284\n",
      "34174    4681    3182    4.376148\n",
      "35971    4681    2905    4.351900\n",
      "33690    4681    1089    4.350497\n",
      "35027    4681    1147    4.344756\n"
     ]
    }
   ],
   "source": [
    "# Filter the predictions for the specific user and sort by predicted rating\n",
    "top_n = 20\n",
    "for user_id in user_sample:\n",
    "    user_recommendations = predictions[predictions['userID'] == user_id]\n",
    "    top_recommendations = user_recommendations.sort_values(by='prediction', ascending=False).head(top_n)\n",
    "\n",
    "    # Display the top recommendations for the specified user\n",
    "    print(top_recommendations)"
   ]
  },
  {
   "cell_type": "code",
   "execution_count": null,
   "id": "866bd85e-b608-43e0-9d72-298841e8ff08",
   "metadata": {},
   "outputs": [],
   "source": []
  },
  {
   "cell_type": "code",
   "execution_count": null,
   "id": "5af72e0c-eec0-4c94-b97a-b2e90c8d4c5f",
   "metadata": {},
   "outputs": [],
   "source": []
  }
 ],
 "metadata": {
  "kernelspec": {
   "display_name": "Python 3 (ipykernel)",
   "language": "python",
   "name": "python3"
  },
  "language_info": {
   "codemirror_mode": {
    "name": "ipython",
    "version": 3
   },
   "file_extension": ".py",
   "mimetype": "text/x-python",
   "name": "python",
   "nbconvert_exporter": "python",
   "pygments_lexer": "ipython3",
   "version": "3.11.7"
  }
 },
 "nbformat": 4,
 "nbformat_minor": 5
}
