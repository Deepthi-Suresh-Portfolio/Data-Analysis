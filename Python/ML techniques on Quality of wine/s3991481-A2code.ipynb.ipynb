{
 "cells": [
  {
   "cell_type": "markdown",
   "metadata": {
    "id": "u-EEv9utoT69"
   },
   "source": [
    "# Assignment 2 by: Deepthi Suresh (S3991481)\n"
   ]
  },
  {
   "cell_type": "markdown",
   "metadata": {
    "id": "u-EEv9utoT69"
   },
   "source": [
    "# Task 1: Regression\n"
   ]
  },
  {
   "cell_type": "code",
   "execution_count": 4,
   "metadata": {
    "id": "Qykq4YuQtZUS"
   },
   "outputs": [],
   "source": [
    "#Importing Packages\n",
    "import pandas as pd\n",
    "import matplotlib.pyplot as plt\n",
    "import numpy as np\n",
    "import statsmodels.api as sm\n",
    "\n",
    "from sklearn.linear_model import LinearRegression\n",
    "from sklearn import metrics\n",
    "from sklearn.model_selection import train_test_split \n",
    "from sklearn.metrics import r2_score, mean_squared_error\n",
    "from sklearn.preprocessing import StandardScaler\n",
    "import warnings\n",
    "warnings.filterwarnings('ignore')\n"
   ]
  },
  {
   "cell_type": "code",
   "execution_count": 5,
   "metadata": {},
   "outputs": [],
   "source": [
    "data = pd.read_csv(\"A2data.csv\",sep=';',decimal='.',header=0) # reading the file into python"
   ]
  },
  {
   "cell_type": "code",
   "execution_count": 6,
   "metadata": {},
   "outputs": [
    {
     "data": {
      "text/html": [
       "<div>\n",
       "<style scoped>\n",
       "    .dataframe tbody tr th:only-of-type {\n",
       "        vertical-align: middle;\n",
       "    }\n",
       "\n",
       "    .dataframe tbody tr th {\n",
       "        vertical-align: top;\n",
       "    }\n",
       "\n",
       "    .dataframe thead th {\n",
       "        text-align: right;\n",
       "    }\n",
       "</style>\n",
       "<table border=\"1\" class=\"dataframe\">\n",
       "  <thead>\n",
       "    <tr style=\"text-align: right;\">\n",
       "      <th></th>\n",
       "      <th>fixed acidity</th>\n",
       "      <th>volatile acidity</th>\n",
       "      <th>citric acid</th>\n",
       "      <th>residual sugar</th>\n",
       "      <th>chlorides</th>\n",
       "      <th>free sulfur dioxide</th>\n",
       "      <th>total sulfur dioxide</th>\n",
       "      <th>density</th>\n",
       "      <th>pH</th>\n",
       "      <th>sulphates</th>\n",
       "      <th>alcohol</th>\n",
       "      <th>quality</th>\n",
       "    </tr>\n",
       "  </thead>\n",
       "  <tbody>\n",
       "    <tr>\n",
       "      <th>0</th>\n",
       "      <td>7.0</td>\n",
       "      <td>0.27</td>\n",
       "      <td>0.36</td>\n",
       "      <td>20.7</td>\n",
       "      <td>0.045</td>\n",
       "      <td>45</td>\n",
       "      <td>170</td>\n",
       "      <td>1.001</td>\n",
       "      <td>3.00</td>\n",
       "      <td>0.45</td>\n",
       "      <td>8.8</td>\n",
       "      <td>6</td>\n",
       "    </tr>\n",
       "    <tr>\n",
       "      <th>1</th>\n",
       "      <td>6.3</td>\n",
       "      <td>0.30</td>\n",
       "      <td>0.34</td>\n",
       "      <td>1.6</td>\n",
       "      <td>0.049</td>\n",
       "      <td>14</td>\n",
       "      <td>132</td>\n",
       "      <td>0.994</td>\n",
       "      <td>3.30</td>\n",
       "      <td>0.49</td>\n",
       "      <td>9.5</td>\n",
       "      <td>6</td>\n",
       "    </tr>\n",
       "    <tr>\n",
       "      <th>2</th>\n",
       "      <td>8.1</td>\n",
       "      <td>0.28</td>\n",
       "      <td>0.40</td>\n",
       "      <td>6.9</td>\n",
       "      <td>0.050</td>\n",
       "      <td>30</td>\n",
       "      <td>97</td>\n",
       "      <td>0.9951</td>\n",
       "      <td>3.26</td>\n",
       "      <td>0.44</td>\n",
       "      <td>10.1</td>\n",
       "      <td>6</td>\n",
       "    </tr>\n",
       "    <tr>\n",
       "      <th>3</th>\n",
       "      <td>7.2</td>\n",
       "      <td>0.23</td>\n",
       "      <td>0.32</td>\n",
       "      <td>8.5</td>\n",
       "      <td>0.058</td>\n",
       "      <td>47</td>\n",
       "      <td>186</td>\n",
       "      <td>0.9956</td>\n",
       "      <td>3.19</td>\n",
       "      <td>0.40</td>\n",
       "      <td>9.9</td>\n",
       "      <td>6</td>\n",
       "    </tr>\n",
       "    <tr>\n",
       "      <th>4</th>\n",
       "      <td>7.2</td>\n",
       "      <td>0.23</td>\n",
       "      <td>0.32</td>\n",
       "      <td>8.5</td>\n",
       "      <td>0.058</td>\n",
       "      <td>47</td>\n",
       "      <td>186</td>\n",
       "      <td>0.9956</td>\n",
       "      <td>3.19</td>\n",
       "      <td>0.40</td>\n",
       "      <td>9.9</td>\n",
       "      <td>6</td>\n",
       "    </tr>\n",
       "  </tbody>\n",
       "</table>\n",
       "</div>"
      ],
      "text/plain": [
       "   fixed acidity  volatile acidity  citric acid residual sugar  chlorides  \\\n",
       "0            7.0              0.27         0.36           20.7      0.045   \n",
       "1            6.3              0.30         0.34            1.6      0.049   \n",
       "2            8.1              0.28         0.40            6.9      0.050   \n",
       "3            7.2              0.23         0.32            8.5      0.058   \n",
       "4            7.2              0.23         0.32            8.5      0.058   \n",
       "\n",
       "  free sulfur dioxide total sulfur dioxide density    pH  sulphates  alcohol  \\\n",
       "0                  45                  170   1.001  3.00       0.45      8.8   \n",
       "1                  14                  132   0.994  3.30       0.49      9.5   \n",
       "2                  30                   97  0.9951  3.26       0.44     10.1   \n",
       "3                  47                  186  0.9956  3.19       0.40      9.9   \n",
       "4                  47                  186  0.9956  3.19       0.40      9.9   \n",
       "\n",
       "   quality  \n",
       "0        6  \n",
       "1        6  \n",
       "2        6  \n",
       "3        6  \n",
       "4        6  "
      ]
     },
     "execution_count": 6,
     "metadata": {},
     "output_type": "execute_result"
    }
   ],
   "source": [
    "data.head(5) #ensuring the file is read correctly"
   ]
  },
  {
   "cell_type": "code",
   "execution_count": 7,
   "metadata": {},
   "outputs": [
    {
     "data": {
      "text/plain": [
       "(4781, 12)"
      ]
     },
     "execution_count": 7,
     "metadata": {},
     "output_type": "execute_result"
    }
   ],
   "source": [
    "data.shape "
   ]
  },
  {
   "cell_type": "code",
   "execution_count": 8,
   "metadata": {},
   "outputs": [
    {
     "data": {
      "text/plain": [
       "fixed acidity           float64\n",
       "volatile acidity        float64\n",
       "citric acid             float64\n",
       "residual sugar           object\n",
       "chlorides               float64\n",
       "free sulfur dioxide      object\n",
       "total sulfur dioxide     object\n",
       "density                  object\n",
       "pH                      float64\n",
       "sulphates               float64\n",
       "alcohol                 float64\n",
       "quality                   int64\n",
       "dtype: object"
      ]
     },
     "execution_count": 8,
     "metadata": {},
     "output_type": "execute_result"
    }
   ],
   "source": [
    "data.dtypes #checking the data types"
   ]
  },
  {
   "cell_type": "code",
   "execution_count": 9,
   "metadata": {},
   "outputs": [],
   "source": [
    "data = data.apply(pd.to_numeric,errors='coerce') # converting all columns to numeric"
   ]
  },
  {
   "cell_type": "code",
   "execution_count": 10,
   "metadata": {},
   "outputs": [
    {
     "data": {
      "text/plain": [
       "fixed acidity           float64\n",
       "volatile acidity        float64\n",
       "citric acid             float64\n",
       "residual sugar          float64\n",
       "chlorides               float64\n",
       "free sulfur dioxide     float64\n",
       "total sulfur dioxide    float64\n",
       "density                 float64\n",
       "pH                      float64\n",
       "sulphates               float64\n",
       "alcohol                 float64\n",
       "quality                   int64\n",
       "dtype: object"
      ]
     },
     "execution_count": 10,
     "metadata": {},
     "output_type": "execute_result"
    }
   ],
   "source": [
    "data.dtypes #checking the data types conversion"
   ]
  },
  {
   "cell_type": "code",
   "execution_count": 11,
   "metadata": {},
   "outputs": [
    {
     "data": {
      "text/plain": [
       "fixed acidity           0\n",
       "volatile acidity        1\n",
       "citric acid             5\n",
       "residual sugar          7\n",
       "chlorides               1\n",
       "free sulfur dioxide     4\n",
       "total sulfur dioxide    4\n",
       "density                 8\n",
       "pH                      1\n",
       "sulphates               2\n",
       "alcohol                 0\n",
       "quality                 0\n",
       "dtype: int64"
      ]
     },
     "execution_count": 11,
     "metadata": {},
     "output_type": "execute_result"
    }
   ],
   "source": [
    "data.isna().sum() #checking for missing values in the data"
   ]
  },
  {
   "cell_type": "code",
   "execution_count": 12,
   "metadata": {},
   "outputs": [],
   "source": [
    "data = data.dropna() # dropping all the rows with the missing values"
   ]
  },
  {
   "cell_type": "code",
   "execution_count": 13,
   "metadata": {},
   "outputs": [
    {
     "data": {
      "text/plain": [
       "fixed acidity           0\n",
       "volatile acidity        0\n",
       "citric acid             0\n",
       "residual sugar          0\n",
       "chlorides               0\n",
       "free sulfur dioxide     0\n",
       "total sulfur dioxide    0\n",
       "density                 0\n",
       "pH                      0\n",
       "sulphates               0\n",
       "alcohol                 0\n",
       "quality                 0\n",
       "dtype: int64"
      ]
     },
     "execution_count": 13,
     "metadata": {},
     "output_type": "execute_result"
    }
   ],
   "source": [
    "data.isna().sum() #checking if all missing values are handled"
   ]
  },
  {
   "cell_type": "code",
   "execution_count": 14,
   "metadata": {},
   "outputs": [
    {
     "data": {
      "text/html": [
       "<div>\n",
       "<style scoped>\n",
       "    .dataframe tbody tr th:only-of-type {\n",
       "        vertical-align: middle;\n",
       "    }\n",
       "\n",
       "    .dataframe tbody tr th {\n",
       "        vertical-align: top;\n",
       "    }\n",
       "\n",
       "    .dataframe thead th {\n",
       "        text-align: right;\n",
       "    }\n",
       "</style>\n",
       "<table border=\"1\" class=\"dataframe\">\n",
       "  <thead>\n",
       "    <tr style=\"text-align: right;\">\n",
       "      <th></th>\n",
       "      <th>fixed acidity</th>\n",
       "      <th>volatile acidity</th>\n",
       "      <th>citric acid</th>\n",
       "      <th>residual sugar</th>\n",
       "      <th>chlorides</th>\n",
       "      <th>free sulfur dioxide</th>\n",
       "      <th>total sulfur dioxide</th>\n",
       "      <th>density</th>\n",
       "      <th>pH</th>\n",
       "      <th>sulphates</th>\n",
       "      <th>alcohol</th>\n",
       "      <th>quality</th>\n",
       "    </tr>\n",
       "  </thead>\n",
       "  <tbody>\n",
       "    <tr>\n",
       "      <th>count</th>\n",
       "      <td>4748.00</td>\n",
       "      <td>4748.00</td>\n",
       "      <td>4748.00</td>\n",
       "      <td>4748.00</td>\n",
       "      <td>4748.00</td>\n",
       "      <td>4748.00</td>\n",
       "      <td>4748.00</td>\n",
       "      <td>4748.00</td>\n",
       "      <td>4748.00</td>\n",
       "      <td>4748.00</td>\n",
       "      <td>4748.00</td>\n",
       "      <td>4748.00</td>\n",
       "    </tr>\n",
       "    <tr>\n",
       "      <th>mean</th>\n",
       "      <td>6.86</td>\n",
       "      <td>0.28</td>\n",
       "      <td>0.33</td>\n",
       "      <td>6.41</td>\n",
       "      <td>0.05</td>\n",
       "      <td>35.32</td>\n",
       "      <td>138.49</td>\n",
       "      <td>0.99</td>\n",
       "      <td>3.19</td>\n",
       "      <td>0.49</td>\n",
       "      <td>10.51</td>\n",
       "      <td>5.88</td>\n",
       "    </tr>\n",
       "    <tr>\n",
       "      <th>std</th>\n",
       "      <td>0.84</td>\n",
       "      <td>0.10</td>\n",
       "      <td>0.12</td>\n",
       "      <td>5.08</td>\n",
       "      <td>0.02</td>\n",
       "      <td>17.05</td>\n",
       "      <td>42.64</td>\n",
       "      <td>0.00</td>\n",
       "      <td>0.15</td>\n",
       "      <td>0.11</td>\n",
       "      <td>1.23</td>\n",
       "      <td>0.89</td>\n",
       "    </tr>\n",
       "    <tr>\n",
       "      <th>min</th>\n",
       "      <td>3.80</td>\n",
       "      <td>0.08</td>\n",
       "      <td>0.00</td>\n",
       "      <td>0.60</td>\n",
       "      <td>0.01</td>\n",
       "      <td>2.00</td>\n",
       "      <td>9.00</td>\n",
       "      <td>0.99</td>\n",
       "      <td>2.72</td>\n",
       "      <td>0.22</td>\n",
       "      <td>8.00</td>\n",
       "      <td>3.00</td>\n",
       "    </tr>\n",
       "    <tr>\n",
       "      <th>25%</th>\n",
       "      <td>6.30</td>\n",
       "      <td>0.21</td>\n",
       "      <td>0.27</td>\n",
       "      <td>1.70</td>\n",
       "      <td>0.04</td>\n",
       "      <td>23.00</td>\n",
       "      <td>108.00</td>\n",
       "      <td>0.99</td>\n",
       "      <td>3.09</td>\n",
       "      <td>0.41</td>\n",
       "      <td>9.50</td>\n",
       "      <td>5.00</td>\n",
       "    </tr>\n",
       "    <tr>\n",
       "      <th>50%</th>\n",
       "      <td>6.80</td>\n",
       "      <td>0.26</td>\n",
       "      <td>0.32</td>\n",
       "      <td>5.20</td>\n",
       "      <td>0.04</td>\n",
       "      <td>34.00</td>\n",
       "      <td>134.00</td>\n",
       "      <td>0.99</td>\n",
       "      <td>3.18</td>\n",
       "      <td>0.47</td>\n",
       "      <td>10.40</td>\n",
       "      <td>6.00</td>\n",
       "    </tr>\n",
       "    <tr>\n",
       "      <th>75%</th>\n",
       "      <td>7.30</td>\n",
       "      <td>0.32</td>\n",
       "      <td>0.39</td>\n",
       "      <td>9.90</td>\n",
       "      <td>0.05</td>\n",
       "      <td>46.00</td>\n",
       "      <td>167.25</td>\n",
       "      <td>1.00</td>\n",
       "      <td>3.28</td>\n",
       "      <td>0.55</td>\n",
       "      <td>11.40</td>\n",
       "      <td>6.00</td>\n",
       "    </tr>\n",
       "    <tr>\n",
       "      <th>max</th>\n",
       "      <td>14.20</td>\n",
       "      <td>1.10</td>\n",
       "      <td>1.66</td>\n",
       "      <td>65.80</td>\n",
       "      <td>0.35</td>\n",
       "      <td>289.00</td>\n",
       "      <td>440.00</td>\n",
       "      <td>1.04</td>\n",
       "      <td>3.82</td>\n",
       "      <td>1.08</td>\n",
       "      <td>14.20</td>\n",
       "      <td>9.00</td>\n",
       "    </tr>\n",
       "  </tbody>\n",
       "</table>\n",
       "</div>"
      ],
      "text/plain": [
       "       fixed acidity  volatile acidity  citric acid  residual sugar  \\\n",
       "count        4748.00           4748.00      4748.00         4748.00   \n",
       "mean            6.86              0.28         0.33            6.41   \n",
       "std             0.84              0.10         0.12            5.08   \n",
       "min             3.80              0.08         0.00            0.60   \n",
       "25%             6.30              0.21         0.27            1.70   \n",
       "50%             6.80              0.26         0.32            5.20   \n",
       "75%             7.30              0.32         0.39            9.90   \n",
       "max            14.20              1.10         1.66           65.80   \n",
       "\n",
       "       chlorides  free sulfur dioxide  total sulfur dioxide  density       pH  \\\n",
       "count    4748.00              4748.00               4748.00  4748.00  4748.00   \n",
       "mean        0.05                35.32                138.49     0.99     3.19   \n",
       "std         0.02                17.05                 42.64     0.00     0.15   \n",
       "min         0.01                 2.00                  9.00     0.99     2.72   \n",
       "25%         0.04                23.00                108.00     0.99     3.09   \n",
       "50%         0.04                34.00                134.00     0.99     3.18   \n",
       "75%         0.05                46.00                167.25     1.00     3.28   \n",
       "max         0.35               289.00                440.00     1.04     3.82   \n",
       "\n",
       "       sulphates  alcohol  quality  \n",
       "count    4748.00  4748.00  4748.00  \n",
       "mean        0.49    10.51     5.88  \n",
       "std         0.11     1.23     0.89  \n",
       "min         0.22     8.00     3.00  \n",
       "25%         0.41     9.50     5.00  \n",
       "50%         0.47    10.40     6.00  \n",
       "75%         0.55    11.40     6.00  \n",
       "max         1.08    14.20     9.00  "
      ]
     },
     "execution_count": 14,
     "metadata": {},
     "output_type": "execute_result"
    }
   ],
   "source": [
    "data.describe().round(2) # Descriptive statistics for the data"
   ]
  },
  {
   "cell_type": "code",
   "execution_count": 15,
   "metadata": {},
   "outputs": [],
   "source": [
    "sample_1 = data.sample(n= 200,random_state=1) # Creating a random sample of 200 observations"
   ]
  },
  {
   "cell_type": "code",
   "execution_count": 16,
   "metadata": {},
   "outputs": [
    {
     "data": {
      "text/html": [
       "<div>\n",
       "<style scoped>\n",
       "    .dataframe tbody tr th:only-of-type {\n",
       "        vertical-align: middle;\n",
       "    }\n",
       "\n",
       "    .dataframe tbody tr th {\n",
       "        vertical-align: top;\n",
       "    }\n",
       "\n",
       "    .dataframe thead th {\n",
       "        text-align: right;\n",
       "    }\n",
       "</style>\n",
       "<table border=\"1\" class=\"dataframe\">\n",
       "  <thead>\n",
       "    <tr style=\"text-align: right;\">\n",
       "      <th></th>\n",
       "      <th>fixed acidity</th>\n",
       "      <th>volatile acidity</th>\n",
       "      <th>citric acid</th>\n",
       "      <th>residual sugar</th>\n",
       "      <th>chlorides</th>\n",
       "      <th>free sulfur dioxide</th>\n",
       "      <th>total sulfur dioxide</th>\n",
       "      <th>density</th>\n",
       "      <th>pH</th>\n",
       "      <th>sulphates</th>\n",
       "      <th>alcohol</th>\n",
       "      <th>quality</th>\n",
       "    </tr>\n",
       "  </thead>\n",
       "  <tbody>\n",
       "    <tr>\n",
       "      <th>2422</th>\n",
       "      <td>7.6</td>\n",
       "      <td>0.285</td>\n",
       "      <td>0.32</td>\n",
       "      <td>14.6</td>\n",
       "      <td>0.063</td>\n",
       "      <td>32.0</td>\n",
       "      <td>201.0</td>\n",
       "      <td>0.99800</td>\n",
       "      <td>3.00</td>\n",
       "      <td>0.45</td>\n",
       "      <td>9.2</td>\n",
       "      <td>5</td>\n",
       "    </tr>\n",
       "    <tr>\n",
       "      <th>4226</th>\n",
       "      <td>6.0</td>\n",
       "      <td>0.330</td>\n",
       "      <td>0.26</td>\n",
       "      <td>5.1</td>\n",
       "      <td>0.051</td>\n",
       "      <td>16.0</td>\n",
       "      <td>119.0</td>\n",
       "      <td>0.99416</td>\n",
       "      <td>3.15</td>\n",
       "      <td>0.41</td>\n",
       "      <td>9.2</td>\n",
       "      <td>5</td>\n",
       "    </tr>\n",
       "    <tr>\n",
       "      <th>1240</th>\n",
       "      <td>7.3</td>\n",
       "      <td>0.180</td>\n",
       "      <td>0.65</td>\n",
       "      <td>1.4</td>\n",
       "      <td>0.046</td>\n",
       "      <td>28.0</td>\n",
       "      <td>157.0</td>\n",
       "      <td>0.99460</td>\n",
       "      <td>3.33</td>\n",
       "      <td>0.62</td>\n",
       "      <td>9.4</td>\n",
       "      <td>6</td>\n",
       "    </tr>\n",
       "    <tr>\n",
       "      <th>2547</th>\n",
       "      <td>6.6</td>\n",
       "      <td>0.240</td>\n",
       "      <td>0.24</td>\n",
       "      <td>8.6</td>\n",
       "      <td>0.034</td>\n",
       "      <td>25.0</td>\n",
       "      <td>135.0</td>\n",
       "      <td>0.99582</td>\n",
       "      <td>3.33</td>\n",
       "      <td>0.59</td>\n",
       "      <td>10.3</td>\n",
       "      <td>6</td>\n",
       "    </tr>\n",
       "    <tr>\n",
       "      <th>2795</th>\n",
       "      <td>6.3</td>\n",
       "      <td>0.250</td>\n",
       "      <td>0.22</td>\n",
       "      <td>3.3</td>\n",
       "      <td>0.048</td>\n",
       "      <td>41.0</td>\n",
       "      <td>161.0</td>\n",
       "      <td>0.99256</td>\n",
       "      <td>3.16</td>\n",
       "      <td>0.50</td>\n",
       "      <td>10.5</td>\n",
       "      <td>6</td>\n",
       "    </tr>\n",
       "  </tbody>\n",
       "</table>\n",
       "</div>"
      ],
      "text/plain": [
       "      fixed acidity  volatile acidity  citric acid  residual sugar  chlorides  \\\n",
       "2422            7.6             0.285         0.32            14.6      0.063   \n",
       "4226            6.0             0.330         0.26             5.1      0.051   \n",
       "1240            7.3             0.180         0.65             1.4      0.046   \n",
       "2547            6.6             0.240         0.24             8.6      0.034   \n",
       "2795            6.3             0.250         0.22             3.3      0.048   \n",
       "\n",
       "      free sulfur dioxide  total sulfur dioxide  density    pH  sulphates  \\\n",
       "2422                 32.0                 201.0  0.99800  3.00       0.45   \n",
       "4226                 16.0                 119.0  0.99416  3.15       0.41   \n",
       "1240                 28.0                 157.0  0.99460  3.33       0.62   \n",
       "2547                 25.0                 135.0  0.99582  3.33       0.59   \n",
       "2795                 41.0                 161.0  0.99256  3.16       0.50   \n",
       "\n",
       "      alcohol  quality  \n",
       "2422      9.2        5  \n",
       "4226      9.2        5  \n",
       "1240      9.4        6  \n",
       "2547     10.3        6  \n",
       "2795     10.5        6  "
      ]
     },
     "execution_count": 16,
     "metadata": {},
     "output_type": "execute_result"
    }
   ],
   "source": [
    "sample_1.head()"
   ]
  },
  {
   "cell_type": "code",
   "execution_count": 17,
   "metadata": {},
   "outputs": [
    {
     "data": {
      "text/plain": [
       "(200, 12)"
      ]
     },
     "execution_count": 17,
     "metadata": {},
     "output_type": "execute_result"
    }
   ],
   "source": [
    "sample_1.shape # Checking the no of observations"
   ]
  },
  {
   "cell_type": "code",
   "execution_count": 18,
   "metadata": {},
   "outputs": [
    {
     "data": {
      "text/plain": [
       "fixed acidity           0\n",
       "volatile acidity        0\n",
       "citric acid             0\n",
       "residual sugar          0\n",
       "chlorides               0\n",
       "free sulfur dioxide     0\n",
       "total sulfur dioxide    0\n",
       "density                 0\n",
       "pH                      0\n",
       "sulphates               0\n",
       "alcohol                 0\n",
       "quality                 0\n",
       "dtype: int64"
      ]
     },
     "execution_count": 18,
     "metadata": {},
     "output_type": "execute_result"
    }
   ],
   "source": [
    "sample_1.isna().sum() #checking if all missing values are handled"
   ]
  },
  {
   "cell_type": "code",
   "execution_count": 19,
   "metadata": {},
   "outputs": [],
   "source": [
    "sample_1.to_csv('S3991481-A2SampleOne.csv',index=False) #Exporting the sample into a csv file"
   ]
  },
  {
   "cell_type": "code",
   "execution_count": 20,
   "metadata": {},
   "outputs": [
    {
     "data": {
      "text/plain": [
       "Text(0.5, 1.0, 'Boxplot for Density')"
      ]
     },
     "execution_count": 20,
     "metadata": {},
     "output_type": "execute_result"
    },
    {
     "data": {
      "image/png": "[encoded data removed]",
      "text/plain": [
       "<Figure size 640x480 with 2 Axes>"
      ]
     },
     "metadata": {},
     "output_type": "display_data"
    }
   ],
   "source": [
    "# creating a boxplot to check for any outliers\n",
    "plt.subplot(1, 2, 1)\n",
    "plt.boxplot(sample_1['alcohol'], vert=False)\n",
    "plt.title('Boxplot for Alcohol')\n",
    "\n",
    "plt.subplot(1, 2, 2)\n",
    "plt.boxplot(sample_1['density'], vert=False)\n",
    "plt.title('Boxplot for Density')"
   ]
  },
  {
   "cell_type": "code",
   "execution_count": 21,
   "metadata": {},
   "outputs": [
    {
     "data": {
      "text/plain": [
       "Text(0.5, 1.0, 'Scatter plot of density and Alcohol')"
      ]
     },
     "execution_count": 21,
     "metadata": {},
     "output_type": "execute_result"
    },
    {
     "data": {
      "image/png": "[encoded data removed]",
      "text/plain": [
       "<Figure size 640x480 with 1 Axes>"
      ]
     },
     "metadata": {},
     "output_type": "display_data"
    }
   ],
   "source": [
    "# creating a scatter plot to show the relationship between the two variables\n",
    "sample_1.plot(kind='scatter', y='alcohol', x='density') \n",
    "plt.title('Scatter plot of density and Alcohol')"
   ]
  },
  {
   "cell_type": "code",
   "execution_count": 22,
   "metadata": {},
   "outputs": [],
   "source": [
    "#Developing the Linear Model using Scikit "
   ]
  },
  {
   "cell_type": "code",
   "execution_count": 23,
   "metadata": {},
   "outputs": [
    {
     "name": "stdout",
     "output_type": "stream",
     "text": [
      "Intercept: 10.525376149887185\n",
      "Coefficient: [-0.87658696]\n"
     ]
    }
   ],
   "source": [
    "#To Create a Linear Model, alcohol is the dependent variable (y) and density is the independent variable (X)\n",
    "y = sample_1[\"alcohol\"]\n",
    "X = sample_1[[\"density\"]]\n",
    "\n",
    "#Standardising the X value since density and alcohol has differnet units\n",
    "scaler = StandardScaler()\n",
    "X_standardised= scaler.fit_transform(X)\n",
    "\n",
    "\n",
    "# Splitting the data into Training and testing data. here 25% of the data is considered for testing.\n",
    "X_train, X_test, y_train, y_test = train_test_split(X_standardised,y,test_size=0.25,random_state=55)\n",
    "\n",
    "#Training the Linear Regression model on the Training set\n",
    "regressor = LinearRegression()\n",
    "regressor.fit(X_train,y_train)\n",
    "\n",
    "#print(regressor.intercept_, regressor.coef_)\n",
    "print(f\"Intercept: {regressor.intercept_}\")\n",
    "print(f\"Coefficient: {regressor.coef_}\")"
   ]
  },
  {
   "cell_type": "code",
   "execution_count": 24,
   "metadata": {},
   "outputs": [
    {
     "name": "stdout",
     "output_type": "stream",
     "text": [
      "R-squared : 0.68\n",
      "Mean Squared Error : 0.52\n"
     ]
    }
   ],
   "source": [
    "#Predicting and Evaluating the Model Performance\n",
    "y_pred = regressor.predict(X_test)\n",
    "\n",
    "#Evaluating the Model Performance\n",
    "r2 = r2_score(y_test, y_pred)\n",
    "mse = mean_squared_error(y_test, y_pred)\n",
    "print(f\"R-squared : {r2:.2f}\")\n",
    "print(f\"Mean Squared Error : {mse:.2f}\")"
   ]
  },
  {
   "cell_type": "code",
   "execution_count": 25,
   "metadata": {},
   "outputs": [
    {
     "data": {
      "text/plain": [
       "Text(0, 0.5, 'Alcohol')"
      ]
     },
     "execution_count": 25,
     "metadata": {},
     "output_type": "execute_result"
    },
    {
     "data": {
      "image/png": "[encoded data removed]",
      "text/plain": [
       "<Figure size 640x480 with 1 Axes>"
      ]
     },
     "metadata": {},
     "output_type": "display_data"
    }
   ],
   "source": [
    "#Creating the linear regression equation\n",
    "y_hat = regressor.intercept_ + (regressor.coef_*X_standardised)\n",
    "\n",
    "#Plotting the regression model and regression line\n",
    "plt.scatter(X,y)\n",
    "plt.plot(X,y_hat,c='red')\n",
    "plt.title('Scatter plot of density and Alcohol with the Regression line')\n",
    "plt.xlabel('Density')\n",
    "plt.ylabel('Alcohol')"
   ]
  },
  {
   "cell_type": "markdown",
   "metadata": {
    "id": "r-i5aIqXpPbu"
   },
   "source": [
    "# Task 2: Classification"
   ]
  },
  {
   "cell_type": "code",
   "execution_count": 27,
   "metadata": {},
   "outputs": [],
   "source": [
    "sample_2 = data.sample(n= 500,random_state=1234546) # Creating a random sample of 500 observations sample_2 = data.sample(n= 1000,random_state=1234546)"
   ]
  },
  {
   "cell_type": "code",
   "execution_count": 28,
   "metadata": {},
   "outputs": [
    {
     "data": {
      "text/plain": [
       "fixed acidity           0\n",
       "volatile acidity        0\n",
       "citric acid             0\n",
       "residual sugar          0\n",
       "chlorides               0\n",
       "free sulfur dioxide     0\n",
       "total sulfur dioxide    0\n",
       "density                 0\n",
       "pH                      0\n",
       "sulphates               0\n",
       "alcohol                 0\n",
       "quality                 0\n",
       "dtype: int64"
      ]
     },
     "execution_count": 28,
     "metadata": {},
     "output_type": "execute_result"
    }
   ],
   "source": [
    "sample_2.isna().sum() # Checking if the sample data has missing values"
   ]
  },
  {
   "cell_type": "code",
   "execution_count": 29,
   "metadata": {},
   "outputs": [
    {
     "data": {
      "text/html": [
       "<div>\n",
       "<style scoped>\n",
       "    .dataframe tbody tr th:only-of-type {\n",
       "        vertical-align: middle;\n",
       "    }\n",
       "\n",
       "    .dataframe tbody tr th {\n",
       "        vertical-align: top;\n",
       "    }\n",
       "\n",
       "    .dataframe thead th {\n",
       "        text-align: right;\n",
       "    }\n",
       "</style>\n",
       "<table border=\"1\" class=\"dataframe\">\n",
       "  <thead>\n",
       "    <tr style=\"text-align: right;\">\n",
       "      <th></th>\n",
       "      <th>fixed acidity</th>\n",
       "      <th>volatile acidity</th>\n",
       "      <th>citric acid</th>\n",
       "      <th>residual sugar</th>\n",
       "      <th>chlorides</th>\n",
       "      <th>free sulfur dioxide</th>\n",
       "      <th>total sulfur dioxide</th>\n",
       "      <th>density</th>\n",
       "      <th>pH</th>\n",
       "      <th>sulphates</th>\n",
       "      <th>alcohol</th>\n",
       "      <th>quality</th>\n",
       "    </tr>\n",
       "  </thead>\n",
       "  <tbody>\n",
       "    <tr>\n",
       "      <th>3998</th>\n",
       "      <td>5.9</td>\n",
       "      <td>0.25</td>\n",
       "      <td>0.27</td>\n",
       "      <td>1.5</td>\n",
       "      <td>0.029</td>\n",
       "      <td>37.0</td>\n",
       "      <td>81.0</td>\n",
       "      <td>0.98920</td>\n",
       "      <td>3.20</td>\n",
       "      <td>0.46</td>\n",
       "      <td>12.20</td>\n",
       "      <td>6</td>\n",
       "    </tr>\n",
       "    <tr>\n",
       "      <th>414</th>\n",
       "      <td>7.1</td>\n",
       "      <td>0.31</td>\n",
       "      <td>0.47</td>\n",
       "      <td>13.6</td>\n",
       "      <td>0.056</td>\n",
       "      <td>54.0</td>\n",
       "      <td>197.0</td>\n",
       "      <td>0.99780</td>\n",
       "      <td>3.10</td>\n",
       "      <td>0.49</td>\n",
       "      <td>9.30</td>\n",
       "      <td>5</td>\n",
       "    </tr>\n",
       "    <tr>\n",
       "      <th>869</th>\n",
       "      <td>6.8</td>\n",
       "      <td>0.23</td>\n",
       "      <td>0.29</td>\n",
       "      <td>12.2</td>\n",
       "      <td>0.035</td>\n",
       "      <td>38.0</td>\n",
       "      <td>236.0</td>\n",
       "      <td>0.99760</td>\n",
       "      <td>3.35</td>\n",
       "      <td>0.52</td>\n",
       "      <td>9.80</td>\n",
       "      <td>6</td>\n",
       "    </tr>\n",
       "    <tr>\n",
       "      <th>4661</th>\n",
       "      <td>5.3</td>\n",
       "      <td>0.40</td>\n",
       "      <td>0.25</td>\n",
       "      <td>3.9</td>\n",
       "      <td>0.031</td>\n",
       "      <td>45.0</td>\n",
       "      <td>130.0</td>\n",
       "      <td>0.99072</td>\n",
       "      <td>3.31</td>\n",
       "      <td>0.58</td>\n",
       "      <td>11.75</td>\n",
       "      <td>7</td>\n",
       "    </tr>\n",
       "    <tr>\n",
       "      <th>2441</th>\n",
       "      <td>7.0</td>\n",
       "      <td>0.26</td>\n",
       "      <td>0.26</td>\n",
       "      <td>10.8</td>\n",
       "      <td>0.039</td>\n",
       "      <td>37.0</td>\n",
       "      <td>184.0</td>\n",
       "      <td>0.99787</td>\n",
       "      <td>3.47</td>\n",
       "      <td>0.58</td>\n",
       "      <td>10.30</td>\n",
       "      <td>7</td>\n",
       "    </tr>\n",
       "  </tbody>\n",
       "</table>\n",
       "</div>"
      ],
      "text/plain": [
       "      fixed acidity  volatile acidity  citric acid  residual sugar  chlorides  \\\n",
       "3998            5.9              0.25         0.27             1.5      0.029   \n",
       "414             7.1              0.31         0.47            13.6      0.056   \n",
       "869             6.8              0.23         0.29            12.2      0.035   \n",
       "4661            5.3              0.40         0.25             3.9      0.031   \n",
       "2441            7.0              0.26         0.26            10.8      0.039   \n",
       "\n",
       "      free sulfur dioxide  total sulfur dioxide  density    pH  sulphates  \\\n",
       "3998                 37.0                  81.0  0.98920  3.20       0.46   \n",
       "414                  54.0                 197.0  0.99780  3.10       0.49   \n",
       "869                  38.0                 236.0  0.99760  3.35       0.52   \n",
       "4661                 45.0                 130.0  0.99072  3.31       0.58   \n",
       "2441                 37.0                 184.0  0.99787  3.47       0.58   \n",
       "\n",
       "      alcohol  quality  \n",
       "3998    12.20        6  \n",
       "414      9.30        5  \n",
       "869      9.80        6  \n",
       "4661    11.75        7  \n",
       "2441    10.30        7  "
      ]
     },
     "execution_count": 29,
     "metadata": {},
     "output_type": "execute_result"
    }
   ],
   "source": [
    "sample_2.head()"
   ]
  },
  {
   "cell_type": "code",
   "execution_count": 30,
   "metadata": {},
   "outputs": [
    {
     "data": {
      "text/plain": [
       "(500, 12)"
      ]
     },
     "execution_count": 30,
     "metadata": {},
     "output_type": "execute_result"
    }
   ],
   "source": [
    "sample_2.shape"
   ]
  },
  {
   "cell_type": "code",
   "execution_count": 31,
   "metadata": {},
   "outputs": [],
   "source": [
    "sample_2.to_csv('S3991481-A2SampleTwo_draft.csv',index=False) #Exporting the sample into a csv file"
   ]
  },
  {
   "cell_type": "markdown",
   "metadata": {
    "id": "QOY4K_neos9j"
   },
   "source": [
    "## kNN"
   ]
  },
  {
   "cell_type": "code",
   "execution_count": 33,
   "metadata": {},
   "outputs": [],
   "source": [
    "#Importing packages\n",
    "from sklearn.model_selection import train_test_split \n",
    "from sklearn.neighbors import KNeighborsClassifier\n",
    "from sklearn.metrics import confusion_matrix\n",
    "from sklearn.metrics import classification_report\n",
    "from sklearn.preprocessing import StandardScaler"
   ]
  },
  {
   "cell_type": "code",
   "execution_count": 34,
   "metadata": {},
   "outputs": [
    {
     "data": {
      "text/plain": [
       "Index(['fixed acidity', 'volatile acidity', 'citric acid', 'residual sugar',\n",
       "       'chlorides', 'free sulfur dioxide', 'total sulfur dioxide', 'density',\n",
       "       'pH', 'sulphates', 'alcohol', 'quality'],\n",
       "      dtype='object')"
      ]
     },
     "execution_count": 34,
     "metadata": {},
     "output_type": "execute_result"
    }
   ],
   "source": [
    "#Getting the column names\n",
    "sample_2.columns"
   ]
  },
  {
   "cell_type": "code",
   "execution_count": 35,
   "metadata": {},
   "outputs": [
    {
     "data": {
      "text/plain": [
       "quality\n",
       "6          2117\n",
       "5          1418\n",
       "7           852\n",
       "8           175\n",
       "4           161\n",
       "3            20\n",
       "9             5\n",
       "dtype: int64"
      ]
     },
     "execution_count": 35,
     "metadata": {},
     "output_type": "execute_result"
    }
   ],
   "source": [
    "data.value_counts(['quality'])"
   ]
  },
  {
   "cell_type": "code",
   "execution_count": 36,
   "metadata": {},
   "outputs": [
    {
     "data": {
      "text/plain": [
       "quality\n",
       "6          218\n",
       "5          151\n",
       "7           93\n",
       "4           18\n",
       "8           18\n",
       "3            2\n",
       "dtype: int64"
      ]
     },
     "execution_count": 36,
     "metadata": {},
     "output_type": "execute_result"
    }
   ],
   "source": [
    "sample_2.value_counts(['quality'])"
   ]
  },
  {
   "cell_type": "code",
   "execution_count": 37,
   "metadata": {},
   "outputs": [
    {
     "data": {
      "text/plain": [
       "(500,)"
      ]
     },
     "execution_count": 37,
     "metadata": {},
     "output_type": "execute_result"
    }
   ],
   "source": [
    "# Creating the target using the Quality column\n",
    "sample_2.target = sample_2['quality'] \n",
    "sample_2.target.shape "
   ]
  },
  {
   "cell_type": "code",
   "execution_count": 38,
   "metadata": {},
   "outputs": [
    {
     "data": {
      "text/html": [
       "<div>\n",
       "<style scoped>\n",
       "    .dataframe tbody tr th:only-of-type {\n",
       "        vertical-align: middle;\n",
       "    }\n",
       "\n",
       "    .dataframe tbody tr th {\n",
       "        vertical-align: top;\n",
       "    }\n",
       "\n",
       "    .dataframe thead th {\n",
       "        text-align: right;\n",
       "    }\n",
       "</style>\n",
       "<table border=\"1\" class=\"dataframe\">\n",
       "  <thead>\n",
       "    <tr style=\"text-align: right;\">\n",
       "      <th></th>\n",
       "      <th>fixed acidity</th>\n",
       "      <th>volatile acidity</th>\n",
       "      <th>citric acid</th>\n",
       "      <th>residual sugar</th>\n",
       "      <th>chlorides</th>\n",
       "      <th>free sulfur dioxide</th>\n",
       "      <th>total sulfur dioxide</th>\n",
       "      <th>density</th>\n",
       "      <th>pH</th>\n",
       "      <th>sulphates</th>\n",
       "      <th>alcohol</th>\n",
       "    </tr>\n",
       "  </thead>\n",
       "  <tbody>\n",
       "    <tr>\n",
       "      <th>3998</th>\n",
       "      <td>5.9</td>\n",
       "      <td>0.25</td>\n",
       "      <td>0.27</td>\n",
       "      <td>1.5</td>\n",
       "      <td>0.029</td>\n",
       "      <td>37.0</td>\n",
       "      <td>81.0</td>\n",
       "      <td>0.98920</td>\n",
       "      <td>3.20</td>\n",
       "      <td>0.46</td>\n",
       "      <td>12.20</td>\n",
       "    </tr>\n",
       "    <tr>\n",
       "      <th>414</th>\n",
       "      <td>7.1</td>\n",
       "      <td>0.31</td>\n",
       "      <td>0.47</td>\n",
       "      <td>13.6</td>\n",
       "      <td>0.056</td>\n",
       "      <td>54.0</td>\n",
       "      <td>197.0</td>\n",
       "      <td>0.99780</td>\n",
       "      <td>3.10</td>\n",
       "      <td>0.49</td>\n",
       "      <td>9.30</td>\n",
       "    </tr>\n",
       "    <tr>\n",
       "      <th>869</th>\n",
       "      <td>6.8</td>\n",
       "      <td>0.23</td>\n",
       "      <td>0.29</td>\n",
       "      <td>12.2</td>\n",
       "      <td>0.035</td>\n",
       "      <td>38.0</td>\n",
       "      <td>236.0</td>\n",
       "      <td>0.99760</td>\n",
       "      <td>3.35</td>\n",
       "      <td>0.52</td>\n",
       "      <td>9.80</td>\n",
       "    </tr>\n",
       "    <tr>\n",
       "      <th>4661</th>\n",
       "      <td>5.3</td>\n",
       "      <td>0.40</td>\n",
       "      <td>0.25</td>\n",
       "      <td>3.9</td>\n",
       "      <td>0.031</td>\n",
       "      <td>45.0</td>\n",
       "      <td>130.0</td>\n",
       "      <td>0.99072</td>\n",
       "      <td>3.31</td>\n",
       "      <td>0.58</td>\n",
       "      <td>11.75</td>\n",
       "    </tr>\n",
       "    <tr>\n",
       "      <th>2441</th>\n",
       "      <td>7.0</td>\n",
       "      <td>0.26</td>\n",
       "      <td>0.26</td>\n",
       "      <td>10.8</td>\n",
       "      <td>0.039</td>\n",
       "      <td>37.0</td>\n",
       "      <td>184.0</td>\n",
       "      <td>0.99787</td>\n",
       "      <td>3.47</td>\n",
       "      <td>0.58</td>\n",
       "      <td>10.30</td>\n",
       "    </tr>\n",
       "  </tbody>\n",
       "</table>\n",
       "</div>"
      ],
      "text/plain": [
       "      fixed acidity  volatile acidity  citric acid  residual sugar  chlorides  \\\n",
       "3998            5.9              0.25         0.27             1.5      0.029   \n",
       "414             7.1              0.31         0.47            13.6      0.056   \n",
       "869             6.8              0.23         0.29            12.2      0.035   \n",
       "4661            5.3              0.40         0.25             3.9      0.031   \n",
       "2441            7.0              0.26         0.26            10.8      0.039   \n",
       "\n",
       "      free sulfur dioxide  total sulfur dioxide  density    pH  sulphates  \\\n",
       "3998                 37.0                  81.0  0.98920  3.20       0.46   \n",
       "414                  54.0                 197.0  0.99780  3.10       0.49   \n",
       "869                  38.0                 236.0  0.99760  3.35       0.52   \n",
       "4661                 45.0                 130.0  0.99072  3.31       0.58   \n",
       "2441                 37.0                 184.0  0.99787  3.47       0.58   \n",
       "\n",
       "      alcohol  \n",
       "3998    12.20  \n",
       "414      9.30  \n",
       "869      9.80  \n",
       "4661    11.75  \n",
       "2441    10.30  "
      ]
     },
     "execution_count": 38,
     "metadata": {},
     "output_type": "execute_result"
    }
   ],
   "source": [
    "# Creating the features using the remaining column\n",
    "sample_2.data = sample_2.drop(\"quality\", axis=1) \n",
    "sample_2.data.head()"
   ]
  },
  {
   "cell_type": "code",
   "execution_count": 39,
   "metadata": {},
   "outputs": [
    {
     "data": {
      "text/plain": [
       "(500, 11)"
      ]
     },
     "execution_count": 39,
     "metadata": {},
     "output_type": "execute_result"
    }
   ],
   "source": [
    "sample_2.data.shape"
   ]
  },
  {
   "cell_type": "code",
   "execution_count": 40,
   "metadata": {},
   "outputs": [],
   "source": [
    "# Creating the training and testing dataset, with a 80:20 split between training and testing data. Using stratified sampling to ensure the class distributions\n",
    "X_train, X_test, y_train, y_test =train_test_split(sample_2.data,sample_2.target,test_size=0.20,random_state=4324524, stratify=sample_2.target) "
   ]
  },
  {
   "cell_type": "code",
   "execution_count": 41,
   "metadata": {},
   "outputs": [],
   "source": [
    "# Standardizing the features\n",
    "scaler = StandardScaler()\n",
    "X_train = scaler.fit_transform(X_train)  # Fit on the training data\n",
    "X_test = scaler.transform(X_test)  # Transform the test data"
   ]
  },
  {
   "cell_type": "code",
   "execution_count": 42,
   "metadata": {},
   "outputs": [
    {
     "data": {
      "text/plain": [
       "20.0"
      ]
     },
     "execution_count": 42,
     "metadata": {},
     "output_type": "execute_result"
    }
   ],
   "source": [
    "k = np.sqrt(len(X_train))\n",
    "k # Calculating the value of k. As per the rule of thumb K= sqrt (No of training data). "
   ]
  },
  {
   "cell_type": "code",
   "execution_count": 43,
   "metadata": {},
   "outputs": [
    {
     "data": {
      "text/html": [
       "<style>#sk-container-id-1 {color: black;background-color: white;}#sk-container-id-1 pre{padding: 0;}#sk-container-id-1 div.sk-toggleable {background-color: white;}#sk-container-id-1 label.sk-toggleable__label {cursor: pointer;display: block;width: 100%;margin-bottom: 0;padding: 0.3em;box-sizing: border-box;text-align: center;}#sk-container-id-1 label.sk-toggleable__label-arrow:before {content: \"▸\";float: left;margin-right: 0.25em;color: #696969;}#sk-container-id-1 label.sk-toggleable__label-arrow:hover:before {color: black;}#sk-container-id-1 div.sk-estimator:hover label.sk-toggleable__label-arrow:before {color: black;}#sk-container-id-1 div.sk-toggleable__content {max-height: 0;max-width: 0;overflow: hidden;text-align: left;background-color: #f0f8ff;}#sk-container-id-1 div.sk-toggleable__content pre {margin: 0.2em;color: black;border-radius: 0.25em;background-color: #f0f8ff;}#sk-container-id-1 input.sk-toggleable__control:checked~div.sk-toggleable__content {max-height: 200px;max-width: 100%;overflow: auto;}#sk-container-id-1 input.sk-toggleable__control:checked~label.sk-toggleable__label-arrow:before {content: \"▾\";}#sk-container-id-1 div.sk-estimator input.sk-toggleable__control:checked~label.sk-toggleable__label {background-color: #d4ebff;}#sk-container-id-1 div.sk-label input.sk-toggleable__control:checked~label.sk-toggleable__label {background-color: #d4ebff;}#sk-container-id-1 input.sk-hidden--visually {border: 0;clip: rect(1px 1px 1px 1px);clip: rect(1px, 1px, 1px, 1px);height: 1px;margin: -1px;overflow: hidden;padding: 0;position: absolute;width: 1px;}#sk-container-id-1 div.sk-estimator {font-family: monospace;background-color: #f0f8ff;border: 1px dotted black;border-radius: 0.25em;box-sizing: border-box;margin-bottom: 0.5em;}#sk-container-id-1 div.sk-estimator:hover {background-color: #d4ebff;}#sk-container-id-1 div.sk-parallel-item::after {content: \"\";width: 100%;border-bottom: 1px solid gray;flex-grow: 1;}#sk-container-id-1 div.sk-label:hover label.sk-toggleable__label {background-color: #d4ebff;}#sk-container-id-1 div.sk-serial::before {content: \"\";position: absolute;border-left: 1px solid gray;box-sizing: border-box;top: 0;bottom: 0;left: 50%;z-index: 0;}#sk-container-id-1 div.sk-serial {display: flex;flex-direction: column;align-items: center;background-color: white;padding-right: 0.2em;padding-left: 0.2em;position: relative;}#sk-container-id-1 div.sk-item {position: relative;z-index: 1;}#sk-container-id-1 div.sk-parallel {display: flex;align-items: stretch;justify-content: center;background-color: white;position: relative;}#sk-container-id-1 div.sk-item::before, #sk-container-id-1 div.sk-parallel-item::before {content: \"\";position: absolute;border-left: 1px solid gray;box-sizing: border-box;top: 0;bottom: 0;left: 50%;z-index: -1;}#sk-container-id-1 div.sk-parallel-item {display: flex;flex-direction: column;z-index: 1;position: relative;background-color: white;}#sk-container-id-1 div.sk-parallel-item:first-child::after {align-self: flex-end;width: 50%;}#sk-container-id-1 div.sk-parallel-item:last-child::after {align-self: flex-start;width: 50%;}#sk-container-id-1 div.sk-parallel-item:only-child::after {width: 0;}#sk-container-id-1 div.sk-dashed-wrapped {border: 1px dashed gray;margin: 0 0.4em 0.5em 0.4em;box-sizing: border-box;padding-bottom: 0.4em;background-color: white;}#sk-container-id-1 div.sk-label label {font-family: monospace;font-weight: bold;display: inline-block;line-height: 1.2em;}#sk-container-id-1 div.sk-label-container {text-align: center;}#sk-container-id-1 div.sk-container {/* jupyter's `normalize.less` sets `[hidden] { display: none; }` but bootstrap.min.css set `[hidden] { display: none !important; }` so we also need the `!important` here to be able to override the default hidden behavior on the sphinx rendered scikit-learn.org. See: https://github.com/scikit-learn/scikit-learn/issues/21755 */display: inline-block !important;position: relative;}#sk-container-id-1 div.sk-text-repr-fallback {display: none;}</style><div id=\"sk-container-id-1\" class=\"sk-top-container\"><div class=\"sk-text-repr-fallback\"><pre>KNeighborsClassifier(n_neighbors=21)</pre><b>In a Jupyter environment, please rerun this cell to show the HTML representation or trust the notebook. <br />On GitHub, the HTML representation is unable to render, please try loading this page with nbviewer.org.</b></div><div class=\"sk-container\" hidden><div class=\"sk-item\"><div class=\"sk-estimator sk-toggleable\"><input class=\"sk-toggleable__control sk-hidden--visually\" id=\"sk-estimator-id-1\" type=\"checkbox\" checked><label for=\"sk-estimator-id-1\" class=\"sk-toggleable__label sk-toggleable__label-arrow\">KNeighborsClassifier</label><div class=\"sk-toggleable__content\"><pre>KNeighborsClassifier(n_neighbors=21)</pre></div></div></div></div></div>"
      ],
      "text/plain": [
       "KNeighborsClassifier(n_neighbors=21)"
      ]
     },
     "execution_count": 43,
     "metadata": {},
     "output_type": "execute_result"
    }
   ],
   "source": [
    "clf = KNeighborsClassifier(21) # K is taken as 21 as it is the closest odd value is selected.\n",
    "clf.fit(X_train, y_train) # training the model"
   ]
  },
  {
   "cell_type": "code",
   "execution_count": 44,
   "metadata": {},
   "outputs": [
    {
     "data": {
      "text/plain": [
       "array([7, 7, 6, 6, 6, 6, 6, 6, 6, 5, 6, 6, 6, 6, 6, 5, 5, 5, 6, 5, 6, 6,\n",
       "       6, 6, 7, 6, 6, 5, 7, 6, 5, 6, 6, 6, 6, 6, 6, 7, 5, 5, 6, 5, 6, 5,\n",
       "       6, 6, 6, 6, 5, 7, 5, 6, 7, 5, 7, 6, 6, 6, 6, 6, 5, 6, 6, 6, 6, 7,\n",
       "       5, 6, 5, 7, 6, 6, 7, 6, 6, 5, 6, 6, 5, 6, 6, 6, 6, 6, 5, 5, 5, 5,\n",
       "       5, 6, 6, 6, 7, 7, 7, 6, 6, 6, 6, 6])"
      ]
     },
     "execution_count": 44,
     "metadata": {},
     "output_type": "execute_result"
    }
   ],
   "source": [
    "# Predict on the test set\n",
    "predicted = clf.predict(X_test) # predicting on the testing data\n",
    "predicted"
   ]
  },
  {
   "cell_type": "code",
   "execution_count": 45,
   "metadata": {},
   "outputs": [
    {
     "name": "stdout",
     "output_type": "stream",
     "text": [
      "[[ 0  1  3  0  0]\n",
      " [ 0 15 13  2  0]\n",
      " [ 0  8 31  4  0]\n",
      " [ 0  0 11  8  0]\n",
      " [ 0  0  4  0  0]]\n"
     ]
    }
   ],
   "source": [
    "# Evaluate performance\n",
    "cm = confusion_matrix(y_test,predicted)\n",
    "print(cm)"
   ]
  },
  {
   "cell_type": "code",
   "execution_count": 46,
   "metadata": {},
   "outputs": [
    {
     "name": "stdout",
     "output_type": "stream",
     "text": [
      "              precision    recall  f1-score   support\n",
      "\n",
      "           4       0.00      0.00      0.00         4\n",
      "           5       0.62      0.50      0.56        30\n",
      "           6       0.50      0.72      0.59        43\n",
      "           7       0.57      0.42      0.48        19\n",
      "           8       0.00      0.00      0.00         4\n",
      "\n",
      "    accuracy                           0.54       100\n",
      "   macro avg       0.34      0.33      0.33       100\n",
      "weighted avg       0.51      0.54      0.51       100\n",
      "\n"
     ]
    }
   ],
   "source": [
    "print(classification_report(y_test,predicted))"
   ]
  },
  {
   "cell_type": "code",
   "execution_count": 47,
   "metadata": {},
   "outputs": [],
   "source": [
    "knn_report = classification_report(y_test, predicted,output_dict=True)"
   ]
  },
  {
   "cell_type": "markdown",
   "metadata": {
    "id": "0-HLFaWTo7Gr"
   },
   "source": [
    "## modified kNN "
   ]
  },
  {
   "cell_type": "code",
   "execution_count": 49,
   "metadata": {},
   "outputs": [],
   "source": [
    "# import packages\n",
    "from sklearn.model_selection import GridSearchCV\n",
    "from imblearn.over_sampling import SMOTE\n",
    "import matplotlib.pyplot as plt"
   ]
  },
  {
   "cell_type": "code",
   "execution_count": 50,
   "metadata": {},
   "outputs": [
    {
     "data": {
      "text/plain": [
       "6    218\n",
       "5    151\n",
       "7     93\n",
       "4     18\n",
       "8     18\n",
       "3      2\n",
       "Name: quality, dtype: int64"
      ]
     },
     "execution_count": 50,
     "metadata": {},
     "output_type": "execute_result"
    }
   ],
   "source": [
    "sample_2.target.value_counts()"
   ]
  },
  {
   "cell_type": "code",
   "execution_count": 51,
   "metadata": {},
   "outputs": [
    {
     "data": {
      "text/plain": [
       "{'metric': 'minkowski', 'n_neighbors': 23, 'p': 2, 'weights': 'distance'}"
      ]
     },
     "execution_count": 51,
     "metadata": {},
     "output_type": "execute_result"
    }
   ],
   "source": [
    "# Conducting grid search to find the best parameters\n",
    "parameters = {\"n_neighbors\": range(1, 100), \"weights\": [\"uniform\", \"distance\"],\"p\": range(1, 10), \"metric\": [\"minkowski\", \"euclidean\", \"manhattan\"]}\n",
    "gridsearch = GridSearchCV(KNeighborsClassifier(), parameters,scoring='f1_weighted')\n",
    "gridsearch.fit(X_train, y_train)\n",
    "gridsearch.best_params_"
   ]
  },
  {
   "cell_type": "code",
   "execution_count": 52,
   "metadata": {},
   "outputs": [],
   "source": [
    "#Apply SMOTE method to balance the classes\n",
    "smote = SMOTE(random_state=42132869,k_neighbors =1)\n",
    "X_resampled, y_resampled = smote.fit_resample(sample_2.data, sample_2.target)"
   ]
  },
  {
   "cell_type": "code",
   "execution_count": 53,
   "metadata": {},
   "outputs": [],
   "source": [
    "# Step 5: Split the balanced dataset into training and testing sets\n",
    "X_train, X_test, y_train, y_test = train_test_split(X_resampled, y_resampled, test_size=0.2, random_state=422346, stratify=y_resampled)\n",
    "\n",
    "# Step 6: Standardize features\n",
    "scaler = StandardScaler()\n",
    "X_train_scaled = scaler.fit_transform(X_train)\n",
    "X_test_scaled = scaler.transform(X_test)"
   ]
  },
  {
   "cell_type": "code",
   "execution_count": 54,
   "metadata": {},
   "outputs": [
    {
     "name": "stdout",
     "output_type": "stream",
     "text": [
      "Confusion Matrix for the Modified KNN:\n",
      "[[44  0  0  0  0  0]\n",
      " [ 0 44  0  0  0  0]\n",
      " [ 0  7 25  5  4  3]\n",
      " [ 1  4 11  5 13  9]\n",
      " [ 0  3  1  3 29  7]\n",
      " [ 0  0  0  0  0 44]]\n"
     ]
    }
   ],
   "source": [
    "#Train the KNN model\n",
    "clf = KNeighborsClassifier(23, weights= 'distance', p=2,metric ='minkowski' )\n",
    "fit = clf.fit(X_train, y_train)\n",
    "\n",
    "#Making predictions\n",
    "predicted = clf.predict(X_test)\n",
    "\n",
    "#Evaluating the model\n",
    "cm = confusion_matrix(y_test,predicted)\n",
    "print(\"Confusion Matrix for the Modified KNN:\")\n",
    "print(cm)"
   ]
  },
  {
   "cell_type": "code",
   "execution_count": 55,
   "metadata": {},
   "outputs": [
    {
     "name": "stdout",
     "output_type": "stream",
     "text": [
      "\n",
      "Classification Report for Modified KNN:\n",
      "              precision    recall  f1-score   support\n",
      "\n",
      "           3       0.98      1.00      0.99        44\n",
      "           4       0.76      1.00      0.86        44\n",
      "           5       0.68      0.57      0.62        44\n",
      "           6       0.38      0.12      0.18        43\n",
      "           7       0.63      0.67      0.65        43\n",
      "           8       0.70      1.00      0.82        44\n",
      "\n",
      "    accuracy                           0.73       262\n",
      "   macro avg       0.69      0.73      0.69       262\n",
      "weighted avg       0.69      0.73      0.69       262\n",
      "\n"
     ]
    }
   ],
   "source": [
    "print(\"\\nClassification Report for Modified KNN:\")\n",
    "print(classification_report(y_test,predicted))"
   ]
  },
  {
   "cell_type": "code",
   "execution_count": 56,
   "metadata": {},
   "outputs": [],
   "source": [
    "modified_knn_report = classification_report(y_test, predicted,output_dict=True)"
   ]
  },
  {
   "cell_type": "code",
   "execution_count": 57,
   "metadata": {},
   "outputs": [
    {
     "data": {
      "text/plain": [
       "Text(0.5, 1.0, 'Accuracy Scores for Standard kNN vs Modified kNN')"
      ]
     },
     "execution_count": 57,
     "metadata": {},
     "output_type": "execute_result"
    },
    {
     "data": {
      "image/png": "[encoded data removed]",
      "text/plain": [
       "<Figure size 640x480 with 1 Axes>"
      ]
     },
     "metadata": {},
     "output_type": "display_data"
    }
   ],
   "source": [
    "# Prepare the data for plotting\n",
    "accuracy_results = {\n",
    "    \"Standard kNN\": knn_report['accuracy'],\n",
    "    \"Modified kNN\": modified_knn_report['accuracy']\n",
    "}\n",
    "#Plotting the accuracy values\n",
    "\n",
    "plt.bar(accuracy_results.keys(), accuracy_results.values(), color=['blue', 'orange'])\n",
    "plt.ylabel('Accuracy')\n",
    "plt.title('Accuracy Scores for Standard kNN vs Modified kNN')\n"
   ]
  },
  {
   "cell_type": "code",
   "execution_count": 58,
   "metadata": {},
   "outputs": [
    {
     "data": {
      "text/plain": [
       "Text(0.5, 1.0, 'Weighted Average F1 scores for Standard kNN vs Modified kNN')"
      ]
     },
     "execution_count": 58,
     "metadata": {},
     "output_type": "execute_result"
    },
    {
     "data": {
      "image/png": "[encoded data removed]",
      "text/plain": [
       "<Figure size 640x480 with 1 Axes>"
      ]
     },
     "metadata": {},
     "output_type": "display_data"
    }
   ],
   "source": [
    "f1_ModifiedKnn  = modified_knn_report['weighted avg']['f1-score']\n",
    "#print(f1_ModifiedKnn)\n",
    "f1_Knn  = knn_report['weighted avg']['f1-score']\n",
    "#print(f1_Knn)\n",
    "\n",
    "# Prepare the data for plotting\n",
    "F1_results = {\n",
    "    \"Standard kNN\": f1_Knn,\n",
    "    \"Modified kNN\": f1_ModifiedKnn\n",
    "}\n",
    "#Plotting the weighted avg F1 values\n",
    "plt.bar(F1_results.keys(), F1_results.values(), color=['blue', 'orange'])\n",
    "plt.ylabel('Weighted Average F1 scores')\n",
    "plt.title('Weighted Average F1 scores for Standard kNN vs Modified kNN')"
   ]
  },
  {
   "cell_type": "code",
   "execution_count": null,
   "metadata": {},
   "outputs": [],
   "source": []
  },
  {
   "cell_type": "markdown",
   "metadata": {
    "id": "jnasiwOAo_RP"
   },
   "source": [
    "## Decision Tree & comparison"
   ]
  },
  {
   "cell_type": "code",
   "execution_count": 60,
   "metadata": {},
   "outputs": [],
   "source": [
    "from sklearn.tree import DecisionTreeClassifier\n",
    "from sklearn.metrics import confusion_matrix\n",
    "from sklearn.metrics import classification_report\n",
    "from sklearn.model_selection import GridSearchCV\n",
    "from sklearn.ensemble import RandomForestClassifier\n",
    "from sklearn.metrics import ConfusionMatrixDisplay"
   ]
  },
  {
   "cell_type": "code",
   "execution_count": 61,
   "metadata": {},
   "outputs": [],
   "source": [
    "# Implement Decision Tree Classifier\n",
    "X_train, X_test, y_train, y_test =train_test_split(sample_2.data,sample_2.target,test_size=0.20,random_state=4234) \n",
    "clf = DecisionTreeClassifier(random_state=214)\n",
    "\n",
    "# Fit the model\n",
    "fit = clf.fit(X_train, y_train)"
   ]
  },
  {
   "cell_type": "code",
   "execution_count": 62,
   "metadata": {},
   "outputs": [
    {
     "data": {
      "text/plain": [
       "array([7, 5, 6, 7, 5, 7, 6, 5, 5, 5, 6, 6, 7, 5, 5, 6, 5, 6, 6, 5, 6, 6,\n",
       "       6, 6, 4, 5, 6, 5, 5, 6, 6, 5, 7, 6, 6, 6, 6, 6, 6, 6, 6, 4, 6, 5,\n",
       "       6, 6, 7, 5, 6, 7, 6, 5, 6, 5, 6, 6, 4, 7, 6, 6, 5, 7, 8, 6, 7, 6,\n",
       "       4, 8, 7, 6, 5, 7, 6, 7, 6, 7, 7, 6, 6, 7, 8, 7, 5, 7, 5, 6, 5, 7,\n",
       "       6, 6, 6, 6, 8, 6, 6, 7, 6, 6, 6, 7])"
      ]
     },
     "execution_count": 62,
     "metadata": {},
     "output_type": "execute_result"
    }
   ],
   "source": [
    "# Make predictions\n",
    "y_pre = fit.predict(X_test)\n",
    "y_pre"
   ]
  },
  {
   "cell_type": "code",
   "execution_count": 63,
   "metadata": {},
   "outputs": [
    {
     "name": "stdout",
     "output_type": "stream",
     "text": [
      "Decision Tree Confusion Matrix:\n",
      "\n",
      "[[ 0  0  0  1  0  0]\n",
      " [ 0  1  3  1  1  0]\n",
      " [ 0  1 11  8  3  1]\n",
      " [ 0  2  6 28  9  1]\n",
      " [ 0  0  2 10  8  0]\n",
      " [ 0  0  0  1  0  2]]\n"
     ]
    },
    {
     "data": {
      "text/plain": [
       "<sklearn.metrics._plot.confusion_matrix.ConfusionMatrixDisplay at 0x15487ba50>"
      ]
     },
     "execution_count": 63,
     "metadata": {},
     "output_type": "execute_result"
    },
    {
     "data": {
      "image/png": "[encoded data removed]",
      "text/plain": [
       "<Figure size 640x480 with 2 Axes>"
      ]
     },
     "metadata": {},
     "output_type": "display_data"
    }
   ],
   "source": [
    "# Evaluate the Decision Tree classifier\n",
    "cm = confusion_matrix(y_test, y_pre)\n",
    "print(\"Decision Tree Confusion Matrix:\\n\")\n",
    "print(cm)\n",
    "ConfusionMatrixDisplay(confusion_matrix=cm, display_labels=clf.classes_).plot()"
   ]
  },
  {
   "cell_type": "code",
   "execution_count": 64,
   "metadata": {},
   "outputs": [
    {
     "name": "stdout",
     "output_type": "stream",
     "text": [
      "Decision Tree Classification Report:\n",
      "\n",
      "              precision    recall  f1-score   support\n",
      "\n",
      "           3       0.00      0.00      0.00         1\n",
      "           4       0.25      0.17      0.20         6\n",
      "           5       0.50      0.46      0.48        24\n",
      "           6       0.57      0.61      0.59        46\n",
      "           7       0.38      0.40      0.39        20\n",
      "           8       0.50      0.67      0.57         3\n",
      "\n",
      "    accuracy                           0.50       100\n",
      "   macro avg       0.37      0.38      0.37       100\n",
      "weighted avg       0.49      0.50      0.49       100\n",
      "\n"
     ]
    }
   ],
   "source": [
    "print(\"Decision Tree Classification Report:\\n\")\n",
    "print(classification_report(y_test,y_pre))"
   ]
  },
  {
   "cell_type": "code",
   "execution_count": 65,
   "metadata": {},
   "outputs": [
    {
     "data": {
      "text/html": [
       "<style>#sk-container-id-2 {color: black;background-color: white;}#sk-container-id-2 pre{padding: 0;}#sk-container-id-2 div.sk-toggleable {background-color: white;}#sk-container-id-2 label.sk-toggleable__label {cursor: pointer;display: block;width: 100%;margin-bottom: 0;padding: 0.3em;box-sizing: border-box;text-align: center;}#sk-container-id-2 label.sk-toggleable__label-arrow:before {content: \"▸\";float: left;margin-right: 0.25em;color: #696969;}#sk-container-id-2 label.sk-toggleable__label-arrow:hover:before {color: black;}#sk-container-id-2 div.sk-estimator:hover label.sk-toggleable__label-arrow:before {color: black;}#sk-container-id-2 div.sk-toggleable__content {max-height: 0;max-width: 0;overflow: hidden;text-align: left;background-color: #f0f8ff;}#sk-container-id-2 div.sk-toggleable__content pre {margin: 0.2em;color: black;border-radius: 0.25em;background-color: #f0f8ff;}#sk-container-id-2 input.sk-toggleable__control:checked~div.sk-toggleable__content {max-height: 200px;max-width: 100%;overflow: auto;}#sk-container-id-2 input.sk-toggleable__control:checked~label.sk-toggleable__label-arrow:before {content: \"▾\";}#sk-container-id-2 div.sk-estimator input.sk-toggleable__control:checked~label.sk-toggleable__label {background-color: #d4ebff;}#sk-container-id-2 div.sk-label input.sk-toggleable__control:checked~label.sk-toggleable__label {background-color: #d4ebff;}#sk-container-id-2 input.sk-hidden--visually {border: 0;clip: rect(1px 1px 1px 1px);clip: rect(1px, 1px, 1px, 1px);height: 1px;margin: -1px;overflow: hidden;padding: 0;position: absolute;width: 1px;}#sk-container-id-2 div.sk-estimator {font-family: monospace;background-color: #f0f8ff;border: 1px dotted black;border-radius: 0.25em;box-sizing: border-box;margin-bottom: 0.5em;}#sk-container-id-2 div.sk-estimator:hover {background-color: #d4ebff;}#sk-container-id-2 div.sk-parallel-item::after {content: \"\";width: 100%;border-bottom: 1px solid gray;flex-grow: 1;}#sk-container-id-2 div.sk-label:hover label.sk-toggleable__label {background-color: #d4ebff;}#sk-container-id-2 div.sk-serial::before {content: \"\";position: absolute;border-left: 1px solid gray;box-sizing: border-box;top: 0;bottom: 0;left: 50%;z-index: 0;}#sk-container-id-2 div.sk-serial {display: flex;flex-direction: column;align-items: center;background-color: white;padding-right: 0.2em;padding-left: 0.2em;position: relative;}#sk-container-id-2 div.sk-item {position: relative;z-index: 1;}#sk-container-id-2 div.sk-parallel {display: flex;align-items: stretch;justify-content: center;background-color: white;position: relative;}#sk-container-id-2 div.sk-item::before, #sk-container-id-2 div.sk-parallel-item::before {content: \"\";position: absolute;border-left: 1px solid gray;box-sizing: border-box;top: 0;bottom: 0;left: 50%;z-index: -1;}#sk-container-id-2 div.sk-parallel-item {display: flex;flex-direction: column;z-index: 1;position: relative;background-color: white;}#sk-container-id-2 div.sk-parallel-item:first-child::after {align-self: flex-end;width: 50%;}#sk-container-id-2 div.sk-parallel-item:last-child::after {align-self: flex-start;width: 50%;}#sk-container-id-2 div.sk-parallel-item:only-child::after {width: 0;}#sk-container-id-2 div.sk-dashed-wrapped {border: 1px dashed gray;margin: 0 0.4em 0.5em 0.4em;box-sizing: border-box;padding-bottom: 0.4em;background-color: white;}#sk-container-id-2 div.sk-label label {font-family: monospace;font-weight: bold;display: inline-block;line-height: 1.2em;}#sk-container-id-2 div.sk-label-container {text-align: center;}#sk-container-id-2 div.sk-container {/* jupyter's `normalize.less` sets `[hidden] { display: none; }` but bootstrap.min.css set `[hidden] { display: none !important; }` so we also need the `!important` here to be able to override the default hidden behavior on the sphinx rendered scikit-learn.org. See: https://github.com/scikit-learn/scikit-learn/issues/21755 */display: inline-block !important;position: relative;}#sk-container-id-2 div.sk-text-repr-fallback {display: none;}</style><div id=\"sk-container-id-2\" class=\"sk-top-container\"><div class=\"sk-text-repr-fallback\"><pre>RandomForestClassifier(class_weight=&#x27;balanced&#x27;, random_state=42)</pre><b>In a Jupyter environment, please rerun this cell to show the HTML representation or trust the notebook. <br />On GitHub, the HTML representation is unable to render, please try loading this page with nbviewer.org.</b></div><div class=\"sk-container\" hidden><div class=\"sk-item\"><div class=\"sk-estimator sk-toggleable\"><input class=\"sk-toggleable__control sk-hidden--visually\" id=\"sk-estimator-id-2\" type=\"checkbox\" checked><label for=\"sk-estimator-id-2\" class=\"sk-toggleable__label sk-toggleable__label-arrow\">RandomForestClassifier</label><div class=\"sk-toggleable__content\"><pre>RandomForestClassifier(class_weight=&#x27;balanced&#x27;, random_state=42)</pre></div></div></div></div></div>"
      ],
      "text/plain": [
       "RandomForestClassifier(class_weight='balanced', random_state=42)"
      ]
     },
     "execution_count": 65,
     "metadata": {},
     "output_type": "execute_result"
    }
   ],
   "source": [
    "# Create the Random Forest Classifier\n",
    "rf_clf = RandomForestClassifier(n_estimators=100, random_state=42, class_weight='balanced')\n",
    "\n",
    "# Fit the model\n",
    "rf_clf.fit(X_train, y_train)"
   ]
  },
  {
   "cell_type": "code",
   "execution_count": 66,
   "metadata": {},
   "outputs": [
    {
     "name": "stdout",
     "output_type": "stream",
     "text": [
      "Best parameters: {'max_depth': 15, 'max_features': 'sqrt', 'min_samples_leaf': 1, 'min_samples_split': 2, 'n_estimators': 150}\n",
      "Best cross-validation score: 0.56\n"
     ]
    }
   ],
   "source": [
    "# Define the parameter grid\n",
    "param_grid = {\n",
    "    'n_estimators': [50, 100, 150],\n",
    "    'max_depth': [10, 15, 20, 25],\n",
    "    'min_samples_split': [2, 5,8, 10],\n",
    "    'min_samples_leaf': [1, 2,3, 4],\n",
    "    'max_features': ['sqrt', 'log2']\n",
    "}\n",
    "\n",
    "# Initialize GridSearchCV\n",
    "grid_search = GridSearchCV(estimator=rf_clf, param_grid=param_grid, scoring='accuracy', cv=5, n_jobs=-1)\n",
    "\n",
    "# Fit the model\n",
    "grid_search.fit(X_train, y_train)\n",
    "\n",
    "# Get the best parameters and best score\n",
    "print(\"Best parameters:\", grid_search.best_params_)\n",
    "print(\"Best cross-validation score:\", grid_search.best_score_)\n"
   ]
  },
  {
   "cell_type": "code",
   "execution_count": 67,
   "metadata": {},
   "outputs": [
    {
     "name": "stdout",
     "output_type": "stream",
     "text": [
      "[[ 0  0  1  0  0  0]\n",
      " [ 0  1  3  1  1  0]\n",
      " [ 0  0 14 10  0  0]\n",
      " [ 0  0  9 33  4  0]\n",
      " [ 0  0  0 15  5  0]\n",
      " [ 0  0  0  1  1  1]]\n",
      "\n",
      "Classification Report:\n",
      "              precision    recall  f1-score   support\n",
      "\n",
      "           3       0.00      0.00      0.00         1\n",
      "           4       1.00      0.17      0.29         6\n",
      "           5       0.52      0.58      0.55        24\n",
      "           6       0.55      0.72      0.62        46\n",
      "           7       0.45      0.25      0.32        20\n",
      "           8       1.00      0.33      0.50         3\n",
      "\n",
      "    accuracy                           0.54       100\n",
      "   macro avg       0.59      0.34      0.38       100\n",
      "weighted avg       0.56      0.54      0.51       100\n",
      "\n"
     ]
    },
    {
     "data": {
      "image/png": "[encoded data removed]",
      "text/plain": [
       "<Figure size 640x480 with 2 Axes>"
      ]
     },
     "metadata": {},
     "output_type": "display_data"
    }
   ],
   "source": [
    "# Use the best estimator from grid search\n",
    "best_rf_model = grid_search.best_estimator_\n",
    "\n",
    "# Predict on the test set\n",
    "y_pred = best_rf_model.predict(X_test)\n",
    "\n",
    "# Evaluate the model\n",
    "cm = confusion_matrix(y_test, y_pred)\n",
    "print(cm)\n",
    "ConfusionMatrixDisplay(confusion_matrix=cm, display_labels=best_rf_model.classes_).plot();\n",
    "\n",
    "\n",
    "print(\"\\nClassification Report:\")\n",
    "print(classification_report(y_test, y_pred))\n",
    "rf_report = classification_report(y_test, y_pred,output_dict=True)\n"
   ]
  },
  {
   "cell_type": "code",
   "execution_count": 68,
   "metadata": {},
   "outputs": [
    {
     "data": {
      "text/plain": [
       "Text(0.5, 1.0, 'Accuracy Scores for Standard kNN vs RF Decision Tree')"
      ]
     },
     "execution_count": 68,
     "metadata": {},
     "output_type": "execute_result"
    },
    {
     "data": {
      "image/png": "[encoded data removed]",
      "text/plain": [
       "<Figure size 640x480 with 1 Axes>"
      ]
     },
     "metadata": {},
     "output_type": "display_data"
    }
   ],
   "source": [
    "# Prepare the data for plotting accuracy\n",
    "accuracy_results = {\n",
    "    \"Standard kNN\": knn_report['accuracy'],\n",
    "    \"Random Forest Decision Tree\": rf_report['accuracy']\n",
    "}\n",
    "#Plotting the accuracy values\n",
    "\n",
    "plt.bar(accuracy_results.keys(), accuracy_results.values(), color=['blue', 'orange'])\n",
    "plt.ylabel('Accuracy')\n",
    "plt.title('Accuracy Scores for Standard kNN vs RF Decision Tree')\n"
   ]
  },
  {
   "cell_type": "code",
   "execution_count": 69,
   "metadata": {},
   "outputs": [
    {
     "data": {
      "text/plain": [
       "Text(0.5, 1.0, 'Weighted Average F1 scores for Standard kNN vs RF Decision Tree')"
      ]
     },
     "execution_count": 69,
     "metadata": {},
     "output_type": "execute_result"
    },
    {
     "data": {
      "image/png": "[encoded data removed]",
      "text/plain": [
       "<Figure size 640x480 with 1 Axes>"
      ]
     },
     "metadata": {},
     "output_type": "display_data"
    }
   ],
   "source": [
    "# Prepare the data for plotting weighted F1 score\n",
    "f1_dt  = rf_report['weighted avg']['f1-score']\n",
    "f1_Knn  = knn_report['weighted avg']['f1-score']\n",
    "\n",
    "\n",
    "# Prepare the data for plotting\n",
    "F1_results = {\n",
    "    \"Standard kNN\": f1_Knn,\n",
    "    \"RF Decision tree\": f1_dt\n",
    "}\n",
    "#Plotting the weighted avg F1 values\n",
    "plt.bar(F1_results.keys(), F1_results.values(), color=['blue', 'orange'])\n",
    "plt.ylabel('Weighted Average F1 scores')\n",
    "plt.title('Weighted Average F1 scores for Standard kNN vs RF Decision Tree')"
   ]
  },
  {
   "cell_type": "markdown",
   "metadata": {
    "id": "r-i5aIqXpPbu"
   },
   "source": [
    "# Task 3: Clustering"
   ]
  },
  {
   "cell_type": "code",
   "execution_count": 73,
   "metadata": {},
   "outputs": [],
   "source": [
    "sample_3 = data.sample(n= 300,random_state=1) # Creating a random sample of 200 observations"
   ]
  },
  {
   "cell_type": "code",
   "execution_count": 74,
   "metadata": {},
   "outputs": [
    {
     "data": {
      "text/html": [
       "<div>\n",
       "<style scoped>\n",
       "    .dataframe tbody tr th:only-of-type {\n",
       "        vertical-align: middle;\n",
       "    }\n",
       "\n",
       "    .dataframe tbody tr th {\n",
       "        vertical-align: top;\n",
       "    }\n",
       "\n",
       "    .dataframe thead th {\n",
       "        text-align: right;\n",
       "    }\n",
       "</style>\n",
       "<table border=\"1\" class=\"dataframe\">\n",
       "  <thead>\n",
       "    <tr style=\"text-align: right;\">\n",
       "      <th></th>\n",
       "      <th>fixed acidity</th>\n",
       "      <th>volatile acidity</th>\n",
       "      <th>citric acid</th>\n",
       "      <th>residual sugar</th>\n",
       "      <th>chlorides</th>\n",
       "      <th>free sulfur dioxide</th>\n",
       "      <th>total sulfur dioxide</th>\n",
       "      <th>density</th>\n",
       "      <th>pH</th>\n",
       "      <th>sulphates</th>\n",
       "      <th>alcohol</th>\n",
       "      <th>quality</th>\n",
       "    </tr>\n",
       "  </thead>\n",
       "  <tbody>\n",
       "    <tr>\n",
       "      <th>2422</th>\n",
       "      <td>7.6</td>\n",
       "      <td>0.285</td>\n",
       "      <td>0.32</td>\n",
       "      <td>14.6</td>\n",
       "      <td>0.063</td>\n",
       "      <td>32.0</td>\n",
       "      <td>201.0</td>\n",
       "      <td>0.99800</td>\n",
       "      <td>3.00</td>\n",
       "      <td>0.45</td>\n",
       "      <td>9.2</td>\n",
       "      <td>5</td>\n",
       "    </tr>\n",
       "    <tr>\n",
       "      <th>4226</th>\n",
       "      <td>6.0</td>\n",
       "      <td>0.330</td>\n",
       "      <td>0.26</td>\n",
       "      <td>5.1</td>\n",
       "      <td>0.051</td>\n",
       "      <td>16.0</td>\n",
       "      <td>119.0</td>\n",
       "      <td>0.99416</td>\n",
       "      <td>3.15</td>\n",
       "      <td>0.41</td>\n",
       "      <td>9.2</td>\n",
       "      <td>5</td>\n",
       "    </tr>\n",
       "    <tr>\n",
       "      <th>1240</th>\n",
       "      <td>7.3</td>\n",
       "      <td>0.180</td>\n",
       "      <td>0.65</td>\n",
       "      <td>1.4</td>\n",
       "      <td>0.046</td>\n",
       "      <td>28.0</td>\n",
       "      <td>157.0</td>\n",
       "      <td>0.99460</td>\n",
       "      <td>3.33</td>\n",
       "      <td>0.62</td>\n",
       "      <td>9.4</td>\n",
       "      <td>6</td>\n",
       "    </tr>\n",
       "    <tr>\n",
       "      <th>2547</th>\n",
       "      <td>6.6</td>\n",
       "      <td>0.240</td>\n",
       "      <td>0.24</td>\n",
       "      <td>8.6</td>\n",
       "      <td>0.034</td>\n",
       "      <td>25.0</td>\n",
       "      <td>135.0</td>\n",
       "      <td>0.99582</td>\n",
       "      <td>3.33</td>\n",
       "      <td>0.59</td>\n",
       "      <td>10.3</td>\n",
       "      <td>6</td>\n",
       "    </tr>\n",
       "    <tr>\n",
       "      <th>2795</th>\n",
       "      <td>6.3</td>\n",
       "      <td>0.250</td>\n",
       "      <td>0.22</td>\n",
       "      <td>3.3</td>\n",
       "      <td>0.048</td>\n",
       "      <td>41.0</td>\n",
       "      <td>161.0</td>\n",
       "      <td>0.99256</td>\n",
       "      <td>3.16</td>\n",
       "      <td>0.50</td>\n",
       "      <td>10.5</td>\n",
       "      <td>6</td>\n",
       "    </tr>\n",
       "  </tbody>\n",
       "</table>\n",
       "</div>"
      ],
      "text/plain": [
       "      fixed acidity  volatile acidity  citric acid  residual sugar  chlorides  \\\n",
       "2422            7.6             0.285         0.32            14.6      0.063   \n",
       "4226            6.0             0.330         0.26             5.1      0.051   \n",
       "1240            7.3             0.180         0.65             1.4      0.046   \n",
       "2547            6.6             0.240         0.24             8.6      0.034   \n",
       "2795            6.3             0.250         0.22             3.3      0.048   \n",
       "\n",
       "      free sulfur dioxide  total sulfur dioxide  density    pH  sulphates  \\\n",
       "2422                 32.0                 201.0  0.99800  3.00       0.45   \n",
       "4226                 16.0                 119.0  0.99416  3.15       0.41   \n",
       "1240                 28.0                 157.0  0.99460  3.33       0.62   \n",
       "2547                 25.0                 135.0  0.99582  3.33       0.59   \n",
       "2795                 41.0                 161.0  0.99256  3.16       0.50   \n",
       "\n",
       "      alcohol  quality  \n",
       "2422      9.2        5  \n",
       "4226      9.2        5  \n",
       "1240      9.4        6  \n",
       "2547     10.3        6  \n",
       "2795     10.5        6  "
      ]
     },
     "execution_count": 74,
     "metadata": {},
     "output_type": "execute_result"
    }
   ],
   "source": [
    "sample_3.head()"
   ]
  },
  {
   "cell_type": "code",
   "execution_count": 75,
   "metadata": {},
   "outputs": [
    {
     "data": {
      "text/plain": [
       "(300, 12)"
      ]
     },
     "execution_count": 75,
     "metadata": {},
     "output_type": "execute_result"
    }
   ],
   "source": [
    "sample_3.shape"
   ]
  },
  {
   "cell_type": "code",
   "execution_count": 76,
   "metadata": {},
   "outputs": [],
   "source": [
    "sample_3.to_csv('S3991481-A2SampleThree_draft.csv',index=False) #Exporting the sample into a csv file"
   ]
  },
  {
   "cell_type": "code",
   "execution_count": 77,
   "metadata": {},
   "outputs": [
    {
     "data": {
      "text/plain": [
       "fixed acidity           0\n",
       "volatile acidity        0\n",
       "citric acid             0\n",
       "residual sugar          0\n",
       "chlorides               0\n",
       "free sulfur dioxide     0\n",
       "total sulfur dioxide    0\n",
       "density                 0\n",
       "pH                      0\n",
       "sulphates               0\n",
       "alcohol                 0\n",
       "quality                 0\n",
       "dtype: int64"
      ]
     },
     "execution_count": 77,
     "metadata": {},
     "output_type": "execute_result"
    }
   ],
   "source": [
    "sample_3.isna().sum() # Checking fro any missing values"
   ]
  },
  {
   "cell_type": "markdown",
   "metadata": {
    "id": "QOY4K_neos9j"
   },
   "source": [
    "## k-Means "
   ]
  },
  {
   "cell_type": "code",
   "execution_count": 79,
   "metadata": {},
   "outputs": [],
   "source": [
    "#Importing packages"
   ]
  },
  {
   "cell_type": "code",
   "execution_count": 80,
   "metadata": {},
   "outputs": [],
   "source": [
    "from sklearn import cluster\n",
    "import seaborn as sns\n",
    "from sklearn.metrics import silhouette_score, davies_bouldin_score, calinski_harabasz_score\n",
    "from sklearn.metrics import accuracy_score"
   ]
  },
  {
   "cell_type": "code",
   "execution_count": 81,
   "metadata": {},
   "outputs": [
    {
     "data": {
      "text/plain": [
       "300"
      ]
     },
     "execution_count": 81,
     "metadata": {},
     "output_type": "execute_result"
    }
   ],
   "source": [
    "# No of samples\n",
    "n_sample = len(sample_3)\n",
    "n_sample"
   ]
  },
  {
   "cell_type": "code",
   "execution_count": 82,
   "metadata": {},
   "outputs": [
    {
     "data": {
      "text/plain": [
       "Index(['fixed acidity', 'volatile acidity', 'citric acid', 'residual sugar',\n",
       "       'chlorides', 'free sulfur dioxide', 'total sulfur dioxide', 'density',\n",
       "       'pH', 'sulphates', 'alcohol', 'quality'],\n",
       "      dtype='object')"
      ]
     },
     "execution_count": 82,
     "metadata": {},
     "output_type": "execute_result"
    }
   ],
   "source": [
    "sample_3.columns"
   ]
  },
  {
   "cell_type": "code",
   "execution_count": 83,
   "metadata": {},
   "outputs": [
    {
     "data": {
      "text/html": [
       "<div>\n",
       "<style scoped>\n",
       "    .dataframe tbody tr th:only-of-type {\n",
       "        vertical-align: middle;\n",
       "    }\n",
       "\n",
       "    .dataframe tbody tr th {\n",
       "        vertical-align: top;\n",
       "    }\n",
       "\n",
       "    .dataframe thead th {\n",
       "        text-align: right;\n",
       "    }\n",
       "</style>\n",
       "<table border=\"1\" class=\"dataframe\">\n",
       "  <thead>\n",
       "    <tr style=\"text-align: right;\">\n",
       "      <th></th>\n",
       "      <th>fixed acidity</th>\n",
       "      <th>volatile acidity</th>\n",
       "      <th>citric acid</th>\n",
       "      <th>residual sugar</th>\n",
       "      <th>chlorides</th>\n",
       "      <th>free sulfur dioxide</th>\n",
       "      <th>total sulfur dioxide</th>\n",
       "      <th>density</th>\n",
       "      <th>pH</th>\n",
       "      <th>sulphates</th>\n",
       "      <th>alcohol</th>\n",
       "    </tr>\n",
       "  </thead>\n",
       "  <tbody>\n",
       "    <tr>\n",
       "      <th>2422</th>\n",
       "      <td>7.6</td>\n",
       "      <td>0.285</td>\n",
       "      <td>0.32</td>\n",
       "      <td>14.6</td>\n",
       "      <td>0.063</td>\n",
       "      <td>32.0</td>\n",
       "      <td>201.0</td>\n",
       "      <td>0.99800</td>\n",
       "      <td>3.00</td>\n",
       "      <td>0.45</td>\n",
       "      <td>9.2</td>\n",
       "    </tr>\n",
       "    <tr>\n",
       "      <th>4226</th>\n",
       "      <td>6.0</td>\n",
       "      <td>0.330</td>\n",
       "      <td>0.26</td>\n",
       "      <td>5.1</td>\n",
       "      <td>0.051</td>\n",
       "      <td>16.0</td>\n",
       "      <td>119.0</td>\n",
       "      <td>0.99416</td>\n",
       "      <td>3.15</td>\n",
       "      <td>0.41</td>\n",
       "      <td>9.2</td>\n",
       "    </tr>\n",
       "    <tr>\n",
       "      <th>1240</th>\n",
       "      <td>7.3</td>\n",
       "      <td>0.180</td>\n",
       "      <td>0.65</td>\n",
       "      <td>1.4</td>\n",
       "      <td>0.046</td>\n",
       "      <td>28.0</td>\n",
       "      <td>157.0</td>\n",
       "      <td>0.99460</td>\n",
       "      <td>3.33</td>\n",
       "      <td>0.62</td>\n",
       "      <td>9.4</td>\n",
       "    </tr>\n",
       "    <tr>\n",
       "      <th>2547</th>\n",
       "      <td>6.6</td>\n",
       "      <td>0.240</td>\n",
       "      <td>0.24</td>\n",
       "      <td>8.6</td>\n",
       "      <td>0.034</td>\n",
       "      <td>25.0</td>\n",
       "      <td>135.0</td>\n",
       "      <td>0.99582</td>\n",
       "      <td>3.33</td>\n",
       "      <td>0.59</td>\n",
       "      <td>10.3</td>\n",
       "    </tr>\n",
       "    <tr>\n",
       "      <th>2795</th>\n",
       "      <td>6.3</td>\n",
       "      <td>0.250</td>\n",
       "      <td>0.22</td>\n",
       "      <td>3.3</td>\n",
       "      <td>0.048</td>\n",
       "      <td>41.0</td>\n",
       "      <td>161.0</td>\n",
       "      <td>0.99256</td>\n",
       "      <td>3.16</td>\n",
       "      <td>0.50</td>\n",
       "      <td>10.5</td>\n",
       "    </tr>\n",
       "  </tbody>\n",
       "</table>\n",
       "</div>"
      ],
      "text/plain": [
       "      fixed acidity  volatile acidity  citric acid  residual sugar  chlorides  \\\n",
       "2422            7.6             0.285         0.32            14.6      0.063   \n",
       "4226            6.0             0.330         0.26             5.1      0.051   \n",
       "1240            7.3             0.180         0.65             1.4      0.046   \n",
       "2547            6.6             0.240         0.24             8.6      0.034   \n",
       "2795            6.3             0.250         0.22             3.3      0.048   \n",
       "\n",
       "      free sulfur dioxide  total sulfur dioxide  density    pH  sulphates  \\\n",
       "2422                 32.0                 201.0  0.99800  3.00       0.45   \n",
       "4226                 16.0                 119.0  0.99416  3.15       0.41   \n",
       "1240                 28.0                 157.0  0.99460  3.33       0.62   \n",
       "2547                 25.0                 135.0  0.99582  3.33       0.59   \n",
       "2795                 41.0                 161.0  0.99256  3.16       0.50   \n",
       "\n",
       "      alcohol  \n",
       "2422      9.2  \n",
       "4226      9.2  \n",
       "1240      9.4  \n",
       "2547     10.3  \n",
       "2795     10.5  "
      ]
     },
     "execution_count": 83,
     "metadata": {},
     "output_type": "execute_result"
    }
   ],
   "source": [
    "#Considering only the features\n",
    "X = sample_3.drop(\"quality\", axis=1)\n",
    "X.head()"
   ]
  },
  {
   "cell_type": "code",
   "execution_count": 84,
   "metadata": {},
   "outputs": [],
   "source": [
    "#Build the model\n",
    "model = cluster.KMeans(n_clusters = 8, random_state=141234)\n",
    "\n",
    "#Fitting the model\n",
    "fit = model.fit(X)\n",
    "\n",
    "#The cluster labels of X are predicted by taking X as input.\n",
    "X[\"cluster\"] = fit.predict(X)"
   ]
  },
  {
   "cell_type": "code",
   "execution_count": 85,
   "metadata": {},
   "outputs": [
    {
     "data": {
      "text/html": [
       "<div>\n",
       "<style scoped>\n",
       "    .dataframe tbody tr th:only-of-type {\n",
       "        vertical-align: middle;\n",
       "    }\n",
       "\n",
       "    .dataframe tbody tr th {\n",
       "        vertical-align: top;\n",
       "    }\n",
       "\n",
       "    .dataframe thead th {\n",
       "        text-align: right;\n",
       "    }\n",
       "</style>\n",
       "<table border=\"1\" class=\"dataframe\">\n",
       "  <thead>\n",
       "    <tr style=\"text-align: right;\">\n",
       "      <th></th>\n",
       "      <th>fixed acidity</th>\n",
       "      <th>volatile acidity</th>\n",
       "      <th>citric acid</th>\n",
       "      <th>residual sugar</th>\n",
       "      <th>chlorides</th>\n",
       "      <th>free sulfur dioxide</th>\n",
       "      <th>total sulfur dioxide</th>\n",
       "      <th>density</th>\n",
       "      <th>pH</th>\n",
       "      <th>sulphates</th>\n",
       "      <th>alcohol</th>\n",
       "      <th>cluster</th>\n",
       "      <th>quality</th>\n",
       "    </tr>\n",
       "  </thead>\n",
       "  <tbody>\n",
       "    <tr>\n",
       "      <th>2422</th>\n",
       "      <td>7.6</td>\n",
       "      <td>0.285</td>\n",
       "      <td>0.32</td>\n",
       "      <td>14.6</td>\n",
       "      <td>0.063</td>\n",
       "      <td>32.0</td>\n",
       "      <td>201.0</td>\n",
       "      <td>0.99800</td>\n",
       "      <td>3.00</td>\n",
       "      <td>0.45</td>\n",
       "      <td>9.2</td>\n",
       "      <td>3</td>\n",
       "      <td>5</td>\n",
       "    </tr>\n",
       "    <tr>\n",
       "      <th>4226</th>\n",
       "      <td>6.0</td>\n",
       "      <td>0.330</td>\n",
       "      <td>0.26</td>\n",
       "      <td>5.1</td>\n",
       "      <td>0.051</td>\n",
       "      <td>16.0</td>\n",
       "      <td>119.0</td>\n",
       "      <td>0.99416</td>\n",
       "      <td>3.15</td>\n",
       "      <td>0.41</td>\n",
       "      <td>9.2</td>\n",
       "      <td>4</td>\n",
       "      <td>5</td>\n",
       "    </tr>\n",
       "    <tr>\n",
       "      <th>1240</th>\n",
       "      <td>7.3</td>\n",
       "      <td>0.180</td>\n",
       "      <td>0.65</td>\n",
       "      <td>1.4</td>\n",
       "      <td>0.046</td>\n",
       "      <td>28.0</td>\n",
       "      <td>157.0</td>\n",
       "      <td>0.99460</td>\n",
       "      <td>3.33</td>\n",
       "      <td>0.62</td>\n",
       "      <td>9.4</td>\n",
       "      <td>0</td>\n",
       "      <td>6</td>\n",
       "    </tr>\n",
       "    <tr>\n",
       "      <th>2547</th>\n",
       "      <td>6.6</td>\n",
       "      <td>0.240</td>\n",
       "      <td>0.24</td>\n",
       "      <td>8.6</td>\n",
       "      <td>0.034</td>\n",
       "      <td>25.0</td>\n",
       "      <td>135.0</td>\n",
       "      <td>0.99582</td>\n",
       "      <td>3.33</td>\n",
       "      <td>0.59</td>\n",
       "      <td>10.3</td>\n",
       "      <td>1</td>\n",
       "      <td>6</td>\n",
       "    </tr>\n",
       "    <tr>\n",
       "      <th>2795</th>\n",
       "      <td>6.3</td>\n",
       "      <td>0.250</td>\n",
       "      <td>0.22</td>\n",
       "      <td>3.3</td>\n",
       "      <td>0.048</td>\n",
       "      <td>41.0</td>\n",
       "      <td>161.0</td>\n",
       "      <td>0.99256</td>\n",
       "      <td>3.16</td>\n",
       "      <td>0.50</td>\n",
       "      <td>10.5</td>\n",
       "      <td>0</td>\n",
       "      <td>6</td>\n",
       "    </tr>\n",
       "  </tbody>\n",
       "</table>\n",
       "</div>"
      ],
      "text/plain": [
       "      fixed acidity  volatile acidity  citric acid  residual sugar  chlorides  \\\n",
       "2422            7.6             0.285         0.32            14.6      0.063   \n",
       "4226            6.0             0.330         0.26             5.1      0.051   \n",
       "1240            7.3             0.180         0.65             1.4      0.046   \n",
       "2547            6.6             0.240         0.24             8.6      0.034   \n",
       "2795            6.3             0.250         0.22             3.3      0.048   \n",
       "\n",
       "      free sulfur dioxide  total sulfur dioxide  density    pH  sulphates  \\\n",
       "2422                 32.0                 201.0  0.99800  3.00       0.45   \n",
       "4226                 16.0                 119.0  0.99416  3.15       0.41   \n",
       "1240                 28.0                 157.0  0.99460  3.33       0.62   \n",
       "2547                 25.0                 135.0  0.99582  3.33       0.59   \n",
       "2795                 41.0                 161.0  0.99256  3.16       0.50   \n",
       "\n",
       "      alcohol  cluster  quality  \n",
       "2422      9.2        3        5  \n",
       "4226      9.2        4        5  \n",
       "1240      9.4        0        6  \n",
       "2547     10.3        1        6  \n",
       "2795     10.5        0        6  "
      ]
     },
     "execution_count": 85,
     "metadata": {},
     "output_type": "execute_result"
    }
   ],
   "source": [
    "# Adding back the quality column to compare the predictions\n",
    "X[\"quality\"] = sample_3.quality\n",
    "X.head()"
   ]
  },
  {
   "cell_type": "code",
   "execution_count": 86,
   "metadata": {},
   "outputs": [
    {
     "data": {
      "text/html": [
       "<div>\n",
       "<style scoped>\n",
       "    .dataframe tbody tr th:only-of-type {\n",
       "        vertical-align: middle;\n",
       "    }\n",
       "\n",
       "    .dataframe tbody tr th {\n",
       "        vertical-align: top;\n",
       "    }\n",
       "\n",
       "    .dataframe thead th {\n",
       "        text-align: right;\n",
       "    }\n",
       "</style>\n",
       "<table border=\"1\" class=\"dataframe\">\n",
       "  <thead>\n",
       "    <tr style=\"text-align: right;\">\n",
       "      <th></th>\n",
       "      <th>fixed acidity</th>\n",
       "      <th>volatile acidity</th>\n",
       "      <th>citric acid</th>\n",
       "      <th>residual sugar</th>\n",
       "      <th>chlorides</th>\n",
       "      <th>free sulfur dioxide</th>\n",
       "      <th>total sulfur dioxide</th>\n",
       "      <th>density</th>\n",
       "      <th>pH</th>\n",
       "      <th>sulphates</th>\n",
       "      <th>alcohol</th>\n",
       "      <th>cluster</th>\n",
       "      <th>quality</th>\n",
       "      <th>c</th>\n",
       "    </tr>\n",
       "  </thead>\n",
       "  <tbody>\n",
       "    <tr>\n",
       "      <th>2422</th>\n",
       "      <td>7.6</td>\n",
       "      <td>0.285</td>\n",
       "      <td>0.32</td>\n",
       "      <td>14.6</td>\n",
       "      <td>0.063</td>\n",
       "      <td>32.0</td>\n",
       "      <td>201.0</td>\n",
       "      <td>0.99800</td>\n",
       "      <td>3.00</td>\n",
       "      <td>0.45</td>\n",
       "      <td>9.2</td>\n",
       "      <td>3</td>\n",
       "      <td>5</td>\n",
       "      <td>count</td>\n",
       "    </tr>\n",
       "    <tr>\n",
       "      <th>4226</th>\n",
       "      <td>6.0</td>\n",
       "      <td>0.330</td>\n",
       "      <td>0.26</td>\n",
       "      <td>5.1</td>\n",
       "      <td>0.051</td>\n",
       "      <td>16.0</td>\n",
       "      <td>119.0</td>\n",
       "      <td>0.99416</td>\n",
       "      <td>3.15</td>\n",
       "      <td>0.41</td>\n",
       "      <td>9.2</td>\n",
       "      <td>4</td>\n",
       "      <td>5</td>\n",
       "      <td>count</td>\n",
       "    </tr>\n",
       "    <tr>\n",
       "      <th>1240</th>\n",
       "      <td>7.3</td>\n",
       "      <td>0.180</td>\n",
       "      <td>0.65</td>\n",
       "      <td>1.4</td>\n",
       "      <td>0.046</td>\n",
       "      <td>28.0</td>\n",
       "      <td>157.0</td>\n",
       "      <td>0.99460</td>\n",
       "      <td>3.33</td>\n",
       "      <td>0.62</td>\n",
       "      <td>9.4</td>\n",
       "      <td>0</td>\n",
       "      <td>6</td>\n",
       "      <td>count</td>\n",
       "    </tr>\n",
       "    <tr>\n",
       "      <th>2547</th>\n",
       "      <td>6.6</td>\n",
       "      <td>0.240</td>\n",
       "      <td>0.24</td>\n",
       "      <td>8.6</td>\n",
       "      <td>0.034</td>\n",
       "      <td>25.0</td>\n",
       "      <td>135.0</td>\n",
       "      <td>0.99582</td>\n",
       "      <td>3.33</td>\n",
       "      <td>0.59</td>\n",
       "      <td>10.3</td>\n",
       "      <td>1</td>\n",
       "      <td>6</td>\n",
       "      <td>count</td>\n",
       "    </tr>\n",
       "    <tr>\n",
       "      <th>2795</th>\n",
       "      <td>6.3</td>\n",
       "      <td>0.250</td>\n",
       "      <td>0.22</td>\n",
       "      <td>3.3</td>\n",
       "      <td>0.048</td>\n",
       "      <td>41.0</td>\n",
       "      <td>161.0</td>\n",
       "      <td>0.99256</td>\n",
       "      <td>3.16</td>\n",
       "      <td>0.50</td>\n",
       "      <td>10.5</td>\n",
       "      <td>0</td>\n",
       "      <td>6</td>\n",
       "      <td>count</td>\n",
       "    </tr>\n",
       "  </tbody>\n",
       "</table>\n",
       "</div>"
      ],
      "text/plain": [
       "      fixed acidity  volatile acidity  citric acid  residual sugar  chlorides  \\\n",
       "2422            7.6             0.285         0.32            14.6      0.063   \n",
       "4226            6.0             0.330         0.26             5.1      0.051   \n",
       "1240            7.3             0.180         0.65             1.4      0.046   \n",
       "2547            6.6             0.240         0.24             8.6      0.034   \n",
       "2795            6.3             0.250         0.22             3.3      0.048   \n",
       "\n",
       "      free sulfur dioxide  total sulfur dioxide  density    pH  sulphates  \\\n",
       "2422                 32.0                 201.0  0.99800  3.00       0.45   \n",
       "4226                 16.0                 119.0  0.99416  3.15       0.41   \n",
       "1240                 28.0                 157.0  0.99460  3.33       0.62   \n",
       "2547                 25.0                 135.0  0.99582  3.33       0.59   \n",
       "2795                 41.0                 161.0  0.99256  3.16       0.50   \n",
       "\n",
       "      alcohol  cluster  quality      c  \n",
       "2422      9.2        3        5  count  \n",
       "4226      9.2        4        5  count  \n",
       "1240      9.4        0        6  count  \n",
       "2547     10.3        1        6  count  \n",
       "2795     10.5        0        6  count  "
      ]
     },
     "execution_count": 86,
     "metadata": {},
     "output_type": "execute_result"
    }
   ],
   "source": [
    "#placeholder for a comparison count\n",
    "X[\"c\"] = \"count\"\n",
    "X.head()"
   ]
  },
  {
   "cell_type": "code",
   "execution_count": 87,
   "metadata": {},
   "outputs": [
    {
     "data": {
      "text/html": [
       "<div>\n",
       "<style scoped>\n",
       "    .dataframe tbody tr th:only-of-type {\n",
       "        vertical-align: middle;\n",
       "    }\n",
       "\n",
       "    .dataframe tbody tr th {\n",
       "        vertical-align: top;\n",
       "    }\n",
       "\n",
       "    .dataframe thead th {\n",
       "        text-align: right;\n",
       "    }\n",
       "</style>\n",
       "<table border=\"1\" class=\"dataframe\">\n",
       "  <thead>\n",
       "    <tr style=\"text-align: right;\">\n",
       "      <th></th>\n",
       "      <th></th>\n",
       "      <th>c</th>\n",
       "    </tr>\n",
       "    <tr>\n",
       "      <th>cluster</th>\n",
       "      <th>quality</th>\n",
       "      <th></th>\n",
       "    </tr>\n",
       "  </thead>\n",
       "  <tbody>\n",
       "    <tr>\n",
       "      <th rowspan=\"5\" valign=\"top\">0</th>\n",
       "      <th>4</th>\n",
       "      <td>2</td>\n",
       "    </tr>\n",
       "    <tr>\n",
       "      <th>5</th>\n",
       "      <td>12</td>\n",
       "    </tr>\n",
       "    <tr>\n",
       "      <th>6</th>\n",
       "      <td>14</td>\n",
       "    </tr>\n",
       "    <tr>\n",
       "      <th>7</th>\n",
       "      <td>4</td>\n",
       "    </tr>\n",
       "    <tr>\n",
       "      <th>8</th>\n",
       "      <td>1</td>\n",
       "    </tr>\n",
       "    <tr>\n",
       "      <th rowspan=\"4\" valign=\"top\">1</th>\n",
       "      <th>5</th>\n",
       "      <td>16</td>\n",
       "    </tr>\n",
       "    <tr>\n",
       "      <th>6</th>\n",
       "      <td>18</td>\n",
       "    </tr>\n",
       "    <tr>\n",
       "      <th>7</th>\n",
       "      <td>18</td>\n",
       "    </tr>\n",
       "    <tr>\n",
       "      <th>8</th>\n",
       "      <td>1</td>\n",
       "    </tr>\n",
       "    <tr>\n",
       "      <th rowspan=\"4\" valign=\"top\">2</th>\n",
       "      <th>4</th>\n",
       "      <td>2</td>\n",
       "    </tr>\n",
       "    <tr>\n",
       "      <th>5</th>\n",
       "      <td>6</td>\n",
       "    </tr>\n",
       "    <tr>\n",
       "      <th>6</th>\n",
       "      <td>22</td>\n",
       "    </tr>\n",
       "    <tr>\n",
       "      <th>7</th>\n",
       "      <td>13</td>\n",
       "    </tr>\n",
       "    <tr>\n",
       "      <th rowspan=\"2\" valign=\"top\">3</th>\n",
       "      <th>5</th>\n",
       "      <td>9</td>\n",
       "    </tr>\n",
       "    <tr>\n",
       "      <th>6</th>\n",
       "      <td>11</td>\n",
       "    </tr>\n",
       "    <tr>\n",
       "      <th rowspan=\"5\" valign=\"top\">4</th>\n",
       "      <th>4</th>\n",
       "      <td>2</td>\n",
       "    </tr>\n",
       "    <tr>\n",
       "      <th>5</th>\n",
       "      <td>19</td>\n",
       "    </tr>\n",
       "    <tr>\n",
       "      <th>6</th>\n",
       "      <td>27</td>\n",
       "    </tr>\n",
       "    <tr>\n",
       "      <th>7</th>\n",
       "      <td>13</td>\n",
       "    </tr>\n",
       "    <tr>\n",
       "      <th>8</th>\n",
       "      <td>3</td>\n",
       "    </tr>\n",
       "    <tr>\n",
       "      <th rowspan=\"3\" valign=\"top\">5</th>\n",
       "      <th>5</th>\n",
       "      <td>15</td>\n",
       "    </tr>\n",
       "    <tr>\n",
       "      <th>6</th>\n",
       "      <td>13</td>\n",
       "    </tr>\n",
       "    <tr>\n",
       "      <th>7</th>\n",
       "      <td>2</td>\n",
       "    </tr>\n",
       "    <tr>\n",
       "      <th rowspan=\"4\" valign=\"top\">6</th>\n",
       "      <th>5</th>\n",
       "      <td>14</td>\n",
       "    </tr>\n",
       "    <tr>\n",
       "      <th>6</th>\n",
       "      <td>29</td>\n",
       "    </tr>\n",
       "    <tr>\n",
       "      <th>7</th>\n",
       "      <td>3</td>\n",
       "    </tr>\n",
       "    <tr>\n",
       "      <th>8</th>\n",
       "      <td>2</td>\n",
       "    </tr>\n",
       "    <tr>\n",
       "      <th rowspan=\"4\" valign=\"top\">7</th>\n",
       "      <th>4</th>\n",
       "      <td>2</td>\n",
       "    </tr>\n",
       "    <tr>\n",
       "      <th>5</th>\n",
       "      <td>3</td>\n",
       "    </tr>\n",
       "    <tr>\n",
       "      <th>6</th>\n",
       "      <td>3</td>\n",
       "    </tr>\n",
       "    <tr>\n",
       "      <th>7</th>\n",
       "      <td>1</td>\n",
       "    </tr>\n",
       "  </tbody>\n",
       "</table>\n",
       "</div>"
      ],
      "text/plain": [
       "                  c\n",
       "cluster quality    \n",
       "0       4         2\n",
       "        5        12\n",
       "        6        14\n",
       "        7         4\n",
       "        8         1\n",
       "1       5        16\n",
       "        6        18\n",
       "        7        18\n",
       "        8         1\n",
       "2       4         2\n",
       "        5         6\n",
       "        6        22\n",
       "        7        13\n",
       "3       5         9\n",
       "        6        11\n",
       "4       4         2\n",
       "        5        19\n",
       "        6        27\n",
       "        7        13\n",
       "        8         3\n",
       "5       5        15\n",
       "        6        13\n",
       "        7         2\n",
       "6       5        14\n",
       "        6        29\n",
       "        7         3\n",
       "        8         2\n",
       "7       4         2\n",
       "        5         3\n",
       "        6         3\n",
       "        7         1"
      ]
     },
     "execution_count": 87,
     "metadata": {},
     "output_type": "execute_result"
    }
   ],
   "source": [
    "clustering_result = X[[\"cluster\", \"quality\", \"c\"]].groupby([\"cluster\",\"quality\"]).agg(\"count\")\n",
    "clustering_result"
   ]
  },
  {
   "cell_type": "code",
   "execution_count": 88,
   "metadata": {},
   "outputs": [
    {
     "name": "stdout",
     "output_type": "stream",
     "text": [
      "Confusion Matrix: Wine Quality vs Cluster Labels\n"
     ]
    },
    {
     "data": {
      "text/html": [
       "<div>\n",
       "<style scoped>\n",
       "    .dataframe tbody tr th:only-of-type {\n",
       "        vertical-align: middle;\n",
       "    }\n",
       "\n",
       "    .dataframe tbody tr th {\n",
       "        vertical-align: top;\n",
       "    }\n",
       "\n",
       "    .dataframe thead th {\n",
       "        text-align: right;\n",
       "    }\n",
       "</style>\n",
       "<table border=\"1\" class=\"dataframe\">\n",
       "  <thead>\n",
       "    <tr style=\"text-align: right;\">\n",
       "      <th>cluster</th>\n",
       "      <th>0</th>\n",
       "      <th>1</th>\n",
       "      <th>2</th>\n",
       "      <th>3</th>\n",
       "      <th>4</th>\n",
       "      <th>5</th>\n",
       "      <th>6</th>\n",
       "      <th>7</th>\n",
       "    </tr>\n",
       "    <tr>\n",
       "      <th>quality</th>\n",
       "      <th></th>\n",
       "      <th></th>\n",
       "      <th></th>\n",
       "      <th></th>\n",
       "      <th></th>\n",
       "      <th></th>\n",
       "      <th></th>\n",
       "      <th></th>\n",
       "    </tr>\n",
       "  </thead>\n",
       "  <tbody>\n",
       "    <tr>\n",
       "      <th>4</th>\n",
       "      <td>2.0</td>\n",
       "      <td>0.0</td>\n",
       "      <td>2.0</td>\n",
       "      <td>0.0</td>\n",
       "      <td>2.0</td>\n",
       "      <td>0.0</td>\n",
       "      <td>0.0</td>\n",
       "      <td>2.0</td>\n",
       "    </tr>\n",
       "    <tr>\n",
       "      <th>5</th>\n",
       "      <td>12.0</td>\n",
       "      <td>16.0</td>\n",
       "      <td>6.0</td>\n",
       "      <td>9.0</td>\n",
       "      <td>19.0</td>\n",
       "      <td>15.0</td>\n",
       "      <td>14.0</td>\n",
       "      <td>3.0</td>\n",
       "    </tr>\n",
       "    <tr>\n",
       "      <th>6</th>\n",
       "      <td>14.0</td>\n",
       "      <td>18.0</td>\n",
       "      <td>22.0</td>\n",
       "      <td>11.0</td>\n",
       "      <td>27.0</td>\n",
       "      <td>13.0</td>\n",
       "      <td>29.0</td>\n",
       "      <td>3.0</td>\n",
       "    </tr>\n",
       "    <tr>\n",
       "      <th>7</th>\n",
       "      <td>4.0</td>\n",
       "      <td>18.0</td>\n",
       "      <td>13.0</td>\n",
       "      <td>0.0</td>\n",
       "      <td>13.0</td>\n",
       "      <td>2.0</td>\n",
       "      <td>3.0</td>\n",
       "      <td>1.0</td>\n",
       "    </tr>\n",
       "    <tr>\n",
       "      <th>8</th>\n",
       "      <td>1.0</td>\n",
       "      <td>1.0</td>\n",
       "      <td>0.0</td>\n",
       "      <td>0.0</td>\n",
       "      <td>3.0</td>\n",
       "      <td>0.0</td>\n",
       "      <td>2.0</td>\n",
       "      <td>0.0</td>\n",
       "    </tr>\n",
       "  </tbody>\n",
       "</table>\n",
       "</div>"
      ],
      "text/plain": [
       "cluster     0     1     2     3     4     5     6    7\n",
       "quality                                               \n",
       "4         2.0   0.0   2.0   0.0   2.0   0.0   0.0  2.0\n",
       "5        12.0  16.0   6.0   9.0  19.0  15.0  14.0  3.0\n",
       "6        14.0  18.0  22.0  11.0  27.0  13.0  29.0  3.0\n",
       "7         4.0  18.0  13.0   0.0  13.0   2.0   3.0  1.0\n",
       "8         1.0   1.0   0.0   0.0   3.0   0.0   2.0  0.0"
      ]
     },
     "execution_count": 88,
     "metadata": {},
     "output_type": "execute_result"
    }
   ],
   "source": [
    "#Displaying the confusion matrix\n",
    "print('Confusion Matrix: Wine Quality vs Cluster Labels')\n",
    "conf_matrix_data = clustering_result.reset_index().pivot(index='quality', columns='cluster', values='c').fillna(0)\n",
    "conf_matrix_data\n"
   ]
  },
  {
   "cell_type": "code",
   "execution_count": 89,
   "metadata": {},
   "outputs": [],
   "source": [
    "# Drop the 'quality' column (the target variable) and scale the data for K-Means\n",
    "X = sample_3.drop(\"quality\", axis=1)\n",
    "\n",
    "# Standardizing the data \n",
    "scaler = StandardScaler()\n",
    "X_scaled = scaler.fit_transform(X)\n",
    "\n",
    "#Implement K-Means\n",
    "kmeans = cluster.KMeans(n_clusters=8, random_state=42)\n",
    "\n",
    "# Fitting the model\n",
    "kmeans.fit(X_scaled)\n",
    "\n",
    "# Get the cluster labels\n",
    "cluster_labels = kmeans.labels_\n",
    "\n"
   ]
  },
  {
   "cell_type": "code",
   "execution_count": 90,
   "metadata": {},
   "outputs": [
    {
     "name": "stdout",
     "output_type": "stream",
     "text": [
      "Inertia (WCSS): 1791.4116424965032\n",
      "Silhouette Score: 0.11997801572419244\n",
      "Davies-Bouldin Index: 1.9040966690273189\n",
      "Calinski-Harabasz Index: 35.128545710715244\n"
     ]
    }
   ],
   "source": [
    "#Evaluating the Model\n",
    "# 1. Inertia (Within-Cluster Sum of Squares)\n",
    "inertia = kmeans.inertia_\n",
    "\n",
    "# 2. Silhouette Score\n",
    "silhouette_avg = silhouette_score(X_scaled, cluster_labels)\n",
    "\n",
    "# 3. Davies-Bouldin Index\n",
    "db_index = davies_bouldin_score(X_scaled, cluster_labels)\n",
    "\n",
    "# 4. Calinski-Harabasz Index\n",
    "ch_index = calinski_harabasz_score(X_scaled, cluster_labels)\n",
    "\n",
    "# Print the evaluation metrics\n",
    "print(f\"Inertia (WCSS): {inertia}\")\n",
    "print(f\"Silhouette Score: {silhouette_avg}\")\n",
    "print(f\"Davies-Bouldin Index: {db_index}\")\n",
    "print(f\"Calinski-Harabasz Index: {ch_index}\")\n"
   ]
  },
  {
   "cell_type": "code",
   "execution_count": 91,
   "metadata": {},
   "outputs": [
    {
     "data": {
      "text/plain": [
       "Text(0, 0.5, 'volatile acidity')"
      ]
     },
     "execution_count": 91,
     "metadata": {},
     "output_type": "execute_result"
    },
    {
     "data": {
      "image/png": "[encoded data removed]",
      "text/plain": [
       "<Figure size 640x480 with 1 Axes>"
      ]
     },
     "metadata": {},
     "output_type": "display_data"
    }
   ],
   "source": [
    "# Visualize the Results using two features\n",
    "# Add cluster labels to the original data for comparison\n",
    "sample_3['cluster'] = cluster_labels\n",
    "\n",
    "# Example: Visualizing clusters based on the first two features (for simplicity)\n",
    "sns.scatterplot(x=sample_3.iloc[:, 0], y=sample_3.iloc[:, 1], hue=sample_3['cluster'], palette='Set1', s=100)\n",
    "plt.title('Cluster Visualization')\n",
    "plt.xlabel('fixed acidity')\n",
    "plt.ylabel('volatile acidity')"
   ]
  },
  {
   "cell_type": "code",
   "execution_count": 92,
   "metadata": {},
   "outputs": [
    {
     "name": "stdout",
     "output_type": "stream",
     "text": [
      "    k        Inertia  Silhouette Score  Accuracy\n",
      "0   1  604132.011223               NaN  0.000000\n",
      "1   2  231657.938261          0.503896  0.000000\n",
      "2   3  148842.521357          0.414759  0.000000\n",
      "3   4  108445.819395          0.386401  0.000000\n",
      "4   5   90530.491375          0.347078  0.000000\n",
      "5   6   77987.606269          0.341612  0.020000\n",
      "6   7   67557.243408          0.338849  0.106667\n",
      "7   8   60384.425539          0.322427  0.156667\n",
      "8   9   54142.701644          0.303411  0.060000\n",
      "9  10   48156.504257          0.326551  0.093333\n"
     ]
    },
    {
     "data": {
      "image/png": "[encoded data removed]",
      "text/plain": [
       "<Figure size 1600x600 with 3 Axes>"
      ]
     },
     "metadata": {},
     "output_type": "display_data"
    }
   ],
   "source": [
    "# Define a range of k values\n",
    "k_values = range(1, 11)\n",
    "\n",
    "# Initialize lists to store the metrics\n",
    "inertia_list = []\n",
    "silhouette_list = []\n",
    "accuracy_list = []\n",
    "\n",
    "# Loop through the k values\n",
    "for k in k_values:\n",
    "    # Fit the KMeans model\n",
    "    model = cluster.KMeans(n_clusters=k, random_state=141234)\n",
    "    cluster_labels = model.fit_predict(X)\n",
    "    \n",
    "    # Calculate inertia\n",
    "    inertia = model.inertia_\n",
    "    inertia_list.append(inertia)\n",
    "    \n",
    "    # Calculate silhouette score\n",
    "    if k > 1:  # Silhouette score is not defined for k=1\n",
    "        silhouette = silhouette_score(X, cluster_labels)\n",
    "        silhouette_list.append(silhouette)\n",
    "    else:\n",
    "        silhouette_list.append(None) \n",
    "    \n",
    "    # Calculate accuracy score\n",
    "    actual_quality = sample_3['quality'].astype(int) \n",
    "    accuracy = accuracy_score(actual_quality, cluster_labels)\n",
    "    accuracy_list.append(accuracy)\n",
    "\n",
    "# Create a DataFrame to store the results\n",
    "results = pd.DataFrame({\n",
    "    'k': k_values,\n",
    "    'Inertia': inertia_list,\n",
    "    'Silhouette Score': silhouette_list,\n",
    "    'Accuracy': accuracy_list\n",
    "})\n",
    "\n",
    "# Display the results\n",
    "print(results)\n",
    "\n",
    "# Step 4: Visualize the results\n",
    "import matplotlib.pyplot as plt\n",
    "\n",
    "plt.figure(figsize=(16, 6))\n",
    "\n",
    "# Plot Inertia\n",
    "plt.subplot(1, 3, 1)\n",
    "plt.plot(results['k'], results['Inertia'], marker='o')\n",
    "plt.title('Inertia vs k')\n",
    "plt.xlabel('Number of Clusters (k)')\n",
    "plt.ylabel('Inertia')\n",
    "plt.xticks(results['k'])\n",
    "\n",
    "# Plot Silhouette Score\n",
    "plt.subplot(1, 3, 2)\n",
    "plt.plot(results['k'][1:], results['Silhouette Score'][1:], marker='o')  # Start from k=2\n",
    "plt.title('Silhouette Score vs k')\n",
    "plt.xlabel('Number of Clusters (k)')\n",
    "plt.ylabel('Silhouette Score')\n",
    "plt.xticks(results['k'])\n",
    "\n",
    "# Plot Accuracy\n",
    "plt.subplot(1, 3, 3)\n",
    "plt.plot(results['k'], results['Accuracy'], marker='o')\n",
    "plt.title('Accuracy vs k')\n",
    "plt.xlabel('Number of Clusters (k)')\n",
    "plt.ylabel('Accuracy')\n",
    "plt.xticks(results['k'])\n",
    "\n",
    "plt.tight_layout()\n",
    "plt.show()"
   ]
  },
  {
   "cell_type": "code",
   "execution_count": 93,
   "metadata": {},
   "outputs": [],
   "source": [
    "#Implement K-Means when cluster =2 for scaled data\n",
    "kmeans = cluster.KMeans(n_clusters=2, random_state=424235)\n",
    "\n",
    "# Fitting the model\n",
    "kmeans.fit(X_scaled)\n",
    "\n",
    "# Get the cluster labels\n",
    "cluster_labels = kmeans.labels_"
   ]
  },
  {
   "cell_type": "code",
   "execution_count": 94,
   "metadata": {},
   "outputs": [
    {
     "name": "stdout",
     "output_type": "stream",
     "text": [
      "k-Means Silhouette Score: 0.3306168356218988\n",
      "k-Means Davies-Bouldin Index: 0.9650408488974906\n",
      "k-Means Calinski-Harabasz Index: 224.39115659559062\n",
      "k-Means Inertia: 2560.798988186942\n"
     ]
    }
   ],
   "source": [
    "#Evaluating the Model\n",
    "# 1. Inertia (Within-Cluster Sum of Squares)\n",
    "inertia_kmeans = kmeans.inertia_\n",
    "\n",
    "# 2. Silhouette Score\n",
    "silhouette_avg_kmeans = silhouette_score(X, cluster_labels)\n",
    "\n",
    "# 3. Davies-Bouldin Index\n",
    "db_index_kmeans = davies_bouldin_score(X, cluster_labels)\n",
    "\n",
    "# 4. Calinski-Harabasz Index\n",
    "ch_index_kmeans = calinski_harabasz_score(X, cluster_labels)\n",
    "\n",
    "print(f\"k-Means Silhouette Score: {silhouette_avg_kmeans}\")\n",
    "print(f\"k-Means Davies-Bouldin Index: {db_index_kmeans}\")\n",
    "print(f\"k-Means Calinski-Harabasz Index: {ch_index_kmeans}\")\n",
    "print(f\"k-Means Inertia: {inertia_kmeans}\")"
   ]
  },
  {
   "cell_type": "code",
   "execution_count": 95,
   "metadata": {},
   "outputs": [
    {
     "data": {
      "image/png": "[encoded data removed]",
      "text/plain": [
       "<Figure size 1200x800 with 1 Axes>"
      ]
     },
     "metadata": {},
     "output_type": "display_data"
    }
   ],
   "source": [
    "import pandas as pd\n",
    "import numpy as np\n",
    "import matplotlib.pyplot as plt\n",
    "import seaborn as sns\n",
    "from sklearn.cluster import KMeans\n",
    "\n",
    "# Load your dataset (assuming `sample_3` is your DataFrame)\n",
    "# sample_3 = pd.read_csv('path_to_your_csv')  # Uncomment and specify your file path\n",
    "\n",
    "# For demonstration, assume `X` is already defined as the features without the 'quality' column\n",
    "X = sample_3.drop(\"quality\", axis=1)\n",
    "\n",
    "# Fit KMeans with k=2\n",
    "kmeans = KMeans(n_clusters=2, random_state=141234)\n",
    "sample_3['cluster'] = kmeans.fit_predict(X)\n",
    "\n",
    "# Get cluster centroids\n",
    "centroids = kmeans.cluster_centers_\n",
    "\n",
    "\n",
    "# Visualizing the clusters\n",
    "plt.figure(figsize=(12, 8))\n",
    "sns.scatterplot(data=sample_3, x='fixed acidity', y='volatile acidity', hue='cluster', palette='viridis', style='quality', markers=['o', 's', 'D', 'P', '*', 'X', 'P', '^'], alpha=0.7)\n",
    "\n",
    "# Plot centroids\n",
    "plt.scatter(centroids[:, 0], centroids[:, 1], c='red', s=200, label='Centroids', marker='X')\n",
    "\n",
    "plt.title('K-Means Clustering with k=2', fontsize=16)\n",
    "plt.xlabel('fixed acidity', fontsize=14)\n",
    "plt.ylabel('volatile acidity', fontsize=14)\n",
    "#plt.ylim(0.9, 1.1)\n",
    "plt.grid()\n",
    "plt.show()\n"
   ]
  },
  {
   "cell_type": "markdown",
   "metadata": {
    "id": "QOY4K_neos9j"
   },
   "source": [
    "## DBSCAN & comparison "
   ]
  },
  {
   "cell_type": "code",
   "execution_count": 97,
   "metadata": {},
   "outputs": [],
   "source": [
    "from sklearn.cluster import DBSCAN\n",
    "from sklearn.neighbors import NearestNeighbors\n",
    "from sklearn.metrics import silhouette_score, davies_bouldin_score, adjusted_rand_score"
   ]
  },
  {
   "cell_type": "code",
   "execution_count": 98,
   "metadata": {},
   "outputs": [],
   "source": [
    "# Drop the 'quality' column (the target variable) and scale the data for K-Means\n",
    "X = sample_3.drop(\"quality\", axis=1)\n",
    "\n",
    "# Standardizing the data \n",
    "scaler = StandardScaler()\n",
    "X_scaled = scaler.fit_transform(X)"
   ]
  },
  {
   "cell_type": "code",
   "execution_count": 99,
   "metadata": {},
   "outputs": [
    {
     "data": {
      "text/html": [
       "<style>#sk-container-id-3 {color: black;background-color: white;}#sk-container-id-3 pre{padding: 0;}#sk-container-id-3 div.sk-toggleable {background-color: white;}#sk-container-id-3 label.sk-toggleable__label {cursor: pointer;display: block;width: 100%;margin-bottom: 0;padding: 0.3em;box-sizing: border-box;text-align: center;}#sk-container-id-3 label.sk-toggleable__label-arrow:before {content: \"▸\";float: left;margin-right: 0.25em;color: #696969;}#sk-container-id-3 label.sk-toggleable__label-arrow:hover:before {color: black;}#sk-container-id-3 div.sk-estimator:hover label.sk-toggleable__label-arrow:before {color: black;}#sk-container-id-3 div.sk-toggleable__content {max-height: 0;max-width: 0;overflow: hidden;text-align: left;background-color: #f0f8ff;}#sk-container-id-3 div.sk-toggleable__content pre {margin: 0.2em;color: black;border-radius: 0.25em;background-color: #f0f8ff;}#sk-container-id-3 input.sk-toggleable__control:checked~div.sk-toggleable__content {max-height: 200px;max-width: 100%;overflow: auto;}#sk-container-id-3 input.sk-toggleable__control:checked~label.sk-toggleable__label-arrow:before {content: \"▾\";}#sk-container-id-3 div.sk-estimator input.sk-toggleable__control:checked~label.sk-toggleable__label {background-color: #d4ebff;}#sk-container-id-3 div.sk-label input.sk-toggleable__control:checked~label.sk-toggleable__label {background-color: #d4ebff;}#sk-container-id-3 input.sk-hidden--visually {border: 0;clip: rect(1px 1px 1px 1px);clip: rect(1px, 1px, 1px, 1px);height: 1px;margin: -1px;overflow: hidden;padding: 0;position: absolute;width: 1px;}#sk-container-id-3 div.sk-estimator {font-family: monospace;background-color: #f0f8ff;border: 1px dotted black;border-radius: 0.25em;box-sizing: border-box;margin-bottom: 0.5em;}#sk-container-id-3 div.sk-estimator:hover {background-color: #d4ebff;}#sk-container-id-3 div.sk-parallel-item::after {content: \"\";width: 100%;border-bottom: 1px solid gray;flex-grow: 1;}#sk-container-id-3 div.sk-label:hover label.sk-toggleable__label {background-color: #d4ebff;}#sk-container-id-3 div.sk-serial::before {content: \"\";position: absolute;border-left: 1px solid gray;box-sizing: border-box;top: 0;bottom: 0;left: 50%;z-index: 0;}#sk-container-id-3 div.sk-serial {display: flex;flex-direction: column;align-items: center;background-color: white;padding-right: 0.2em;padding-left: 0.2em;position: relative;}#sk-container-id-3 div.sk-item {position: relative;z-index: 1;}#sk-container-id-3 div.sk-parallel {display: flex;align-items: stretch;justify-content: center;background-color: white;position: relative;}#sk-container-id-3 div.sk-item::before, #sk-container-id-3 div.sk-parallel-item::before {content: \"\";position: absolute;border-left: 1px solid gray;box-sizing: border-box;top: 0;bottom: 0;left: 50%;z-index: -1;}#sk-container-id-3 div.sk-parallel-item {display: flex;flex-direction: column;z-index: 1;position: relative;background-color: white;}#sk-container-id-3 div.sk-parallel-item:first-child::after {align-self: flex-end;width: 50%;}#sk-container-id-3 div.sk-parallel-item:last-child::after {align-self: flex-start;width: 50%;}#sk-container-id-3 div.sk-parallel-item:only-child::after {width: 0;}#sk-container-id-3 div.sk-dashed-wrapped {border: 1px dashed gray;margin: 0 0.4em 0.5em 0.4em;box-sizing: border-box;padding-bottom: 0.4em;background-color: white;}#sk-container-id-3 div.sk-label label {font-family: monospace;font-weight: bold;display: inline-block;line-height: 1.2em;}#sk-container-id-3 div.sk-label-container {text-align: center;}#sk-container-id-3 div.sk-container {/* jupyter's `normalize.less` sets `[hidden] { display: none; }` but bootstrap.min.css set `[hidden] { display: none !important; }` so we also need the `!important` here to be able to override the default hidden behavior on the sphinx rendered scikit-learn.org. See: https://github.com/scikit-learn/scikit-learn/issues/21755 */display: inline-block !important;position: relative;}#sk-container-id-3 div.sk-text-repr-fallback {display: none;}</style><div id=\"sk-container-id-3\" class=\"sk-top-container\"><div class=\"sk-text-repr-fallback\"><pre>DBSCAN(eps=0.3, min_samples=3)</pre><b>In a Jupyter environment, please rerun this cell to show the HTML representation or trust the notebook. <br />On GitHub, the HTML representation is unable to render, please try loading this page with nbviewer.org.</b></div><div class=\"sk-container\" hidden><div class=\"sk-item\"><div class=\"sk-estimator sk-toggleable\"><input class=\"sk-toggleable__control sk-hidden--visually\" id=\"sk-estimator-id-3\" type=\"checkbox\" checked><label for=\"sk-estimator-id-3\" class=\"sk-toggleable__label sk-toggleable__label-arrow\">DBSCAN</label><div class=\"sk-toggleable__content\"><pre>DBSCAN(eps=0.3, min_samples=3)</pre></div></div></div></div></div>"
      ],
      "text/plain": [
       "DBSCAN(eps=0.3, min_samples=3)"
      ]
     },
     "execution_count": 99,
     "metadata": {},
     "output_type": "execute_result"
    }
   ],
   "source": [
    "# DBSCAN algorithm\n",
    "dbscan = DBSCAN(eps=0.3, min_samples=3) \n",
    "dbscan.fit(X_scaled)"
   ]
  },
  {
   "cell_type": "code",
   "execution_count": 100,
   "metadata": {},
   "outputs": [
    {
     "data": {
      "image/png": "[encoded data removed]",
      "text/plain": [
       "<Figure size 640x480 with 1 Axes>"
      ]
     },
     "metadata": {},
     "output_type": "display_data"
    }
   ],
   "source": [
    "# Using k distance graph to find the eps value\n",
    "# Fit nearest neighbors\n",
    "neighbors = NearestNeighbors(n_neighbors=4)\n",
    "neighbors_fit = neighbors.fit(X_scaled)\n",
    "distances, indices = neighbors_fit.kneighbors(X_scaled)\n",
    "\n",
    "# Sort distances and plot\n",
    "distances = np.sort(distances[:, 3], axis=0) \n",
    "distances = distances[::-1]\n",
    "plt.plot(distances)\n",
    "plt.xlabel('Data Points sorted by distance')\n",
    "plt.ylabel('Epsilon')\n",
    "plt.show()"
   ]
  },
  {
   "cell_type": "code",
   "execution_count": 101,
   "metadata": {},
   "outputs": [],
   "source": [
    "# rerunning the model\n",
    "dbs_2 = cluster.DBSCAN(eps=3.5,metric='manhattan',min_samples=4)\n",
    "dbs_fit = dbs_2.fit(X_scaled)\n",
    "labels_2 = dbs_fit.labels_\n"
   ]
  },
  {
   "cell_type": "code",
   "execution_count": 102,
   "metadata": {},
   "outputs": [
    {
     "data": {
      "text/plain": [
       "array([-1, -1, -1, -1, -1, -1, -1, -1, -1, -1, -1, -1, -1, -1, -1, -1, -1,\n",
       "       -1, -1, -1, -1, -1, -1, -1, -1, -1, -1, -1, -1, -1, -1, -1, -1, -1,\n",
       "       -1, -1, -1, -1, -1, -1, -1, -1, -1, -1, -1, -1, -1, -1, -1, -1, -1,\n",
       "       -1, -1, -1, -1, -1, -1, -1, -1, -1, -1, -1, -1, -1, -1,  0, -1, -1,\n",
       "       -1, -1, -1, -1, -1, -1, -1, -1, -1,  0, -1, -1, -1, -1, -1, -1, -1,\n",
       "       -1, -1, -1, -1, -1, -1, -1, -1, -1, -1, -1, -1, -1, -1, -1, -1, -1,\n",
       "       -1, -1, -1, -1, -1, -1, -1, -1, -1,  0, -1, -1, -1, -1, -1, -1, -1,\n",
       "       -1, -1, -1, -1, -1, -1, -1, -1, -1, -1, -1, -1, -1, -1, -1, -1,  1,\n",
       "       -1, -1, -1, -1, -1, -1, -1, -1, -1, -1, -1, -1, -1, -1, -1, -1, -1,\n",
       "       -1, -1, -1, -1, -1, -1, -1, -1, -1, -1, -1, -1, -1, -1, -1, -1, -1,\n",
       "       -1, -1, -1, -1, -1, -1, -1, -1, -1, -1, -1, -1, -1, -1, -1, -1, -1,\n",
       "       -1,  0, -1, -1, -1, -1, -1, -1, -1, -1, -1, -1, -1, -1, -1, -1, -1,\n",
       "       -1, -1, -1, -1, -1, -1, -1, -1, -1, -1, -1, -1,  1, -1, -1, -1, -1,\n",
       "       -1, -1, -1, -1, -1, -1, -1, -1, -1, -1, -1, -1, -1, -1, -1, -1, -1,\n",
       "       -1, -1,  1, -1, -1, -1, -1,  0, -1, -1, -1, -1, -1, -1, -1, -1, -1,\n",
       "        1, -1, -1, -1, -1, -1, -1, -1, -1, -1, -1, -1, -1, -1, -1, -1, -1,\n",
       "       -1, -1, -1, -1, -1, -1, -1, -1, -1, -1, -1, -1, -1, -1, -1, -1, -1,\n",
       "       -1, -1, -1, -1, -1, -1, -1, -1, -1, -1, -1])"
      ]
     },
     "execution_count": 102,
     "metadata": {},
     "output_type": "execute_result"
    }
   ],
   "source": [
    "labels_2"
   ]
  },
  {
   "cell_type": "code",
   "execution_count": 103,
   "metadata": {},
   "outputs": [
    {
     "name": "stdout",
     "output_type": "stream",
     "text": [
      "Silhouette Score: -0.28686010749753765\n",
      "Davies-Bouldin Index: 1.8203131810492768\n",
      "Calinski-Harabasz Index (without noise): 43.274804162321\n",
      "Adjusted Rand Index: 0.0014870560209963438\n"
     ]
    }
   ],
   "source": [
    "\n",
    "# Silhouette Score\n",
    "silhouette = silhouette_score(X_scaled, labels_2)\n",
    "print(f\"Silhouette Score: {silhouette}\")\n",
    "\n",
    "# Davies-Bouldin Index\n",
    "db_index = davies_bouldin_score(X_scaled, labels_2)\n",
    "print(f\"Davies-Bouldin Index: {db_index}\")\n",
    "\n",
    "#Calinski-Harabasz Index\n",
    "mask = labels_2 != -1  # Exclude noise points\n",
    "ch_index = calinski_harabasz_score(X_scaled[mask], labels_2[mask])\n",
    "print(f\"Calinski-Harabasz Index (without noise): {ch_index}\")\n",
    "\n",
    "actual_label = sample_3['quality'] \n",
    "ari = adjusted_rand_score(actual_label, labels_2)\n",
    "print(f\"Adjusted Rand Index: {ari}\")\n"
   ]
  },
  {
   "cell_type": "code",
   "execution_count": 104,
   "metadata": {},
   "outputs": [],
   "source": [
    "X_scaled_df = pd.DataFrame(X_scaled, columns=['fixed acidity', 'volatile acidity', 'citric acid', 'residual sugar',\n",
    "       'chlorides', 'free sulfur dioxide', 'total sulfur dioxide', 'density',\n",
    "       'pH', 'sulphates', 'alcohol', 'cluster']) \n"
   ]
  },
  {
   "cell_type": "code",
   "execution_count": 105,
   "metadata": {},
   "outputs": [
    {
     "data": {
      "text/html": [
       "<div>\n",
       "<style scoped>\n",
       "    .dataframe tbody tr th:only-of-type {\n",
       "        vertical-align: middle;\n",
       "    }\n",
       "\n",
       "    .dataframe tbody tr th {\n",
       "        vertical-align: top;\n",
       "    }\n",
       "\n",
       "    .dataframe thead th {\n",
       "        text-align: right;\n",
       "    }\n",
       "</style>\n",
       "<table border=\"1\" class=\"dataframe\">\n",
       "  <thead>\n",
       "    <tr style=\"text-align: right;\">\n",
       "      <th></th>\n",
       "      <th></th>\n",
       "      <th>c</th>\n",
       "    </tr>\n",
       "    <tr>\n",
       "      <th>cluster</th>\n",
       "      <th>quality</th>\n",
       "      <th></th>\n",
       "    </tr>\n",
       "  </thead>\n",
       "  <tbody>\n",
       "    <tr>\n",
       "      <th rowspan=\"5\" valign=\"top\">-1</th>\n",
       "      <th>4</th>\n",
       "      <td>8</td>\n",
       "    </tr>\n",
       "    <tr>\n",
       "      <th>5</th>\n",
       "      <td>90</td>\n",
       "    </tr>\n",
       "    <tr>\n",
       "      <th>6</th>\n",
       "      <td>134</td>\n",
       "    </tr>\n",
       "    <tr>\n",
       "      <th>7</th>\n",
       "      <td>52</td>\n",
       "    </tr>\n",
       "    <tr>\n",
       "      <th>8</th>\n",
       "      <td>7</td>\n",
       "    </tr>\n",
       "    <tr>\n",
       "      <th rowspan=\"2\" valign=\"top\">0</th>\n",
       "      <th>5</th>\n",
       "      <td>3</td>\n",
       "    </tr>\n",
       "    <tr>\n",
       "      <th>6</th>\n",
       "      <td>2</td>\n",
       "    </tr>\n",
       "    <tr>\n",
       "      <th rowspan=\"3\" valign=\"top\">1</th>\n",
       "      <th>5</th>\n",
       "      <td>1</td>\n",
       "    </tr>\n",
       "    <tr>\n",
       "      <th>6</th>\n",
       "      <td>1</td>\n",
       "    </tr>\n",
       "    <tr>\n",
       "      <th>7</th>\n",
       "      <td>2</td>\n",
       "    </tr>\n",
       "  </tbody>\n",
       "</table>\n",
       "</div>"
      ],
      "text/plain": [
       "                   c\n",
       "cluster quality     \n",
       "-1      4          8\n",
       "        5         90\n",
       "        6        134\n",
       "        7         52\n",
       "        8          7\n",
       " 0      5          3\n",
       "        6          2\n",
       " 1      5          1\n",
       "        6          1\n",
       "        7          2"
      ]
     },
     "execution_count": 105,
     "metadata": {},
     "output_type": "execute_result"
    }
   ],
   "source": [
    "#The cluster labels of X are predicted by taking X as input.\n",
    "X_scaled_df[\"cluster\"] = labels_2\n",
    "\n",
    "# Adding back the quality column to compare the predictions\n",
    "X_scaled_df[\"quality\"] = sample_3.quality.values\n",
    "X_scaled_df\n",
    "\n",
    "#placeholder for a comparison count\n",
    "X_scaled_df[\"c\"] = \"count\"\n",
    "\n",
    "#Creating a comparison matrix\n",
    "clustering_result = X_scaled_df[[\"cluster\", \"quality\", \"c\"]].groupby([\"cluster\",\"quality\"]).agg(\"count\")\n",
    "clustering_result\n"
   ]
  },
  {
   "cell_type": "code",
   "execution_count": 214,
   "metadata": {},
   "outputs": [
    {
     "data": {
      "image/png": "[encoded data removed]",
      "text/plain": [
       "<Figure size 640x480 with 1 Axes>"
      ]
     },
     "metadata": {},
     "output_type": "display_data"
    }
   ],
   "source": [
    "#Visualising the clusters\n",
    "from sklearn.decomposition import PCA\n",
    "import matplotlib.pyplot as plt\n",
    "\n",
    "pca = PCA(n_components=2)\n",
    "X_pca = pca.fit_transform(X_scaled)\n",
    "\n",
    "plt.scatter(X_pca[:, 0], X_pca[:, 1], c=labels_2, cmap='viridis')\n",
    "plt.title('DBSCAN Clustering Results')\n",
    "plt.show()\n"
   ]
  },
  {
   "cell_type": "code",
   "execution_count": 107,
   "metadata": {},
   "outputs": [
    {
     "data": {
      "text/html": [
       "<div>\n",
       "<style scoped>\n",
       "    .dataframe tbody tr th:only-of-type {\n",
       "        vertical-align: middle;\n",
       "    }\n",
       "\n",
       "    .dataframe tbody tr th {\n",
       "        vertical-align: top;\n",
       "    }\n",
       "\n",
       "    .dataframe thead th {\n",
       "        text-align: right;\n",
       "    }\n",
       "</style>\n",
       "<table border=\"1\" class=\"dataframe\">\n",
       "  <thead>\n",
       "    <tr style=\"text-align: right;\">\n",
       "      <th></th>\n",
       "      <th>Method</th>\n",
       "      <th>Silhouette Score</th>\n",
       "      <th>Davies-Bouldin Index</th>\n",
       "      <th>Calinski-Harabasz Index</th>\n",
       "    </tr>\n",
       "  </thead>\n",
       "  <tbody>\n",
       "    <tr>\n",
       "      <th>0</th>\n",
       "      <td>k-Means</td>\n",
       "      <td>0.330617</td>\n",
       "      <td>0.965041</td>\n",
       "      <td>224.391157</td>\n",
       "    </tr>\n",
       "    <tr>\n",
       "      <th>1</th>\n",
       "      <td>DBSCAN</td>\n",
       "      <td>-0.286860</td>\n",
       "      <td>1.820313</td>\n",
       "      <td>43.274804</td>\n",
       "    </tr>\n",
       "  </tbody>\n",
       "</table>\n",
       "</div>"
      ],
      "text/plain": [
       "    Method  Silhouette Score  Davies-Bouldin Index  Calinski-Harabasz Index\n",
       "0  k-Means          0.330617              0.965041               224.391157\n",
       "1   DBSCAN         -0.286860              1.820313                43.274804"
      ]
     },
     "execution_count": 107,
     "metadata": {},
     "output_type": "execute_result"
    }
   ],
   "source": [
    "#COmparing K means and DBSCAN\n",
    "results = pd.DataFrame({\n",
    "    \"Method\": [\"k-Means\", \"DBSCAN\"],\n",
    "    \"Silhouette Score\": [silhouette_avg_kmeans, silhouette],\n",
    "    \"Davies-Bouldin Index\": [db_index_kmeans, db_index],\n",
    "    \"Calinski-Harabasz Index\": [ch_index_kmeans, ch_index],\n",
    "})\n",
    "results"
   ]
  },
  {
   "cell_type": "code",
   "execution_count": 108,
   "metadata": {},
   "outputs": [
    {
     "data": {
      "image/png": "[encoded data removed]",
      "text/plain": [
       "<Figure size 1500x500 with 3 Axes>"
      ]
     },
     "metadata": {},
     "output_type": "display_data"
    }
   ],
   "source": [
    "# Plotting metrics in separate graphs\n",
    "metrics = [\"Silhouette Score\", \"Davies-Bouldin Index\", \"Calinski-Harabasz Index\"]\n",
    "\n",
    "plt.figure(figsize=(15, 5))\n",
    "\n",
    "for i, metric in enumerate(metrics, start=1):\n",
    "    plt.subplot(1, 3, i)\n",
    "    plt.bar(results[\"Method\"], results[metric], color=['blue', 'orange'])\n",
    "    plt.title(metric)\n",
    "    plt.ylabel('Metric Value')\n",
    "    plt.axhline(0)\n",
    "\n",
    "plt.tight_layout()\n",
    "plt.show()"
   ]
  }
 ],
 "metadata": {
  "colab": {
   "collapsed_sections": [],
   "name": "assignment1_TEMPLATE.ipynb",
   "provenance": [],
   "toc_visible": true
  },
  "kernelspec": {
   "display_name": "Python 3 (ipykernel)",
   "language": "python",
   "name": "python3"
  },
  "language_info": {
   "codemirror_mode": {
    "name": "ipython",
    "version": 3
   },
   "file_extension": ".py",
   "mimetype": "text/x-python",
   "name": "python",
   "nbconvert_exporter": "python",
   "pygments_lexer": "ipython3",
   "version": "3.11.7"
  }
 },
 "nbformat": 4,
 "nbformat_minor": 4
}
